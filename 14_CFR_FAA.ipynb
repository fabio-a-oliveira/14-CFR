{
  "nbformat": 4,
  "nbformat_minor": 5,
  "metadata": {
    "kernelspec": {
      "display_name": "Python 3",
      "language": "python",
      "name": "python3"
    },
    "language_info": {
      "codemirror_mode": {
        "name": "ipython",
        "version": 3
      },
      "file_extension": ".py",
      "mimetype": "text/x-python",
      "name": "python",
      "nbconvert_exporter": "python",
      "pygments_lexer": "ipython3",
      "version": "3.8.5"
    },
    "colab": {
      "name": "14-CFR-FAA.ipynb",
      "provenance": [],
      "collapsed_sections": [],
      "toc_visible": true
    },
    "accelerator": "GPU"
  },
  "cells": [
    {
      "cell_type": "markdown",
      "metadata": {
        "id": "8NvmokS8LsmH"
      },
      "source": [
        "# Introduction\n",
        "\n",
        "This notebook contains a variety of models that tackle the problem of creating a character-based language-model out of the full set of FAA regulations. The final and best performing model is then used to generate new text in the style of the corpus of regulations it has been trained on - **a new regulations generator!**\n",
        "\n",
        "The FAA is the US federal agency responsible for regulating the entire civil aviation sector in the country. It oversees everything from aircraft certification to air traffic control, airmen qualifications, flight operations, aircraft maintenance and much more.\n",
        "\n",
        "In this project, we download the full set of regulations under the FAA responsibility directly from the e-CFR (electronic Code of Federal Regulations). The .xml file is processed and split into a _train_, a _validation_ and a _test_ .txt files, which are then used to train and evaluate a Recurrent Neural Network model that receives a sequence of characters as input and outputs a prediction for the next character in the sequence.\n",
        "\n",
        "Here are a few features that are explored in the sections below:\n",
        "\n",
        "* Human performance is evaluated as a benchmark by presenting a series of short sequences of text and requesting a guess as to what would be the next character. Upon trying it for a few hundred attemps, I was able to correctly guess the next character around 65% of the times.\n",
        "\n",
        "* A _tokenizer_ object is used to create a dictionary with every character found in the text corpus. This dictionary is then used to feed into two different encoding approaches:   \n",
        "    1. One-hot encoding, in which a vector of the same size as the dictionary is created for each input and the position corresponding to the character in the input is set to 1, while all others are set to 0;\n",
        "    2. Character embedding, in which a trainable dense representation of the characters is created, with a dimension smaller than the size of the dictionary.\n",
        "\n",
        "* A function is created to prepare the dataset according to parameters such as the chosen encoding, batch size, sequence length and the statefulness status of the RNN.\n",
        "\n",
        "* A model with _null_ input (every input character set to zero) is created in order to set the performance benchmark and determine the prevalence of each of the characters in the dictionary.\n",
        "\n",
        "* A simple one-to-one (non-recurrent) model is also trained as a benchmark.\n",
        "\n",
        "* Different types of recurrent units are experimented with: the SimpleRNN, GRU and LSTM built-in units from _keras_, as well as custom GRU and LSTM units paired with a layer normalization layer.\n",
        "\n",
        "* The length of the sequences to which each instance of the RNN is exposed is carefully chosen (together with the batch size) to maximize the sequence length (so the network can try and learn longer relationships and patterns), while respecting memory restrictions and a reasonable training time.\n",
        "\n",
        "* The final and best performing model is composed of a stack of 3 GRUs with 580 units, with layer normalization and a dense sofmax layer on top, regularized with dropout (both vertical and horizontal), with a sequence length of 512 characters. The RNN is configured as _stateful_, meaning that the memory cells are not erased after each gradient descent iteration.\n",
        "\n",
        "* With the _stateful_ configuration, the RNN can propagate information indefinetely. However, because it was trained with a sequence length of 512, backpropagation is not able to_teach_ the network to actively learn to preserve longer patterns. In other words, the network _stores_ patterns in longer sequences, but it was not taught to _actively memorize_ patterns that might be useful more than 512 characters in the future.\n",
        "\n",
        "* Every one of the models used in the work are character-based. At this time, there were no experiments with word embeddings, which could potentially have a dramatic improvement in performance. Nevertheless, the results are quite remarkable considering that the model has no prior knowledge of the _semantics_ of the text whatsoever.\n",
        "\n",
        "Finally, you are encouraged to use this code any way you want. You _**are not**_ encouraged to try to train any of these models without a GPU!"
      ],
      "id": "8NvmokS8LsmH"
    },
    {
      "cell_type": "markdown",
      "metadata": {
        "id": "aqLiPB2mwyID"
      },
      "source": [
        "# Setup"
      ],
      "id": "aqLiPB2mwyID"
    },
    {
      "cell_type": "markdown",
      "metadata": {
        "id": "9lyIIS88fvN6"
      },
      "source": [
        "## Import packages\n",
        "\n",
        "Besides the usual suspects, we use the _xml.etree.ElementTree_ Python model to process the .xml file obtained from the e-CFR."
      ],
      "id": "9lyIIS88fvN6"
    },
    {
      "cell_type": "code",
      "metadata": {
        "id": "fF4sWUTrfvOA"
      },
      "source": [
        "import numpy as np\n",
        "import tensorflow as tf\n",
        "import tensorflow.keras as keras\n",
        "import matplotlib.pyplot as plt\n",
        "\n",
        "import xml.etree.ElementTree as ET\n",
        "from os import listdir, mkdir, getcwd, chdir\n",
        "from os.path import join\n",
        "\n",
        "import time\n",
        "import json\n",
        "import pickle"
      ],
      "id": "fF4sWUTrfvOA",
      "execution_count": null,
      "outputs": []
    },
    {
      "cell_type": "markdown",
      "metadata": {
        "id": "JxundJDzfvOG"
      },
      "source": [
        "##Download and split data\n",
        "* The .xml file is downloaded directly from the e-CFR website using the _wget_ command and is saved to the _dataset_ directory.\n",
        "\n",
        "The file is then processed with the _xml.etree.ElementTree_ module. Not all volumes of Title 14 of the Code of Federal Regulations are related to civil aviation (there are also DOT and NASA volumes), so they are not saved in the dataset.\n",
        "\n",
        "The full text is split into a _train_, a _validation_ and a _test_ sets in a proportion of 98/1/1%. The code also allows for a _trash_ file to be created to allow for some experimentation with smaller datasets.\n",
        "\n",
        "The division is done section by section, so that paragraphs are not split during the partitioning of the dataset."
      ],
      "id": "JxundJDzfvOG"
    },
    {
      "cell_type": "code",
      "metadata": {
        "colab": {
          "base_uri": "https://localhost:8080/"
        },
        "id": "mf_UXJjYuUqx",
        "outputId": "96baf391-f9b7-49b9-a72f-92d90465bb21"
      },
      "source": [
        "if 'dataset' not in listdir():\n",
        "  mkdir('dataset')\n",
        "\n",
        "working_directory = getcwd()\n",
        "chdir(join(working_directory, 'dataset'))\n",
        "!wget https://www.govinfo.gov/bulkdata/ECFR/title-14/ECFR-title14.xml\n",
        "chdir(working_directory)"
      ],
      "id": "mf_UXJjYuUqx",
      "execution_count": null,
      "outputs": [
        {
          "output_type": "stream",
          "text": [
            "--2021-03-27 14:16:55--  https://www.govinfo.gov/bulkdata/ECFR/title-14/ECFR-title14.xml\n",
            "Resolving www.govinfo.gov (www.govinfo.gov)... 104.16.165.242, 104.16.164.242, 2606:4700::6810:a4f2, ...\n",
            "Connecting to www.govinfo.gov (www.govinfo.gov)|104.16.165.242|:443... connected.\n",
            "HTTP request sent, awaiting response... 200 OK\n",
            "Length: 16492972 (16M) [text/xml]\n",
            "Saving to: ‘ECFR-title14.xml.3’\n",
            "\n",
            "ECFR-title14.xml.3  100%[===================>]  15.73M   845KB/s    in 19s     \n",
            "\n",
            "2021-03-27 14:17:15 (829 KB/s) - ‘ECFR-title14.xml.3’ saved [16492972/16492972]\n",
            "\n"
          ],
          "name": "stdout"
        }
      ]
    },
    {
      "cell_type": "code",
      "metadata": {
        "id": "Nuat1tmQfvOL"
      },
      "source": [
        "# set the random seed for the train/valid/test/trash split\n",
        "np.random.seed(20210228)\n",
        "\n",
        "# access the unprocessed xml file\n",
        "filepath = join('dataset', 'ECFR-title14.xml') # file already fetched from https://www.govinfo.gov/bulkdata/ECFR/title-14/ECFR-title14.xml\n",
        "tree = ET.parse(filepath) # set up a xml tree by parsing the file\n",
        "root = tree.getroot() # get a reference to the tree root\n",
        "\n",
        "# create new files for each partition\n",
        "train = open(join('dataset','ECFR-title14-train.txt'), 'w', encoding='utf-8')\n",
        "valid = open(join('dataset','ECFR-title14-valid.txt'), 'w', encoding='utf-8')\n",
        "test = open(join('dataset','ECFR-title14-test.txt'), 'w', encoding='utf-8')\n",
        "trash = open(join('dataset', 'trash.txt'), 'w', encoding='utf-8')\n",
        "\n",
        "# set up train/valid/test split scheme\n",
        "partitions = np.array(['train', 'valid', 'test', 'trash'])\n",
        "next_partition = partitions[0]\n",
        "split_proportions = np.array([.98, .01, .01, 0]) # train, valid, test, trash\n",
        "\n",
        "# iterate over each element of the xml tree\n",
        "for element in root.iter():\n",
        "    # stop when DoT part is reached\n",
        "    if element.tag == 'DIV1':\n",
        "        if element.attrib['N'] == '4':\n",
        "            break \n",
        "        # if reached a new section\n",
        "    if element.tag == 'DIV8':\n",
        "        if next_partition == 'train':\n",
        "            [train.write(line) for line in element.itertext() if line[0] != '\\n']\n",
        "        elif next_partition == 'valid':\n",
        "            [valid.write(line) for line in element.itertext() if line[0] != '\\n']\n",
        "        elif next_partition == 'test':\n",
        "            [test.write(line) for line in element.itertext() if line[0] != '\\n']\n",
        "        elif next_partition == 'trash':\n",
        "            [trash.write(line) for line in element.itertext() if line[0] != '\\n']\n",
        "        next_partition = np.random.choice(partitions, p = split_proportions)\n",
        "\n",
        "# close the newly created files\n",
        "train.close()\n",
        "valid.close()\n",
        "test.close()\n",
        "trash.close()"
      ],
      "id": "Nuat1tmQfvOL",
      "execution_count": null,
      "outputs": []
    },
    {
      "cell_type": "markdown",
      "metadata": {
        "id": "X-d4WO8EfvOV"
      },
      "source": [
        "## Set up the datasets\n",
        "\n",
        "The function _make_dataset_ sets up each of the partitions in a _Dataset_ object from the _TensorFlow_ _data_ API. The datasets are batched according the the selection of the sequence length and batch size.\n",
        "\n",
        "A few different modes are also implemented, depending on the type of model that will be used. The shape of the inputs is dependent on whether they will be fed into a dense non-recurrent network, a recurrent network with one-hot encoding or character embedding, or a stateful recurrent network.\n",
        "\n",
        "The preparation of the dataset for use with the stateful model is particularly demanding. It is fundamental to make that each instance of the network is fed always fed with a sequence that is the continuation of the previous sequence. When doing training with multiple batches, this requires batching and interleaving the pieces in a very particular order."
      ],
      "id": "X-d4WO8EfvOV"
    },
    {
      "cell_type": "code",
      "metadata": {
        "id": "T4C5VQRWfvOW"
      },
      "source": [
        "def make_dataset(partition, tokenizer, sequence_length = None, batch_size = 16, dummy = False, batching_mode = 'regular'):\n",
        "    \n",
        "    assert batching_mode in ['regular', 'recurrent_encoding', 'recurrent_embedding', 'stateful_encoding']\n",
        "\n",
        "    # get dataset as list of sequences of tokens\n",
        "    with open(join('dataset', 'ECFR-title14-' + partition + '.txt'), encoding='utf-8') as file:\n",
        "        sequences = tokenizer.texts_to_sequences(file)\n",
        "    \n",
        "    # make single stream of tokens for the entire dataset\n",
        "    dataset = [] \n",
        "    for paragraph in sequences:\n",
        "        dataset += paragraph\n",
        "    \n",
        "    # get x and y from the full sequence\n",
        "    dataset = np.array(dataset)\n",
        "    y = tf.data.Dataset.from_tensor_slices(dataset[1:])\n",
        "    \n",
        "    # in case of a dummy dataset (x is all null)\n",
        "    if dummy == True:  # empty inputs in order to test setup\n",
        "        x = tf.data.Dataset.from_tensor_slices(np.zeros_like(dataset[:-1]))\n",
        "    else:\n",
        "        x = tf.data.Dataset.from_tensor_slices(dataset[:-1])\n",
        "    \n",
        "    # zip inputs and labels into tuples\n",
        "    if batching_mode == 'regular': # dataset will not be batched into sequences (for simple NN)\n",
        "        dataset = tf.data.Dataset.zip((x,y))\n",
        "        dataset = dataset.batch(batch_size)\n",
        "    elif batching_mode == 'recurrent_encoding': # will be batched in individual entries, then sequences, then batches\n",
        "        dataset = tf.data.Dataset.zip((x,y))\n",
        "        dataset = dataset.batch(1)\n",
        "        dataset = dataset.batch(sequence_length, drop_remainder = True)\n",
        "        dataset = dataset.batch(batch_size, drop_remainder = True)\n",
        "    elif batching_mode == 'recurrent_embedding': # will be batched into sequences, then batches\n",
        "        dataset = tf.data.Dataset.zip((x,y))\n",
        "        dataset = dataset.batch(sequence_length, drop_remainder = True)\n",
        "        dataset = dataset.batch(batch_size, drop_remainder = True)\n",
        "    elif batching_mode == 'stateful_encoding': # will be batch so there is a stream of characters from a few longer sequences, compatible with stateful RNN\n",
        "        \n",
        "        partition_length = len(dataset)\n",
        "\n",
        "        # batch_size = number of RNN instances, each seeing a piece from a different paragraph\n",
        "        num_paragraphs = batch_size # different name for the same thing\n",
        "        paragraph_length = partition_length // num_paragraphs # characters in each of the batch_size paragraphs\n",
        "        # sequence_length = number of characters in a sequence = number of repetitions of the RNN stack per instance\n",
        "        sequences_per_paragraph = paragraph_length // sequence_length # number of steps to finish paragraph = steps per epoch\n",
        "        \n",
        "        def map_fn(paragraph):\n",
        "            return tf.data.Dataset.from_tensor_slices(paragraph).batch(sequence_length, drop_remainder=True)\n",
        "        \n",
        "        x = x.batch(1)\n",
        "        x = x.batch(paragraph_length, drop_remainder = True)\n",
        "        x = x.interleave(map_fn, cycle_length = num_paragraphs)\n",
        "        x = x.batch(batch_size, drop_remainder = True)\n",
        "        \n",
        "        y = y.batch(1)\n",
        "        y = y.batch(paragraph_length, drop_remainder = True)\n",
        "        y = y.interleave(map_fn, cycle_length = num_paragraphs)\n",
        "        y = y.batch(batch_size, drop_remainder = True)\n",
        "        \n",
        "        dataset = tf.data.Dataset.zip((x, y))\n",
        "      \n",
        "    dataset = dataset.prefetch(1)\n",
        "    \n",
        "    return dataset"
      ],
      "id": "T4C5VQRWfvOW",
      "execution_count": null,
      "outputs": []
    },
    {
      "cell_type": "markdown",
      "metadata": {
        "id": "TVPdD1A3WGUv"
      },
      "source": [
        "## Create a tokenizer instance and fit to train set\n",
        "\n",
        "A _tokenizer_ object is then fit to the corpus of text. If will be provided as input to the _make_dataset_ function and will be used to translate the characters into integer numbers according the a dictionary constructed via the _fit_on_texts()_ method."
      ],
      "id": "TVPdD1A3WGUv"
    },
    {
      "cell_type": "code",
      "metadata": {
        "id": "ylFQtS5lfvO9"
      },
      "source": [
        "tokenizer = keras.preprocessing.text.Tokenizer(char_level = True, lower = False, filters = '')\n",
        "\n",
        "for partition in ['train', 'valid', 'test']:\n",
        "    file = open(join('dataset', 'ECFR-title14-'+ partition + '.txt'), encoding = 'utf-8')\n",
        "    tokenizer.fit_on_texts(file)\n",
        "    file.close()"
      ],
      "id": "ylFQtS5lfvO9",
      "execution_count": null,
      "outputs": []
    },
    {
      "cell_type": "markdown",
      "metadata": {
        "id": "wuUINq6ifvVD"
      },
      "source": [
        "## Test the dataset for stateful RNN\n",
        "\n",
        "This piece of code displays an excerpt of the dataset when prepared for training a stateful RNN. In this setup, the dataset is split into multiple batches of 4 sequences of length 48 each.\n",
        "\n",
        "Here we see 6 of this batches. Notice that the first sequence of the first, second, third etc batches are pieces of the same sentence. The same goes for the second sequence and so on. This means that each instance of the RNN will be trained with a continuation of the sentence it just saw in the previous gradient descent step."
      ],
      "id": "wuUINq6ifvVD"
    },
    {
      "cell_type": "code",
      "metadata": {
        "id": "ybJkqy2tfvVE",
        "colab": {
          "base_uri": "https://localhost:8080/"
        },
        "outputId": "228ec365-0297-421a-f190-a9ff676f9135"
      },
      "source": [
        "sequence_length = 48\n",
        "batch_size = 4\n",
        "\n",
        "train = make_dataset('train', tokenizer, sequence_length = sequence_length, \n",
        "                     batch_size = batch_size, batching_mode = 'stateful_encoding')\n",
        "\n",
        "for item in train.take(6):\n",
        "    for sequence in range(len(item[0].numpy())):\n",
        "        text = tokenizer.sequences_to_texts([item[0].numpy()[sequence].squeeze()])[0][::2]\n",
        "        text = text.replace('\\n', '')\n",
        "        print(text)\n",
        "    print()"
      ],
      "id": "ybJkqy2tfvVE",
      "execution_count": null,
      "outputs": [
        {
          "output_type": "stream",
          "text": [
            "§ 1.1   General definitions.Link to an amendment\n",
            "otor r.p.m. for which certification is requested\n",
            " replacement can be made. (4) If the aircraft i\n",
            "storage medium. The parameters specified in appe\n",
            "\n",
            " published at 86 FR 4503, Jan. 15, 2021.Link to \n",
            "; and (4) For power-off operations, under any c\n",
            "s operated for hire, one electric landing light.\n",
            "ndix D of this part must be recorded within the \n",
            "\n",
            "an extension of the above amendment published at\n",
            "ondition of speed, and rotor r.p.m. for which ce\n",
            " (5) An adequate source of electrical energy fo\n",
            "ranges, accuracies, resolutions and sampling int\n",
            "\n",
            " 86 FR 13629, Mar. 10, 2021.As used in Subchapte\n",
            "rtification is requested that is attainable with\n",
            "r all installed electrical and radio equipment. \n",
            "ervals specified. For the purpose of this sectio\n",
            "\n",
            "rs A through K of this chapter, unless the conte\n",
            " the controls rigged in accordance with the appr\n",
            "(6) One spare set of fuses, or three spare fuse\n",
            "n, “manufactured” means the point in time at whi\n",
            "\n",
            "xt requires otherwise: Administrator means the \n",
            "oved rigging instructions and tolerances; (b) B\n",
            "s of each kind required, that are accessible to \n",
            "ch the airplane inspection acceptance records re\n",
            "\n"
          ],
          "name": "stdout"
        }
      ]
    },
    {
      "cell_type": "markdown",
      "metadata": {
        "id": "9_fuwSZMfvPQ"
      },
      "source": [
        "## Helper functions\n",
        "\n",
        "Some helper functions are defined to print the model performance in a standardized manner and plot a figure with the evolution of its loss and performance metric during training. Another function is defined to create an unique name for a directory for performance logging for usage with _TensorBoard_."
      ],
      "id": "9_fuwSZMfvPQ"
    },
    {
      "cell_type": "code",
      "metadata": {
        "id": "39UwcmEdfvPT"
      },
      "source": [
        "def print_performance(model, log_dir=None):\n",
        "    print(\"Performance on train set:\")\n",
        "    perf_train = model.evaluate(train)\n",
        "\n",
        "    print(\"Performance on valid set:\")\n",
        "    perf_valid = model.evaluate(valid)\n",
        "\n",
        "    print(\"Performance on test set:\")\n",
        "    perf_test = model.evaluate(test)\n",
        "    \n",
        "    if log_dir == None:\n",
        "        directory = \"-\"\n",
        "    else:\n",
        "        directory = log_dir.rpartition('\\\\')[2]\n",
        "\n",
        "    print(\"Performance log:\")\n",
        "    log = '{} | {} | {} | {} {} {} | {}% {}% {}%'.format(directory, model.name, model.count_params(),\n",
        "                                               round(perf_train[0],3), round(perf_valid[0],3), round(perf_test[0],3),\n",
        "                                               round(perf_train[1]*100,1),round(perf_valid[1]*100,1),round(perf_test[1]*100,1))\n",
        "    print(log)\n",
        "    \n",
        "    return None\n",
        "    \n",
        "def print_history(history):    \n",
        "    plt.figure(figsize=(15,3))\n",
        "\n",
        "    plt.subplot(1,2,1)\n",
        "    plt.plot(history.history['loss'])\n",
        "    plt.plot(history.history['val_loss'])\n",
        "    plt.title('loss: categorical cross-entropy')\n",
        "\n",
        "    plt.subplot(1,2,2)\n",
        "    plt.plot(history.history['sparse_categorical_accuracy'])\n",
        "    plt.plot(history.history['val_sparse_categorical_accuracy'])\n",
        "    plt.title('metric: sparse categorical accuracy')\n",
        "    \n",
        "    return None\n",
        "\n",
        "def get_tensorboard_logdir():\n",
        "    run_id = time.strftime(\"run__%Y-%m-%d__%H-%M-%S\")\n",
        "    return join(getcwd(), 'tb_logs', run_id)"
      ],
      "id": "39UwcmEdfvPT",
      "execution_count": null,
      "outputs": []
    },
    {
      "cell_type": "markdown",
      "metadata": {
        "id": "DnyunYq-fvPU"
      },
      "source": [
        "## Custom recurrent layers with Layer Normalization\n",
        "\n",
        "Layer normalization is a game-changing technique for stabilizing the training of RNNs with long sequences of inputs.\n",
        "\n",
        "While both the layer normalization layer and the GRU and LSTM layers are built-in to _keras_, there is currently no straighforward way to apply layer normalization to a recurrent unit. In order to do so, custom RNN cells are required.\n",
        "\n",
        "The classes defined below implement both GRU and LSTM cells with layer normalization."
      ],
      "id": "DnyunYq-fvPU"
    },
    {
      "cell_type": "code",
      "metadata": {
        "id": "77oBP4fhfvPV"
      },
      "source": [
        "class LN_GRU_Cell(keras.layers.Layer):\n",
        "    def __init__(self, units, activation=\"tanh\", dropout=0, recurrent_dropout=0, **kwargs):\n",
        "        super().__init__(**kwargs)\n",
        "        self.units = units\n",
        "        self.dropout = dropout\n",
        "        self.recurrent_dropout = recurrent_dropout\n",
        "        self.state_size = units\n",
        "        self.output_size = units\n",
        "        self.GRU_cell = keras.layers.GRUCell(units, dropout=dropout, recurrent_dropout=recurrent_dropout, activation=None)\n",
        "        self.layer_norm = keras.layers.LayerNormalization()\n",
        "        self.activation = keras.activations.get(activation)\n",
        "    def call(self, inputs, states):\n",
        "        outputs, new_states = self.GRU_cell(inputs, states)\n",
        "        norm_outputs = self.activation(self.layer_norm(outputs))\n",
        "        return norm_outputs, [new_states]\n",
        "    def get_config(self):\n",
        "        base_config = super().get_config()\n",
        "        custom_config = {'units':self.units,\n",
        "                         'dropout':self.dropout,\n",
        "                         'recurrent_dropout':self.recurrent_dropout,\n",
        "                         'activation':self.activation}\n",
        "        return {**base_config, **custom_config}\n",
        "    \n",
        "class LN_LSTM_Cell(keras.layers.Layer):\n",
        "    def __init__(self, units, activation=\"tanh\", dropout=0, recurrent_dropout=0, **kwargs):\n",
        "        super().__init__(**kwargs)\n",
        "        self.units = units\n",
        "        self.dropout = dropout\n",
        "        self.recurrent_dropout = recurrent_dropout\n",
        "        self.state_size = [units, units]\n",
        "        self.output_size = units\n",
        "        self.LSTM_cell = keras.layers.LSTMCell(units, dropout=dropout, recurrent_dropout=recurrent_dropout, activation=None)\n",
        "        self.layer_norm = keras.layers.LayerNormalization()\n",
        "        self.activation = keras.activations.get(activation)\n",
        "    def call(self, inputs, states):\n",
        "        memory_states, carry_states = states\n",
        "        outputs, new_states = self.LSTM_cell(inputs, [memory_states, carry_states])\n",
        "        norm_outputs = self.activation(self.layer_norm(outputs))\n",
        "        return norm_outputs, [new_states]\n",
        "    def get_config(self):\n",
        "        base_config = super().get_config()\n",
        "        custom_config = {'units':self.units,\n",
        "                         'dropout':self.dropout,\n",
        "                         'recurrent_dropout':self.recurrent_dropout,\n",
        "                         'activation':self.activation}\n",
        "        return {**base_config, **custom_config}"
      ],
      "id": "77oBP4fhfvPV",
      "execution_count": null,
      "outputs": []
    },
    {
      "cell_type": "markdown",
      "metadata": {
        "id": "Q7Rz0Tb0ovzo"
      },
      "source": [
        "# Evaluate human performance\n",
        "\n",
        "It is usually interesting to assess how well humans perform on a certain task before trying to build a model for that same task. In order to do so, the code below challenges the user to try and guess what is the next character after a text excerpt has been presented.\n",
        "\n",
        "To avoid confusion with excerpts ending in spaces, all spaces are substituted with a '_' character.\n",
        "\n",
        "After a few hundred guesses, I was able to reach around 65% accuracy."
      ],
      "id": "Q7Rz0Tb0ovzo"
    },
    {
      "cell_type": "code",
      "metadata": {
        "colab": {
          "base_uri": "https://localhost:8080/"
        },
        "id": "AxQZgL0Rozce",
        "outputId": "63c20143-7f96-4ff5-c8a9-d9fc07186a4e"
      },
      "source": [
        " with open(join('dataset','ECFR-title14-train.txt'), 'r', encoding = 'UTF-8') as file:\n",
        "    corpus = file.read()\n",
        "\n",
        "excerpt_length = 128\n",
        "correct_letter = []\n",
        "user_guess = []\n",
        "end_of_excerpt = []\n",
        "\n",
        "print('HUMAN PERFORMANCE EVALUATION')\n",
        "print('How many attemps are you interested in taking?')\n",
        "user_input = input()\n",
        "print()\n",
        "\n",
        "try:\n",
        "    num_attempts = int(user_input)\n",
        "except:\n",
        "    num_attempts = 0\n",
        "\n",
        "for attempt in range(num_attempts):\n",
        "    print('Attempt # {}/{}: '.format(str(attempt+1).rjust(len(str(num_attempts)),'0'), num_attempts))\n",
        "    start = np.random.randint(low = 0, high = len(corpus) - excerpt_length)\n",
        "    excerpt = corpus[start:start+excerpt_length]\n",
        "    print(excerpt[:-1].replace(' ', '_'))\n",
        "    end_of_excerpt.append(excerpt[-16:-1])\n",
        "    correct_letter.append(excerpt[-1])\n",
        "    user_guess.append(input())\n",
        "    print()\n",
        "\n",
        "for attempt in range(num_attempts):\n",
        "    print('Attempt # {}/{}: '.format(str(attempt+1).rjust(len(str(num_attempts)),'0'), num_attempts), end='')\n",
        "    print('{}({})[{}]'.format(end_of_excerpt[attempt].replace('\\n',' '), correct_letter[attempt], user_guess[attempt]), end='')\n",
        "    if correct_letter[attempt] == user_guess[attempt]:\n",
        "        print(' - CORRECT')\n",
        "    else:\n",
        "        print(' - WRONG')\n",
        "\n",
        "print('\\nUser accuracy: {}'.format((np.array(correct_letter) == np.array(user_guess)).mean()))"
      ],
      "id": "AxQZgL0Rozce",
      "execution_count": null,
      "outputs": [
        {
          "output_type": "stream",
          "text": [
            "HUMAN PERFORMANCE EVALUATION\n",
            "How many attemps are you interested in taking?\n",
            "10\n",
            "\n",
            "Attempt # 01/10: \n",
            "ers_control_more_than_50_percent_of_passenger_boardings.\n",
            "Debt_service_means_payments_for_such_items_as_principal_and_interest,_\n",
            "n\n",
            "\n",
            "Attempt # 02/10: \n",
            "cate_holder_described_in_paragraph_(a)(1)_of_this_section_may_not,_after_March_20,_1997,_operate_an_airplane_described_in_parag\n",
            "r\n",
            "\n",
            "Attempt # 03/10: \n",
            "or_also_means_any_representative_of_the_aircraft_owner,_or_in_the_case_of_a_leased_aircraft,_any_representative_of_the_lessee_e\n",
            "n\n",
            "\n",
            "Attempt # 04/10: \n",
            "approved_airport_layout_plan.\n",
            "(d)_The_airport_involved_in_a_project_for_airport_development_must_be_included_in_the_current_NAS\n",
            " \n",
            "\n",
            "Attempt # 05/10: \n",
            "ith_the_limitations_in_the_operations_specifications._\n",
            "[Doc._No._6258,_29_FR_19219,_Dec._31,_1964,_as_amended_by_Amdt._121-253,\n",
            " \n",
            "\n",
            "Attempt # 06/10: \n",
            "sed_approach_below_the_minimum_engagement_altitude_specified_for_takeoff_and_initial_climb_in_paragraph_(b)_in_this_section._An\n",
            " \n",
            "\n",
            "Attempt # 07/10: \n",
            "_the_runs_at_any_rated_augmented_thrust_the_hydraulic_fluid_temperature_must_be_maintained_at_the_limiting_temperature_except_w\n",
            "h\n",
            "\n",
            "Attempt # 08/10: \n",
            "vered_employee_shall_be_tested_for_alcohol_under_this_section_only_while_the_employee_is_performing_safety-sensitive_functions,\n",
            " \n",
            "\n",
            "Attempt # 09/10: \n",
            "n_§_121.157(f),_the_Airplane_Performance_Operating_Limitations_in_§§_121.189_through_121.197._\n",
            "(B)_Section_121.161(b),_Ditching\n",
            ":\n",
            "\n",
            "Attempt # 10/10: \n",
            "gress_of_the_flight._The_person_declaring_the_emergency_shall_send_a_written_report_of_any_deviation_through_the_certificate_ho\n",
            "l\n",
            "\n",
            "Attempt # 01/10:  and interest, (s)[n] - WRONG\n",
            "Attempt # 02/10: cribed in parag(r)[r] - CORRECT\n",
            "Attempt # 03/10: of the lessee e(m)[n] - WRONG\n",
            "Attempt # 04/10: the current NAS(P)[ ] - WRONG\n",
            "Attempt # 05/10:  Amdt. 121-253,( )[ ] - CORRECT\n",
            "Attempt # 06/10: his section. An( )[ ] - CORRECT\n",
            "Attempt # 07/10: rature except w(h)[h] - CORRECT\n",
            "Attempt # 08/10: tive functions,( )[ ] - CORRECT\n",
            "Attempt # 09/10: 61(b), Ditching( )[:] - WRONG\n",
            "Attempt # 10/10:  certificate ho(l)[l] - CORRECT\n",
            "\n",
            "User accuracy: 0.6\n"
          ],
          "name": "stdout"
        }
      ]
    },
    {
      "cell_type": "markdown",
      "metadata": {
        "id": "R0FM0X73wrp5"
      },
      "source": [
        "# Models\n",
        "\n",
        "A healthy practice when developing complex models is to start with a rudimentary version and to incrementaly add more elements. This stepwise approach provides transparency as to what each piece of the model provides in terms of performance and allows for more control when deciding which pieces to add. Ideally, no complexity should be included in the model unless it improves performance."
      ],
      "id": "R0FM0X73wrp5"
    },
    {
      "cell_type": "markdown",
      "metadata": {
        "id": "K8v4YFypfvPg"
      },
      "source": [
        "## Dummy model with null input\n",
        "\n",
        "We begin modeling by constructing a dummy model. In this setup, the dataset features in the dataset are replaced with a stream of zeros. A densely connected layer with softmax activation is used to learn the biases corresponding the frequency of each of the characters in the dataset.\n",
        "\n",
        "Here are some of the features of this model:\n",
        "\n",
        "* Given a null input, predict next character\n",
        "* Gradients for the weights will always be null\n",
        "* This setup will only learn the bias, which can then be used as initialization for the bias on the last layer of the subsequent models\n",
        "* Avoids hockey-stick learning curves\n",
        "* Learning rate can be set up on next models according to a phase when the network is actually learning patterns in the data\n",
        "* Training for a single epoch is sufficient for dense layer to learn the biases.\n",
        "\n",
        "Additionaly, the value for the loss and metrics obtained in this manner serve as an important performance benchmark - any model that is effectively able to extract information from the inputs should be able to beat these values."
      ],
      "id": "K8v4YFypfvPg"
    },
    {
      "cell_type": "code",
      "metadata": {
        "id": "1pVhFCLmfvPi"
      },
      "source": [
        "batch_size = 128\n",
        "dict_size = len(tokenizer.index_word.keys()) + 1\n",
        "lr_0 = .5\n",
        "epochs = 1"
      ],
      "id": "1pVhFCLmfvPi",
      "execution_count": null,
      "outputs": []
    },
    {
      "cell_type": "code",
      "metadata": {
        "id": "HYA9hvjVfvPo"
      },
      "source": [
        "train_dummy = make_dataset('train', tokenizer, batch_size = batch_size, dummy = True)\n",
        "train = make_dataset('train', tokenizer, batch_size = batch_size)\n",
        "valid = make_dataset('valid', tokenizer)\n",
        "test = make_dataset('test', tokenizer)"
      ],
      "id": "HYA9hvjVfvPo",
      "execution_count": null,
      "outputs": []
    },
    {
      "cell_type": "code",
      "metadata": {
        "colab": {
          "base_uri": "https://localhost:8080/"
        },
        "id": "wq_xvkC1fvPr",
        "outputId": "953e7355-9eb4-4883-9cdc-836a3584f918"
      },
      "source": [
        "model = keras.models.Sequential(name = \"Dummy_Classifier\")\n",
        "\n",
        "model.add(keras.layers.Input(shape = (1), name = 'Input')) # add None to first dimension when using RNN\n",
        "model.add(keras.layers.experimental.preprocessing.CategoryEncoding(max_tokens = dict_size, name = 'Encoding'))\n",
        "model.add(keras.layers.Dense(units = dict_size, activation = 'softmax', name = 'Output'))\n",
        "\n",
        "model.compile(optimizer = keras.optimizers.SGD(learning_rate = lr_0), \n",
        "              loss = 'sparse_categorical_crossentropy', metrics = 'sparse_categorical_accuracy')\n",
        "\n",
        "model.summary()"
      ],
      "id": "wq_xvkC1fvPr",
      "execution_count": null,
      "outputs": [
        {
          "output_type": "stream",
          "text": [
            "Model: \"Dummy_Classifier\"\n",
            "_________________________________________________________________\n",
            "Layer (type)                 Output Shape              Param #   \n",
            "=================================================================\n",
            "Encoding (CategoryEncoding)  (None, 116)               0         \n",
            "_________________________________________________________________\n",
            "Output (Dense)               (None, 116)               13572     \n",
            "=================================================================\n",
            "Total params: 13,572\n",
            "Trainable params: 13,572\n",
            "Non-trainable params: 0\n",
            "_________________________________________________________________\n"
          ],
          "name": "stdout"
        }
      ]
    },
    {
      "cell_type": "code",
      "metadata": {
        "id": "AJOnu8DofvP4"
      },
      "source": [
        "history = model.fit(train_dummy, epochs = 1, verbose = 0)"
      ],
      "id": "AJOnu8DofvP4",
      "execution_count": null,
      "outputs": []
    },
    {
      "cell_type": "code",
      "metadata": {
        "colab": {
          "base_uri": "https://localhost:8080/"
        },
        "id": "t0cxZIUcfvP6",
        "outputId": "a1366731-21aa-4805-dbb1-db4b505252c6"
      },
      "source": [
        "print_performance(model)"
      ],
      "id": "t0cxZIUcfvP6",
      "execution_count": null,
      "outputs": [
        {
          "output_type": "stream",
          "text": [
            "Performance on train set:\n",
            "52369/52369 [==============================] - 99s 2ms/step - loss: 3.4713 - sparse_categorical_accuracy: 0.1204\n",
            "Performance on valid set:\n",
            "4270/4270 [==============================] - 7s 2ms/step - loss: 3.4557 - sparse_categorical_accuracy: 0.1201\n",
            "Performance on test set:\n",
            "3776/3776 [==============================] - 6s 2ms/step - loss: 3.4487 - sparse_categorical_accuracy: 0.1254\n",
            "Performance log:\n",
            "- | Dummy_Classifier | 13572 | 3.471 3.456 3.449 | 12.0% 12.0% 12.5%\n"
          ],
          "name": "stdout"
        }
      ]
    },
    {
      "cell_type": "markdown",
      "metadata": {
        "id": "P0n5bUOAA6qm"
      },
      "source": [
        "Here, the biases in the output layer are saved to the _bias_output_layer_ variable. This vector will be used as the initialization for the output layer for the next models."
      ],
      "id": "P0n5bUOAA6qm"
    },
    {
      "cell_type": "code",
      "metadata": {
        "id": "UjZJxAOifvP9"
      },
      "source": [
        "bias_output_layer = model.layers[-1].get_weights()[1]"
      ],
      "id": "UjZJxAOifvP9",
      "execution_count": null,
      "outputs": []
    },
    {
      "cell_type": "markdown",
      "metadata": {
        "id": "7E_WkbyWfvQA"
      },
      "source": [
        "## Simple model with one-hot encoded input\n",
        "\n",
        "* Given a single character, one-hot encode and predict the next one\n",
        "* Encoding layer followed by Dense layer with softmax activation"
      ],
      "id": "7E_WkbyWfvQA"
    },
    {
      "cell_type": "code",
      "metadata": {
        "id": "U7aaLxkKfvQC"
      },
      "source": [
        "batch_size = 128\n",
        "dict_size = len(tokenizer.index_word.keys()) + 1\n",
        "lr_0 = 1\n",
        "epochs = 50"
      ],
      "id": "U7aaLxkKfvQC",
      "execution_count": null,
      "outputs": []
    },
    {
      "cell_type": "code",
      "metadata": {
        "id": "PUOlAUG5fvQF"
      },
      "source": [
        "train = make_dataset('train', tokenizer, batch_size = batch_size)\n",
        "valid = make_dataset('valid', tokenizer)\n",
        "test = make_dataset('test', tokenizer)"
      ],
      "id": "PUOlAUG5fvQF",
      "execution_count": null,
      "outputs": []
    },
    {
      "cell_type": "code",
      "metadata": {
        "id": "wBj0mW0CfvQG",
        "outputId": "7925f34e-b10b-4c24-95dd-27e6ff0f5176"
      },
      "source": [
        "model = keras.models.Sequential(name = \"Softmax_Classifier_with_Encoding\")\n",
        "\n",
        "model.add(keras.layers.Input(shape = (1), name = 'Input')) # add None to first dimension when using RNN\n",
        "model.add(keras.layers.experimental.preprocessing.CategoryEncoding(max_tokens = dict_size, name = 'Encoding'))\n",
        "model.add(keras.layers.Dense(units = dict_size, activation = 'softmax', name = 'Output',\n",
        "                             bias_initializer = keras.initializers.Constant(bias_output_layer)))\n",
        "\n",
        "model.compile(optimizer = keras.optimizers.SGD(learning_rate = lr_0), \n",
        "              loss = 'sparse_categorical_crossentropy', metrics = ['sparse_categorical_accuracy'])\n",
        "\n",
        "early_stopping_cb = keras.callbacks.EarlyStopping(patience = 1, restore_best_weights = True, verbose = True)\n",
        "\n",
        "model.summary()"
      ],
      "id": "wBj0mW0CfvQG",
      "execution_count": null,
      "outputs": [
        {
          "output_type": "stream",
          "text": [
            "Model: \"Softmax_Classifier_with_Encoding\"\n",
            "_________________________________________________________________\n",
            "Layer (type)                 Output Shape              Param #   \n",
            "=================================================================\n",
            "Encoding (CategoryEncoding)  (None, 116)               0         \n",
            "_________________________________________________________________\n",
            "Output (Dense)               (None, 116)               13572     \n",
            "=================================================================\n",
            "Total params: 13,572\n",
            "Trainable params: 13,572\n",
            "Non-trainable params: 0\n",
            "_________________________________________________________________\n"
          ],
          "name": "stdout"
        }
      ]
    },
    {
      "cell_type": "code",
      "metadata": {
        "id": "RhlY7OCEfvQI"
      },
      "source": [
        "history = model.fit(train, epochs = epochs, verbose = 0, validation_data = valid,\n",
        "                   callbacks = [early_stopping_cb])"
      ],
      "id": "RhlY7OCEfvQI",
      "execution_count": null,
      "outputs": []
    },
    {
      "cell_type": "code",
      "metadata": {
        "id": "SPpOt9bxfvQK",
        "outputId": "5ce3ed91-4ac5-493a-aada-8fc06d95e6e5"
      },
      "source": [
        "print_performance(model)\n",
        "print_history(history)"
      ],
      "id": "SPpOt9bxfvQK",
      "execution_count": null,
      "outputs": [
        {
          "output_type": "stream",
          "text": [
            "Performance on train set:\n",
            "52300/52300 [==============================] - 71s 1ms/step - loss: 2.4818 - sparse_categorical_accuracy: 0.2542\n",
            "Performance on valid set:\n",
            "4270/4270 [==============================] - 4s 871us/step - loss: 2.4581 - sparse_categorical_accuracy: 0.2539\n",
            "Performance on test set:\n",
            "3776/3776 [==============================] - 3s 869us/step - loss: 2.4617 - sparse_categorical_accuracy: 0.2598\n",
            "Performance log:\n",
            "- | Softmax_Classifier_with_Encoding | 2.482 2.458 2.462 | 25.4% 25.4% 26.0%\n"
          ],
          "name": "stdout"
        },
        {
          "output_type": "display_data",
          "data": {
            "image/png": "[encoded data removed]",
            "text/plain": [
              "<Figure size 1080x216 with 2 Axes>"
            ]
          },
          "metadata": {
            "tags": [],
            "needs_background": "light"
          }
        }
      ]
    },
    {
      "cell_type": "markdown",
      "metadata": {
        "id": "c3BcZoH3fvQN"
      },
      "source": [
        "## Simple model with embedded input\n",
        "\n",
        "* Given a single character, apply embedding and predict the next character\n",
        "* Embedding layer followed by Dense layer with softmax activation"
      ],
      "id": "c3BcZoH3fvQN"
    },
    {
      "cell_type": "code",
      "metadata": {
        "id": "6TAgxacUfvQN"
      },
      "source": [
        "batch_size = 128\n",
        "dict_size = len(tokenizer.index_word.keys()) + 1\n",
        "embedding_dim = 10\n",
        "lr_0 = 1\n",
        "epochs = 50"
      ],
      "id": "6TAgxacUfvQN",
      "execution_count": null,
      "outputs": []
    },
    {
      "cell_type": "code",
      "metadata": {
        "id": "YVAPv19JfvQS"
      },
      "source": [
        "train = make_dataset('train', tokenizer, batch_size = batch_size)\n",
        "valid = make_dataset('valid', tokenizer)\n",
        "test = make_dataset('test', tokenizer)"
      ],
      "id": "YVAPv19JfvQS",
      "execution_count": null,
      "outputs": []
    },
    {
      "cell_type": "code",
      "metadata": {
        "id": "d9f-NmdvfvQX",
        "outputId": "307d1f12-e6ff-4370-ffa5-723d3d08f85a"
      },
      "source": [
        "model = keras.models.Sequential(name = \"Softmax_Classifier_with_Embedding\")\n",
        "\n",
        "model.add(keras.layers.Embedding(input_dim = dict_size, output_dim = embedding_dim, input_length = 1, name = 'Embedding'))\n",
        "model.add(keras.layers.Dense(units = dict_size, activation = 'softmax', name = 'Output',\n",
        "                             bias_initializer = keras.initializers.Constant(bias_output_layer)))\n",
        "\n",
        "model.compile(optimizer = keras.optimizers.SGD(learning_rate = lr_0), \n",
        "              loss = 'sparse_categorical_crossentropy', metrics = ['sparse_categorical_accuracy'])\n",
        "\n",
        "early_stopping_cb = keras.callbacks.EarlyStopping(patience = 1, restore_best_weights = True, verbose = True)\n",
        "\n",
        "model.summary()"
      ],
      "id": "d9f-NmdvfvQX",
      "execution_count": null,
      "outputs": [
        {
          "output_type": "stream",
          "text": [
            "Model: \"Softmax_Classifier_with_Embedding\"\n",
            "_________________________________________________________________\n",
            "Layer (type)                 Output Shape              Param #   \n",
            "=================================================================\n",
            "Embedding (Embedding)        (None, 1, 10)             1160      \n",
            "_________________________________________________________________\n",
            "Output (Dense)               (None, 1, 116)            1276      \n",
            "=================================================================\n",
            "Total params: 2,436\n",
            "Trainable params: 2,436\n",
            "Non-trainable params: 0\n",
            "_________________________________________________________________\n"
          ],
          "name": "stdout"
        }
      ]
    },
    {
      "cell_type": "code",
      "metadata": {
        "id": "j8Mq66pqfvQY",
        "outputId": "3791f0e9-b889-4931-92fc-73a2cdca93f2"
      },
      "source": [
        "history = model.fit(train, epochs = epochs, verbose = 0, validation_data = valid,\n",
        "                   callbacks = [early_stopping_cb])"
      ],
      "id": "j8Mq66pqfvQY",
      "execution_count": null,
      "outputs": [
        {
          "output_type": "stream",
          "text": [
            "Restoring model weights from the end of the best epoch.\n",
            "Epoch 00004: early stopping\n"
          ],
          "name": "stdout"
        }
      ]
    },
    {
      "cell_type": "code",
      "metadata": {
        "id": "ZMwaz1KEfvQq",
        "outputId": "c1ece0bb-7af4-4bd1-ed84-9dfa212da64f"
      },
      "source": [
        "print_performance(model)\n",
        "print_history(history)"
      ],
      "id": "ZMwaz1KEfvQq",
      "execution_count": null,
      "outputs": [
        {
          "output_type": "stream",
          "text": [
            "Performance on train set:\n",
            "52300/52300 [==============================] - 76s 1ms/step - loss: 2.5773 - sparse_categorical_accuracy: 0.2419\n",
            "Performance on valid set:\n",
            "4270/4270 [==============================] - 4s 923us/step - loss: 2.5466 - sparse_categorical_accuracy: 0.2427\n",
            "Performance on test set:\n",
            "3776/3776 [==============================] - 4s 927us/step - loss: 2.5516 - sparse_categorical_accuracy: 0.2443\n",
            "Performance log:\n",
            "- | Softmax_Classifier_with_Embedding | 2.577 2.547 2.552 | 24.2% 24.3% 24.4%\n"
          ],
          "name": "stdout"
        },
        {
          "output_type": "display_data",
          "data": {
            "image/png": "[encoded data removed]",
            "text/plain": [
              "<Figure size 1080x216 with 2 Axes>"
            ]
          },
          "metadata": {
            "tags": [],
            "needs_background": "light"
          }
        }
      ]
    },
    {
      "cell_type": "markdown",
      "metadata": {
        "id": "zui3KxWffvQx"
      },
      "source": [
        "## RNNs with single recurrent unit and one-hot encoding\n",
        "\n",
        "* Many-to-many setup: the network tries to predict the entire sequence of characters.\n",
        "* Single recurrent unit.\n",
        "* Code available for all three built-in recurrent units: Simple recurrent unit & GRU & LSTM (uncomment appropriate line to chose which one to use).\n",
        "* One-hot encoding layer is wrapped by a time distributed layer.\n",
        "* Default GRU and LSTM implementations use the same bias_initializer for the kernel and recurrent channels. Bias initialization with the biases obtained from the dummy model requires accessing the right part of the bias vector (not implemented here)."
      ],
      "id": "zui3KxWffvQx"
    },
    {
      "cell_type": "code",
      "metadata": {
        "id": "7TISxnUkfvQz"
      },
      "source": [
        "sequence_length = 32\n",
        "batch_size = 128\n",
        "dict_size = len(tokenizer.index_word.keys()) + 1\n",
        "lr_0 = .01\n",
        "epochs = 100"
      ],
      "id": "7TISxnUkfvQz",
      "execution_count": null,
      "outputs": []
    },
    {
      "cell_type": "code",
      "metadata": {
        "id": "2A-D62_tfvQ5"
      },
      "source": [
        "train = make_dataset('train', tokenizer, sequence_length = sequence_length, batch_size = batch_size, batching_mode = 'recurrent_encoding')\n",
        "valid = make_dataset('valid', tokenizer, sequence_length = sequence_length, batching_mode = 'recurrent_encoding')\n",
        "test = make_dataset('test', tokenizer, sequence_length = sequence_length, batching_mode = 'recurrent_encoding')"
      ],
      "id": "2A-D62_tfvQ5",
      "execution_count": null,
      "outputs": []
    },
    {
      "cell_type": "code",
      "metadata": {
        "id": "X21GhxJcfvRP",
        "outputId": "f6988359-f546-4bed-cfd9-5d4f8c435be1"
      },
      "source": [
        "encoding = keras.layers.experimental.preprocessing.CategoryEncoding(max_tokens = dict_size, name = \"Encoding\")\n",
        "td_encoding = keras.layers.TimeDistributed(encoding, input_shape = [None, 1], name = \"TD_Encoding\")\n",
        "\n",
        "simple_rnn = keras.layers.SimpleRNN(units = dict_size, return_sequences = True, activation = 'softmax', \n",
        "                                    bias_initializer = keras.initializers.Constant(bias_output_layer),\n",
        "                                    name = \"Recurrent\")\n",
        "gru = keras.layers.GRU(units = dict_size, return_sequences = True, activation = 'softmax', \n",
        "                       name = \"Recurrent\")\n",
        "lstm = keras.layers.LSTM(units = dict_size, return_sequences = True, activation = 'softmax', \n",
        "                         name = \"Recurrent\")\n",
        "\n",
        "#model = keras.models.Sequential([td_encoding, simple_rnn], name = \"Simple_RNN_with_Encoding\")\n",
        "#model = keras.models.Sequential([td_encoding, gru], name = \"GRU_with_Encoding\")\n",
        "model = keras.models.Sequential([td_encoding, lstm], name = \"LSTM_with_Encoding\")\n",
        "\n",
        "model.compile(optimizer = keras.optimizers.Adam(learning_rate = lr_0), \n",
        "              loss = 'sparse_categorical_crossentropy', metrics = ['sparse_categorical_accuracy'])\n",
        "\n",
        "early_stopping_cb = keras.callbacks.EarlyStopping(patience = 5, restore_best_weights = True, verbose = True)\n",
        "log_dir = get_tensorboard_logdir()\n",
        "tensorboard_cb = keras.callbacks.TensorBoard(log_dir = log_dir)\n",
        "\n",
        "model.summary()"
      ],
      "id": "X21GhxJcfvRP",
      "execution_count": null,
      "outputs": [
        {
          "output_type": "stream",
          "text": [
            "Model: \"LSTM_with_Encoding\"\n",
            "_________________________________________________________________\n",
            "Layer (type)                 Output Shape              Param #   \n",
            "=================================================================\n",
            "TD_Encoding (TimeDistributed (None, None, 116)         0         \n",
            "_________________________________________________________________\n",
            "Recurrent (LSTM)             (None, None, 116)         108112    \n",
            "=================================================================\n",
            "Total params: 108,112\n",
            "Trainable params: 108,112\n",
            "Non-trainable params: 0\n",
            "_________________________________________________________________\n"
          ],
          "name": "stdout"
        }
      ]
    },
    {
      "cell_type": "code",
      "metadata": {
        "id": "sopQ9R3TfvRU"
      },
      "source": [
        "history = model.fit(train, epochs = epochs, verbose = 0, validation_data = valid,\n",
        "                   callbacks = [early_stopping_cb, tensorboard_cb])"
      ],
      "id": "sopQ9R3TfvRU",
      "execution_count": null,
      "outputs": []
    },
    {
      "cell_type": "markdown",
      "metadata": {
        "id": "wioff8I0Dh-T"
      },
      "source": [
        "Here we see a significant improvement in performance in comparison with the simpler models that only took one character into account when predicting the next one."
      ],
      "id": "wioff8I0Dh-T"
    },
    {
      "cell_type": "code",
      "metadata": {
        "id": "fHWwRbmBfvRW",
        "outputId": "b0e78338-26d3-4c0e-c472-b9a4b6850b7f"
      },
      "source": [
        "print_performance(model, log_dir)\n",
        "print_history(history)"
      ],
      "id": "fHWwRbmBfvRW",
      "execution_count": null,
      "outputs": [
        {
          "output_type": "stream",
          "text": [
            "Performance on train set:\n",
            "1634/1634 [==============================] - 73s 44ms/step - loss: 2.0464 - sparse_categorical_accuracy: 0.4189 5s - loss: 2.0442 - sparse_categorical_accurac - ETA: 4s\n",
            "Performance on valid set:\n",
            "133/133 [==============================] - 1s 11ms/step - loss: 1.9878 - sparse_categorical_accuracy: 0.4347\n",
            "Performance on test set:\n",
            "117/117 [==============================] - 1s 10ms/step - loss: 2.0544 - sparse_categorical_accuracy: 0.4051\n",
            "Performance log:\n",
            "run__2021-03-03__12-56-16 | LSTM_with_Encoding | 2.046 1.988 2.054 | 41.9% 43.5% 40.5%\n"
          ],
          "name": "stdout"
        },
        {
          "output_type": "display_data",
          "data": {
            "image/png": "[encoded data removed]",
            "text/plain": [
              "<Figure size 1080x216 with 2 Axes>"
            ]
          },
          "metadata": {
            "tags": [],
            "needs_background": "light"
          }
        }
      ]
    },
    {
      "cell_type": "markdown",
      "metadata": {
        "id": "82x81IX6fvRX"
      },
      "source": [
        "## RNN with single recurrent unit and embedding\n",
        "\n",
        "* Same setup as above, but with and embedding instead of encoding.\n",
        "* The embedding layer does not require wrapping with a time distributed layer."
      ],
      "id": "82x81IX6fvRX"
    },
    {
      "cell_type": "code",
      "metadata": {
        "id": "p-6yM-BxfvRY"
      },
      "source": [
        "sequence_length = 32\n",
        "batch_size = 128\n",
        "dict_size = len(tokenizer.index_word.keys()) + 1\n",
        "embedding_dim = 20\n",
        "lr_0 = .01\n",
        "epochs = 100"
      ],
      "id": "p-6yM-BxfvRY",
      "execution_count": null,
      "outputs": []
    },
    {
      "cell_type": "code",
      "metadata": {
        "id": "7mCrHLXXfvRZ"
      },
      "source": [
        "train = make_dataset('train', tokenizer, sequence_length = sequence_length, batch_size = batch_size, batching_mode = 'recurrent_embedding')\n",
        "valid = make_dataset('valid', tokenizer, sequence_length = sequence_length, batching_mode = 'recurrent_embedding')\n",
        "test = make_dataset('test', tokenizer, sequence_length = sequence_length, batching_mode = 'recurrent_embedding')"
      ],
      "id": "7mCrHLXXfvRZ",
      "execution_count": null,
      "outputs": []
    },
    {
      "cell_type": "code",
      "metadata": {
        "id": "8db6kzGWfvRa",
        "outputId": "e877c600-dd89-4700-ad30-b66edc7da839"
      },
      "source": [
        "embedding = keras.layers.Embedding(input_dim = dict_size, output_dim = embedding_dim, name = \"Embedding\", input_shape=[None])\n",
        "recurrent = keras.layers.SimpleRNN(units = dict_size, return_sequences = True, activation = 'softmax', \n",
        "                                   bias_initializer = keras.initializers.Constant(bias_output_layer),\n",
        "                                   name = \"Recurrent\")\n",
        "\n",
        "simple_rnn = keras.layers.SimpleRNN(units = dict_size, return_sequences = True, activation = 'softmax', \n",
        "                                   bias_initializer = keras.initializers.Constant(bias_output_layer),\n",
        "                                   name = \"Recurrent\")\n",
        "\n",
        "gru = keras.layers.GRU(units = dict_size, return_sequences = True, activation = 'softmax', \n",
        "                       name = \"Recurrent\")\n",
        "\n",
        "lstm = keras.layers.LSTM(units = dict_size, return_sequences = True, activation = 'softmax', \n",
        "                         name = \"Recurrent\")\n",
        "\n",
        "#model = keras.models.Sequential([embedding, simple_rnn], name = \"Simple_RNN_with_Embedding\")\n",
        "model = keras.models.Sequential([embedding, gru], name = \"GRU_with_Embedding\")\n",
        "#model = keras.models.Sequential([embedding, lstm], name = \"LSTM_with_Embedding\")\n",
        "\n",
        "\n",
        "model.compile(optimizer = keras.optimizers.Adam(learning_rate = lr_0), \n",
        "              loss = 'sparse_categorical_crossentropy', metrics = ['sparse_categorical_accuracy'])\n",
        "\n",
        "early_stopping_cb = keras.callbacks.EarlyStopping(patience = 5, restore_best_weights = True, verbose = True)\n",
        "log_dir = get_tensorboard_logdir()\n",
        "tensorboard_cb = keras.callbacks.TensorBoard(log_dir = log_dir)\n",
        "\n",
        "model.summary()"
      ],
      "id": "8db6kzGWfvRa",
      "execution_count": null,
      "outputs": [
        {
          "output_type": "stream",
          "text": [
            "Model: \"GRU_with_Embedding\"\n",
            "_________________________________________________________________\n",
            "Layer (type)                 Output Shape              Param #   \n",
            "=================================================================\n",
            "Embedding (Embedding)        (None, None, 20)          2320      \n",
            "_________________________________________________________________\n",
            "Recurrent (GRU)              (None, None, 116)         48024     \n",
            "=================================================================\n",
            "Total params: 50,344\n",
            "Trainable params: 50,344\n",
            "Non-trainable params: 0\n",
            "_________________________________________________________________\n"
          ],
          "name": "stdout"
        }
      ]
    },
    {
      "cell_type": "code",
      "metadata": {
        "id": "Uyq9dd7QfvRf"
      },
      "source": [
        "history = model.fit(train, epochs = epochs, verbose = 0, validation_data = valid,\n",
        "                   callbacks = [early_stopping_cb, tensorboard_cb])"
      ],
      "id": "Uyq9dd7QfvRf",
      "execution_count": null,
      "outputs": []
    },
    {
      "cell_type": "markdown",
      "metadata": {
        "id": "3C8-sQkmERKg"
      },
      "source": [
        "The results with an embedding layer seam to be marginally worse than those with one-hot encoding."
      ],
      "id": "3C8-sQkmERKg"
    },
    {
      "cell_type": "code",
      "metadata": {
        "id": "_-4BuGuFfvRg",
        "outputId": "a5fef31d-57c5-43e6-eca0-83a10643eaba"
      },
      "source": [
        "print_performance(model, log_dir)\n",
        "print_history(history)"
      ],
      "id": "_-4BuGuFfvRg",
      "execution_count": null,
      "outputs": [
        {
          "output_type": "stream",
          "text": [
            "Performance on train set:\n",
            "1634/1634 [==============================] - 63s 38ms/step - loss: 2.1136 - sparse_categorical_accuracy: 0.4020\n",
            "Performance on valid set:\n",
            "133/133 [==============================] - 1s 10ms/step - loss: 2.0601 - sparse_categorical_accuracy: 0.4176\n",
            "Performance on test set:\n",
            "117/117 [==============================] - 1s 10ms/step - loss: 2.1156 - sparse_categorical_accuracy: 0.3906\n",
            "Performance log:\n",
            "run__2021-03-03__18-36-42 | LSTM_with_Embedding | 2.114 2.06 2.116 | 40.2% 41.8% 39.1%\n"
          ],
          "name": "stdout"
        },
        {
          "output_type": "display_data",
          "data": {
            "image/png": "[encoded data removed]",
            "text/plain": [
              "<Figure size 1080x216 with 2 Axes>"
            ]
          },
          "metadata": {
            "tags": [],
            "needs_background": "light"
          }
        }
      ]
    },
    {
      "cell_type": "markdown",
      "metadata": {
        "id": "3dedCWvJfvRn"
      },
      "source": [
        "## RNN followed by dense layer, with character encoding\n",
        "\n",
        "* All built-in RNN units implemented: Simple RNN & GRU & LSTM.\n",
        "* With a dense layer for the output, we can experiment with the number of units in the recurrent layers.\n",
        "* Bias initialization on dense layer considering class imbalance.\n",
        "* Minor tweaking of learning_rate."
      ],
      "id": "3dedCWvJfvRn"
    },
    {
      "cell_type": "code",
      "metadata": {
        "id": "onjtlqqvfvR0"
      },
      "source": [
        "sequence_length = 32\n",
        "batch_size = 128\n",
        "dict_size = len(tokenizer.index_word.keys()) + 1\n",
        "recurrent_dim = 2 * dict_size\n",
        "lr_0 = .001\n",
        "epochs = 100"
      ],
      "id": "onjtlqqvfvR0",
      "execution_count": null,
      "outputs": []
    },
    {
      "cell_type": "code",
      "metadata": {
        "id": "QXgXYhsBfvR0"
      },
      "source": [
        "train = make_dataset('train', tokenizer, sequence_length = sequence_length, batch_size = batch_size, batching_mode = 'recurrent_encoding')\n",
        "valid = make_dataset('valid', tokenizer, sequence_length = sequence_length, batching_mode = 'recurrent_encoding')\n",
        "test = make_dataset('test', tokenizer, sequence_length = sequence_length, batching_mode = 'recurrent_encoding')"
      ],
      "id": "QXgXYhsBfvR0",
      "execution_count": null,
      "outputs": []
    },
    {
      "cell_type": "code",
      "metadata": {
        "id": "cUAEQCmnfvR5",
        "outputId": "a7dbca41-d833-4dfa-e984-44771848acf9"
      },
      "source": [
        "encoding = keras.layers.experimental.preprocessing.CategoryEncoding(max_tokens = dict_size, name = \"Encoding\")\n",
        "td_encoding = keras.layers.TimeDistributed(encoding, input_shape = [None, 1], name = \"TD_Encoding\")\n",
        "\n",
        "simple_rnn = keras.layers.SimpleRNN(units = recurrent_dim, return_sequences = True, name = \"Recurrent\")\n",
        "gru = keras.layers.GRU(units = recurrent_dim, return_sequences = True, name = \"Recurrent\")\n",
        "lstm = keras.layers.LSTM(units = recurrent_dim, return_sequences = True, name = \"Recurrent\")\n",
        "\n",
        "dense = keras.layers.Dense(units = dict_size, activation = 'softmax', name = \"Dense\",\n",
        "                           bias_initializer = keras.initializers.Constant(bias_output_layer))\n",
        "\n",
        "#model = keras.models.Sequential([td_encoding, simple_rnn, dense], name = \"Simple_RNN_Dense_output_with_Encoding\")\n",
        "#model = keras.models.Sequential([td_encoding, gru, dense], name = \"GRU_Dense_output_with_Encoding\")\n",
        "model = keras.models.Sequential([td_encoding, lstm, dense], name = \"LSTM_Dense_output_with_Encoding\")\n",
        "\n",
        "model.compile(optimizer = keras.optimizers.Adam(learning_rate = lr_0), \n",
        "              loss = 'sparse_categorical_crossentropy', metrics = ['sparse_categorical_accuracy'])\n",
        "\n",
        "early_stopping_cb = keras.callbacks.EarlyStopping(patience = 5, min_delta = .01, restore_best_weights = True, verbose = True)\n",
        "log_dir = get_tensorboard_logdir()\n",
        "tensorboard_cb = keras.callbacks.TensorBoard(log_dir = log_dir)\n",
        "\n",
        "model.summary()"
      ],
      "id": "cUAEQCmnfvR5",
      "execution_count": null,
      "outputs": [
        {
          "output_type": "stream",
          "text": [
            "Model: \"LSTM_Dense_output_with_Encoding\"\n",
            "_________________________________________________________________\n",
            "Layer (type)                 Output Shape              Param #   \n",
            "=================================================================\n",
            "TD_Encoding (TimeDistributed (None, None, 116)         0         \n",
            "_________________________________________________________________\n",
            "Recurrent (LSTM)             (None, None, 232)         323872    \n",
            "_________________________________________________________________\n",
            "Dense (Dense)                (None, None, 116)         27028     \n",
            "=================================================================\n",
            "Total params: 350,900\n",
            "Trainable params: 350,900\n",
            "Non-trainable params: 0\n",
            "_________________________________________________________________\n"
          ],
          "name": "stdout"
        }
      ]
    },
    {
      "cell_type": "code",
      "metadata": {
        "id": "Fm-C7ytQfvR-",
        "outputId": "7a36011d-1f71-4295-f45b-785e020b1153"
      },
      "source": [
        "history = model.fit(train, epochs = epochs, verbose = 0, validation_data = valid,\n",
        "                    callbacks = [early_stopping_cb, tensorboard_cb])"
      ],
      "id": "Fm-C7ytQfvR-",
      "execution_count": null,
      "outputs": [
        {
          "output_type": "stream",
          "text": [
            "Restoring model weights from the end of the best epoch.\n",
            "Epoch 00021: early stopping\n"
          ],
          "name": "stdout"
        }
      ]
    },
    {
      "cell_type": "markdown",
      "metadata": {
        "id": "9A7jxRHuE2jU"
      },
      "source": [
        "With the use of a dense layer as the output layer and the increase in the number of units in the recurrent units, we get a significant performance improvement."
      ],
      "id": "9A7jxRHuE2jU"
    },
    {
      "cell_type": "code",
      "metadata": {
        "id": "74m58QxYfvSA",
        "outputId": "22df069c-ba3f-4013-8983-559165f0c49e"
      },
      "source": [
        "print_performance(model, log_dir)\n",
        "print_history(history)"
      ],
      "id": "74m58QxYfvSA",
      "execution_count": null,
      "outputs": [
        {
          "output_type": "stream",
          "text": [
            "Performance on train set:\n",
            "1634/1634 [==============================] - 161s 97ms/step - loss: 1.0680 - sparse_categorical_accuracy: 0.6744\n",
            "Performance on valid set:\n",
            "133/133 [==============================] - 3s 20ms/step - loss: 1.0350 - sparse_categorical_accuracy: 0.6822: 2s - loss: 1.0289 -\n",
            "Performance on test set:\n",
            "117/117 [==============================] - 2s 20ms/step - loss: 1.1011 - sparse_categorical_accuracy: 0.6649\n",
            "Performance log:\n",
            "run__2021-03-04__18-47-08 | LSTM_Dense_output_with_Encoding | 350900 | 1.068 1.035 1.101 | 67.4% 68.2% 66.5%\n"
          ],
          "name": "stdout"
        },
        {
          "output_type": "display_data",
          "data": {
            "image/png": "[encoded data removed]",
            "text/plain": [
              "<Figure size 1080x216 with 2 Axes>"
            ]
          },
          "metadata": {
            "tags": [],
            "needs_background": "light"
          }
        }
      ]
    },
    {
      "cell_type": "markdown",
      "metadata": {
        "id": "QCFFUF-6fvSC"
      },
      "source": [
        "## Stack of recurrent units followed by dense layer, with one-hot character encoding\n",
        "\n",
        "* Application of a stack of 3 recurrent units.\n",
        "* Implementation for all 3 built-in recurrent units (choose which one using the _type_of_recurrent_unit_ variable in the first cell)."
      ],
      "id": "QCFFUF-6fvSC"
    },
    {
      "cell_type": "code",
      "metadata": {
        "id": "XR8CEwR5fvSD"
      },
      "source": [
        "sequence_length = 32\n",
        "batch_size = 128\n",
        "dict_size = len(tokenizer.index_word.keys()) + 1\n",
        "recurrent_dim = 2 * dict_size\n",
        "recurrent_stack_size = 3\n",
        "type_of_recurrent_unit = \"lstm\" # \"simple_rnn\", \"gru\", \"lstm\"\n",
        "model_name = \"LSTM_stack_encoding_dense\"\n",
        "lr_0 = .001\n",
        "epochs = 100"
      ],
      "id": "XR8CEwR5fvSD",
      "execution_count": null,
      "outputs": []
    },
    {
      "cell_type": "code",
      "metadata": {
        "id": "5I-3imFHfvSK"
      },
      "source": [
        "train = make_dataset('train', tokenizer, sequence_length = sequence_length, batch_size = batch_size, batching_mode = 'recurrent_encoding')\n",
        "valid = make_dataset('valid', tokenizer, sequence_length = sequence_length, batching_mode = 'recurrent_encoding')\n",
        "test = make_dataset('test', tokenizer, sequence_length = sequence_length, batching_mode = 'recurrent_encoding')"
      ],
      "id": "5I-3imFHfvSK",
      "execution_count": null,
      "outputs": []
    },
    {
      "cell_type": "code",
      "metadata": {
        "id": "eZ-NnNXRfvSP",
        "outputId": "b9bdd719-091f-46f9-c080-3e3dd04c0587"
      },
      "source": [
        "model = keras.models.Sequential(name = model_name)\n",
        "\n",
        "encoding = keras.layers.experimental.preprocessing.CategoryEncoding(max_tokens = dict_size, name = \"Encoding\")\n",
        "td_encoding = keras.layers.TimeDistributed(encoding, input_shape = [None, 1], name = \"TD_Encoding\")\n",
        "\n",
        "model.add(td_encoding)\n",
        "\n",
        "for unit in range(recurrent_stack_size):\n",
        "    if type_of_recurrent_unit == \"simple_rnn\":    \n",
        "        model.add(keras.layers.SimpleRNN(units = recurrent_dim, return_sequences = True, name = \"Recurrent_\"+str(unit)))\n",
        "    elif type_of_recurrent_unit == \"gru\":\n",
        "        model.add(keras.layers.GRU(units = recurrent_dim, return_sequences = True, name = \"Recurrent_\"+str(unit)))\n",
        "    elif type_of_recurrent_unit == \"lstm\":\n",
        "        model.add(keras.layers.LSTM(units = recurrent_dim, return_sequences = True, name = \"Recurrent_\"+str(unit)))\n",
        "\n",
        "dense = keras.layers.Dense(units = dict_size, activation = 'softmax', name = \"Dense\",\n",
        "                           bias_initializer = keras.initializers.Constant(bias_output_layer))              \n",
        "              \n",
        "model.add(dense)\n",
        "\n",
        "model.compile(optimizer = keras.optimizers.Adam(learning_rate = lr_0), \n",
        "              loss = 'sparse_categorical_crossentropy', metrics = ['sparse_categorical_accuracy'])\n",
        "\n",
        "early_stopping_cb = keras.callbacks.EarlyStopping(patience = 5, min_delta = .01, restore_best_weights = True, verbose = True)\n",
        "log_dir = get_tensorboard_logdir()\n",
        "tensorboard_cb = keras.callbacks.TensorBoard(log_dir = log_dir)\n",
        "\n",
        "model.summary()"
      ],
      "id": "eZ-NnNXRfvSP",
      "execution_count": null,
      "outputs": [
        {
          "output_type": "stream",
          "text": [
            "Model: \"LSTM_stack_encoding_dense\"\n",
            "_________________________________________________________________\n",
            "Layer (type)                 Output Shape              Param #   \n",
            "=================================================================\n",
            "TD_Encoding (TimeDistributed (None, None, 116)         0         \n",
            "_________________________________________________________________\n",
            "Recurrent_0 (LSTM)           (None, None, 232)         323872    \n",
            "_________________________________________________________________\n",
            "Recurrent_1 (LSTM)           (None, None, 232)         431520    \n",
            "_________________________________________________________________\n",
            "Recurrent_2 (LSTM)           (None, None, 232)         431520    \n",
            "_________________________________________________________________\n",
            "Dense (Dense)                (None, None, 116)         27028     \n",
            "=================================================================\n",
            "Total params: 1,213,940\n",
            "Trainable params: 1,213,940\n",
            "Non-trainable params: 0\n",
            "_________________________________________________________________\n"
          ],
          "name": "stdout"
        }
      ]
    },
    {
      "cell_type": "code",
      "metadata": {
        "id": "c0pE6EzofvSh",
        "outputId": "7674ec06-addc-4810-9140-f10b6d26a1e0"
      },
      "source": [
        "history = model.fit(train, epochs = epochs, verbose = 0, validation_data = valid,\n",
        "                    callbacks = [early_stopping_cb, tensorboard_cb])"
      ],
      "id": "c0pE6EzofvSh",
      "execution_count": null,
      "outputs": [
        {
          "output_type": "stream",
          "text": [
            "Restoring model weights from the end of the best epoch.\n",
            "Epoch 00016: early stopping\n"
          ],
          "name": "stdout"
        }
      ]
    },
    {
      "cell_type": "markdown",
      "metadata": {
        "id": "OsPp3KfzGXP4"
      },
      "source": [
        "The use of a stack of 3 recurrent units gives us another performance boost."
      ],
      "id": "OsPp3KfzGXP4"
    },
    {
      "cell_type": "code",
      "metadata": {
        "id": "oNMXCBIxfvSp",
        "outputId": "74363af6-4e15-47a2-f721-d73ebe7ca0f3"
      },
      "source": [
        "print_performance(model, log_dir)\n",
        "print_history(history)"
      ],
      "id": "oNMXCBIxfvSp",
      "execution_count": null,
      "outputs": [
        {
          "output_type": "stream",
          "text": [
            "Performance on train set:\n",
            "1634/1634 [==============================] - 512s 312ms/step - loss: 1.0596 - sparse_categorical_accuracy: 0.6738\n",
            "Performance on valid set:\n",
            "133/133 [==============================] - 9s 71ms/step - loss: 1.0298 - sparse_categorical_accuracy: 0.6811\n",
            "Performance on test set:\n",
            "117/117 [==============================] - 8s 71ms/step - loss: 1.0936 - sparse_categorical_accuracy: 0.6640\n",
            "Performance log:\n",
            "run__2021-03-05__18-58-16 | LSTM_stack_encoding_dense | 1213940 | 1.06 1.03 1.094 | 67.4% 68.1% 66.4%\n"
          ],
          "name": "stdout"
        },
        {
          "output_type": "display_data",
          "data": {
            "image/png": "[encoded data removed]",
            "text/plain": [
              "<Figure size 1080x216 with 2 Axes>"
            ]
          },
          "metadata": {
            "tags": [],
            "needs_background": "light"
          }
        }
      ]
    },
    {
      "cell_type": "markdown",
      "metadata": {
        "id": "P29PmnY1fvSr"
      },
      "source": [
        "## Recurrent units with layer normalization\n",
        "\n",
        "* Model with a stack of 3 recurrent units followed by a dense layer.\n",
        "* This model uses custom GRU and LSTM recurrent units (the classes are declared in a section above).\n",
        "* Layer normalization stabilizes training and allows for faster learning rates as well as processing of longer text sequences with decreased risk of exploding gradients."
      ],
      "id": "P29PmnY1fvSr"
    },
    {
      "cell_type": "code",
      "metadata": {
        "id": "JzYLgjAJfvSv"
      },
      "source": [
        "sequence_length = 128\n",
        "batch_size = 32\n",
        "dict_size = len(tokenizer.index_word.keys()) + 1\n",
        "recurrent_dim = 4 * dict_size\n",
        "recurrent_stack_size = 3\n",
        "type_of_recurrent_unit = \"gru\" # \"simple_rnn\", \"gru\", \"lstm\"\n",
        "model_name = \"GRU_LN_encoding_dense\"\n",
        "lr_0 = .001\n",
        "epochs = 100\n",
        "clip_norm = 1"
      ],
      "id": "JzYLgjAJfvSv",
      "execution_count": null,
      "outputs": []
    },
    {
      "cell_type": "code",
      "metadata": {
        "id": "g2wSQtgbfvS5"
      },
      "source": [
        "train = make_dataset('train', tokenizer, sequence_length = sequence_length, batch_size = batch_size, batching_mode = 'recurrent_encoding')\n",
        "valid = make_dataset('valid', tokenizer, sequence_length = sequence_length, batching_mode = 'recurrent_encoding')\n",
        "test = make_dataset('test', tokenizer, sequence_length = sequence_length, batching_mode = 'recurrent_encoding')"
      ],
      "id": "g2wSQtgbfvS5",
      "execution_count": null,
      "outputs": []
    },
    {
      "cell_type": "code",
      "metadata": {
        "id": "DnioWQ36fvTB",
        "outputId": "5b32b55b-5041-43b7-e583-28aa3184d73b"
      },
      "source": [
        "model = keras.models.Sequential(name = model_name)\n",
        "\n",
        "encoding = keras.layers.experimental.preprocessing.CategoryEncoding(max_tokens = dict_size, name = \"Encoding\")\n",
        "td_encoding = keras.layers.TimeDistributed(encoding, input_shape = [None, 1], name = \"TD_Encoding\")\n",
        "\n",
        "model.add(td_encoding)\n",
        "\n",
        "for unit in range(recurrent_stack_size):\n",
        "    if type_of_recurrent_unit == \"simple_rnn\":    \n",
        "        # NOT YET IMPLEMENTED WITH LN\n",
        "        model.add(keras.layers.SimpleRNN(units = recurrent_dim, return_sequences = True, name = \"Recurrent_\"+str(unit)))\n",
        "    elif type_of_recurrent_unit == \"gru\":\n",
        "        model.add(keras.layers.RNN(LN_GRU_Cell(units = recurrent_dim), return_sequences = True, name = \"Recurrent_\"+str(unit)))\n",
        "    elif type_of_recurrent_unit == \"lstm\":\n",
        "        model.add(keras.layers.RNN(LN_LSTM_Cell(units = recurrent_dim), return_sequences = True, name = \"Recurrent_\"+str(unit)))\n",
        "\n",
        "dense = keras.layers.Dense(units = dict_size, activation = 'softmax', name = \"Dense\",\n",
        "                           bias_initializer = keras.initializers.Constant(bias_output_layer))              \n",
        "              \n",
        "model.add(dense)\n",
        "\n",
        "model.compile(optimizer = keras.optimizers.Adam(learning_rate = lr_0, clipnorm = clip_norm), \n",
        "              loss = 'sparse_categorical_crossentropy', metrics = ['sparse_categorical_accuracy'])\n",
        "\n",
        "early_stopping_cb = keras.callbacks.EarlyStopping(patience = 2, min_delta = .01, restore_best_weights = True, verbose = True)\n",
        "log_dir = get_tensorboard_logdir()\n",
        "tensorboard_cb = keras.callbacks.TensorBoard(log_dir = log_dir)\n",
        "\n",
        "model.summary()"
      ],
      "id": "DnioWQ36fvTB",
      "execution_count": null,
      "outputs": [
        {
          "output_type": "stream",
          "text": [
            "Model: \"GRU_LN_encoding_dense\"\n",
            "_________________________________________________________________\n",
            "Layer (type)                 Output Shape              Param #   \n",
            "=================================================================\n",
            "TD_Encoding (TimeDistributed (None, None, 116)         0         \n",
            "_________________________________________________________________\n",
            "Recurrent_0 (RNN)            (None, None, 464)         811072    \n",
            "_________________________________________________________________\n",
            "Recurrent_1 (RNN)            (None, None, 464)         1295488   \n",
            "_________________________________________________________________\n",
            "Recurrent_2 (RNN)            (None, None, 464)         1295488   \n",
            "_________________________________________________________________\n",
            "Dense (Dense)                (None, None, 116)         53940     \n",
            "=================================================================\n",
            "Total params: 3,455,988\n",
            "Trainable params: 3,455,988\n",
            "Non-trainable params: 0\n",
            "_________________________________________________________________\n"
          ],
          "name": "stdout"
        }
      ]
    },
    {
      "cell_type": "code",
      "metadata": {
        "id": "QQ-Af33IfvTC",
        "outputId": "e0c9dc7a-af4c-4ea8-bc34-f5671fa602fc"
      },
      "source": [
        "history = model.fit(train, epochs = epochs, verbose = 1, validation_data = valid,\n",
        "                    callbacks = [early_stopping_cb, tensorboard_cb])"
      ],
      "id": "QQ-Af33IfvTC",
      "execution_count": null,
      "outputs": [
        {
          "output_type": "stream",
          "text": [
            "Restoring model weights from the end of the best epoch.\n",
            "Epoch 00006: early stopping\n"
          ],
          "name": "stdout"
        }
      ]
    },
    {
      "cell_type": "code",
      "metadata": {
        "id": "xm7tPRlHfvTC",
        "outputId": "08a19b31-58e3-42af-fad1-82e1b23912da"
      },
      "source": [
        "print_performance(model, log_dir)\n",
        "print_history(history)"
      ],
      "id": "xm7tPRlHfvTC",
      "execution_count": null,
      "outputs": [
        {
          "output_type": "stream",
          "text": [
            "Performance on train set:\n",
            "1634/1634 [==============================] - 3223s 2s/step - loss: 1.0593 - sparse_categorical_accuracy: 0.6779\n",
            "Performance on valid set:\n",
            "33/33 [==============================] - 26s 783ms/step - loss: 1.0143 - sparse_categorical_accuracy: 0.6888\n",
            "Performance on test set:\n",
            "29/29 [==============================] - 24s 815ms/step - loss: 1.0856 - sparse_categorical_accuracy: 0.6672\n",
            "Performance log:\n",
            "run__2021-03-11__19-14-45 | GRU_LN_encoding_dense | 3455988 | 1.059 1.014 1.086 | 67.8% 68.9% 66.7%\n"
          ],
          "name": "stdout"
        },
        {
          "output_type": "display_data",
          "data": {
            "image/png": "[encoded data removed]",
            "text/plain": [
              "<Figure size 1080x216 with 2 Axes>"
            ]
          },
          "metadata": {
            "tags": [],
            "needs_background": "light"
          }
        }
      ]
    },
    {
      "cell_type": "markdown",
      "metadata": {
        "id": "U9RpeJ8LfvTD"
      },
      "source": [
        "## Final model: Stateful RNN, one-hot encoding, layer normalization\n",
        "\n",
        "The final performance improvement comes from using a _stateful_ RNN architecture. This allows the network to identify patterns that are longer than the sequence size fed to the network at each optimization step. Here are the features of this model:\n",
        "\n",
        "* Recurrent layers are created with the _stateful=True_ argument, so the memory cells are not reset after each gradient descent step.\n",
        "* In order to used a _stateful_ network, the dataset needs to be split in such a way that each network instance is fed with the sequence that corresponds to that which it processed in the previous step. The dataset processing function defined in the beginning of the notebook is setup as such.\n",
        "* A _ReduceLROnPlateau_ callback is carefully tuned to reduce the learning rate at approapriate moments during the training process so that learning is more precise in the intermediate and final stages of training.\n",
        "* Dropout rates are selected to provide a regularization effect and reduce overfitting.\n",
        "* After a lot of experimentation, GRU show better performance and robustness to larger learning rates.\n",
        "* The batch size and sequence length are selected to allow for faster training, ability to identify longer patterns, and capacity to fit into the available memory."
      ],
      "id": "U9RpeJ8LfvTD"
    },
    {
      "cell_type": "code",
      "metadata": {
        "id": "PyYWhUxCfvTD"
      },
      "source": [
        "tf.random.set_seed(20210228)\n",
        "sequence_length = 512\n",
        "batch_size = 64\n",
        "dict_size = len(tokenizer.index_word.keys()) + 1\n",
        "recurrent_dim = 5 * dict_size\n",
        "recurrent_stack_size = 3\n",
        "dropout = .10\n",
        "recurrent_dropout = .05\n",
        "type_of_recurrent_unit = \"gru\" # \"simple_rnn\", \"gru\", \"lstm\"\n",
        "model_name = \"Stateful_GRU_LN_encoding_dense\"\n",
        "lr_0 = .001\n",
        "epochs = 100\n",
        "clip_norm = None"
      ],
      "id": "PyYWhUxCfvTD",
      "execution_count": null,
      "outputs": []
    },
    {
      "cell_type": "code",
      "metadata": {
        "id": "_oEMXxEtfvTI"
      },
      "source": [
        "train = make_dataset('train', tokenizer, sequence_length = sequence_length, batch_size = batch_size, batching_mode = 'stateful_encoding')\n",
        "valid = make_dataset('valid', tokenizer, sequence_length = sequence_length, batching_mode = 'stateful_encoding')\n",
        "test = make_dataset('test', tokenizer, sequence_length = sequence_length, batching_mode = 'stateful_encoding')"
      ],
      "id": "_oEMXxEtfvTI",
      "execution_count": null,
      "outputs": []
    },
    {
      "cell_type": "code",
      "metadata": {
        "colab": {
          "base_uri": "https://localhost:8080/"
        },
        "id": "vODCiKr1fvTT",
        "outputId": "9292410a-14b9-4b65-8d5b-37b386373ecc"
      },
      "source": [
        "model = keras.models.Sequential(name = model_name)\n",
        "\n",
        "encoding = keras.layers.experimental.preprocessing.CategoryEncoding(max_tokens = dict_size, name = \"Encoding\")\n",
        "td_encoding = keras.layers.TimeDistributed(encoding, input_shape = [None, 1], name = \"TD_Encoding\")\n",
        "\n",
        "model.add(td_encoding)\n",
        "\n",
        "for unit in range(recurrent_stack_size):\n",
        "    if type_of_recurrent_unit == \"simple_rnn\":    \n",
        "        # NOT YET IMPLEMENTED WITH LN\n",
        "        model.add(keras.layers.SimpleRNN(units = recurrent_dim, return_sequences = True, name = \"Recurrent_\"+str(unit)))\n",
        "    elif type_of_recurrent_unit == \"gru\":\n",
        "        model.add(keras.layers.RNN(LN_GRU_Cell(units = recurrent_dim, dropout = dropout, recurrent_dropout = recurrent_dropout), \n",
        "                                   return_sequences = True, name = \"Recurrent_\"+str(unit)))\n",
        "    elif type_of_recurrent_unit == \"lstm\":\n",
        "        model.add(keras.layers.RNN(LN_LSTM_Cell(units = recurrent_dim, dropout = dropout, recurrent_dropout = recurrent_dropout), \n",
        "                                   return_sequences = True, name = \"Recurrent_\"+str(unit)))\n",
        "\n",
        "dense = keras.layers.Dense(units = dict_size, activation = 'softmax', name = \"Dense\",\n",
        "                           bias_initializer = keras.initializers.Constant(bias_output_layer))              \n",
        "              \n",
        "model.add(dense)\n",
        "\n",
        "model.compile(optimizer = keras.optimizers.Nadam(learning_rate = lr_0, clipnorm = clip_norm), \n",
        "              loss = 'sparse_categorical_crossentropy', metrics = ['sparse_categorical_accuracy'])\n",
        "\n",
        "early_stopping_cb = keras.callbacks.EarlyStopping(patience = 100, min_delta = 0, restore_best_weights = True, verbose = True)\n",
        "plateau_cb = keras.callbacks.ReduceLROnPlateau(monitor = 'loss', min_delta = .01, patience = 3, factor = .3, cooldown = 30, verbose = 1)\n",
        "terminate_on_nan_cb = keras.callbacks.TerminateOnNaN()\n",
        "log_dir = get_tensorboard_logdir()\n",
        "tensorboard_cb = keras.callbacks.TensorBoard(log_dir = log_dir)\n",
        "\n",
        "model.summary()"
      ],
      "id": "vODCiKr1fvTT",
      "execution_count": null,
      "outputs": [
        {
          "output_type": "stream",
          "text": [
            "Model: \"Stateful_GRU_LN_encoding_dense\"\n",
            "_________________________________________________________________\n",
            "Layer (type)                 Output Shape              Param #   \n",
            "=================================================================\n",
            "TD_Encoding (TimeDistributed (None, None, 116)         0         \n",
            "_________________________________________________________________\n",
            "Recurrent_0 (RNN)            (None, None, 580)         1215680   \n",
            "_________________________________________________________________\n",
            "Recurrent_1 (RNN)            (None, None, 580)         2023040   \n",
            "_________________________________________________________________\n",
            "Recurrent_2 (RNN)            (None, None, 580)         2023040   \n",
            "_________________________________________________________________\n",
            "Dense (Dense)                (None, None, 116)         67396     \n",
            "=================================================================\n",
            "Total params: 5,329,156\n",
            "Trainable params: 5,329,156\n",
            "Non-trainable params: 0\n",
            "_________________________________________________________________\n"
          ],
          "name": "stdout"
        }
      ]
    },
    {
      "cell_type": "code",
      "metadata": {
        "colab": {
          "base_uri": "https://localhost:8080/"
        },
        "id": "t3iZvzyrfvTV",
        "outputId": "52c02a77-f8a2-4cc8-83f9-03bcbdea6f3f"
      },
      "source": [
        "history = model.fit(train, epochs = epochs, verbose = 1, validation_data = valid,\n",
        "                    callbacks = [early_stopping_cb, tensorboard_cb, terminate_on_nan_cb, plateau_cb])"
      ],
      "id": "t3iZvzyrfvTV",
      "execution_count": null,
      "outputs": [
        {
          "output_type": "stream",
          "text": [
            "Epoch 1/100\n",
            "204/204 [==============================] - 531s 2s/step - loss: 2.5602 - sparse_categorical_accuracy: 0.3290 - val_loss: 1.1567 - val_sparse_categorical_accuracy: 0.6530\n",
            "Epoch 2/100\n",
            "204/204 [==============================] - 481s 2s/step - loss: 1.4576 - sparse_categorical_accuracy: 0.5747 - val_loss: 0.9509 - val_sparse_categorical_accuracy: 0.7081\n",
            "Epoch 3/100\n",
            "204/204 [==============================] - 474s 2s/step - loss: 1.1523 - sparse_categorical_accuracy: 0.6559 - val_loss: 0.8718 - val_sparse_categorical_accuracy: 0.7301\n",
            "Epoch 4/100\n",
            "204/204 [==============================] - 473s 2s/step - loss: 1.0172 - sparse_categorical_accuracy: 0.6925 - val_loss: 0.8210 - val_sparse_categorical_accuracy: 0.7455\n",
            "Epoch 5/100\n",
            "204/204 [==============================] - 474s 2s/step - loss: 0.9495 - sparse_categorical_accuracy: 0.7112 - val_loss: 0.7869 - val_sparse_categorical_accuracy: 0.7568\n",
            "Epoch 6/100\n",
            "204/204 [==============================] - 473s 2s/step - loss: 0.9061 - sparse_categorical_accuracy: 0.7233 - val_loss: 0.7639 - val_sparse_categorical_accuracy: 0.7633\n",
            "Epoch 7/100\n",
            "204/204 [==============================] - 473s 2s/step - loss: 0.8744 - sparse_categorical_accuracy: 0.7325 - val_loss: 0.7467 - val_sparse_categorical_accuracy: 0.7692\n",
            "Epoch 8/100\n",
            "204/204 [==============================] - 473s 2s/step - loss: 0.8500 - sparse_categorical_accuracy: 0.7396 - val_loss: 0.7330 - val_sparse_categorical_accuracy: 0.7715\n",
            "Epoch 9/100\n",
            "204/204 [==============================] - 477s 2s/step - loss: 0.8300 - sparse_categorical_accuracy: 0.7455 - val_loss: 0.7230 - val_sparse_categorical_accuracy: 0.7765\n",
            "Epoch 10/100\n",
            "204/204 [==============================] - 480s 2s/step - loss: 0.8126 - sparse_categorical_accuracy: 0.7505 - val_loss: 0.7118 - val_sparse_categorical_accuracy: 0.7784\n",
            "Epoch 11/100\n",
            "204/204 [==============================] - 480s 2s/step - loss: 0.7985 - sparse_categorical_accuracy: 0.7547 - val_loss: 0.7048 - val_sparse_categorical_accuracy: 0.7819\n",
            "Epoch 12/100\n",
            "204/204 [==============================] - 480s 2s/step - loss: 0.7870 - sparse_categorical_accuracy: 0.7580 - val_loss: 0.6981 - val_sparse_categorical_accuracy: 0.7840\n",
            "Epoch 13/100\n",
            "204/204 [==============================] - 480s 2s/step - loss: 0.7754 - sparse_categorical_accuracy: 0.7613 - val_loss: 0.6927 - val_sparse_categorical_accuracy: 0.7869\n",
            "Epoch 14/100\n",
            "204/204 [==============================] - 481s 2s/step - loss: 0.7655 - sparse_categorical_accuracy: 0.7641 - val_loss: 0.6872 - val_sparse_categorical_accuracy: 0.7874\n",
            "Epoch 15/100\n",
            "204/204 [==============================] - 481s 2s/step - loss: 0.7579 - sparse_categorical_accuracy: 0.7663 - val_loss: 0.6827 - val_sparse_categorical_accuracy: 0.7893\n",
            "Epoch 16/100\n",
            "204/204 [==============================] - 482s 2s/step - loss: 0.7492 - sparse_categorical_accuracy: 0.7690 - val_loss: 0.6767 - val_sparse_categorical_accuracy: 0.7914\n",
            "Epoch 17/100\n",
            "204/204 [==============================] - 482s 2s/step - loss: 0.7418 - sparse_categorical_accuracy: 0.7711 - val_loss: 0.6745 - val_sparse_categorical_accuracy: 0.7912\n",
            "Epoch 18/100\n",
            "204/204 [==============================] - 482s 2s/step - loss: 0.7354 - sparse_categorical_accuracy: 0.7731 - val_loss: 0.6732 - val_sparse_categorical_accuracy: 0.7921\n",
            "Epoch 19/100\n",
            "204/204 [==============================] - 480s 2s/step - loss: 0.7290 - sparse_categorical_accuracy: 0.7748 - val_loss: 0.6683 - val_sparse_categorical_accuracy: 0.7929\n",
            "Epoch 20/100\n",
            "204/204 [==============================] - 481s 2s/step - loss: 0.7222 - sparse_categorical_accuracy: 0.7768 - val_loss: 0.6636 - val_sparse_categorical_accuracy: 0.7937\n",
            "Epoch 21/100\n",
            "204/204 [==============================] - 482s 2s/step - loss: 0.7173 - sparse_categorical_accuracy: 0.7782 - val_loss: 0.6617 - val_sparse_categorical_accuracy: 0.7956\n",
            "Epoch 22/100\n",
            "204/204 [==============================] - 481s 2s/step - loss: 0.7117 - sparse_categorical_accuracy: 0.7798 - val_loss: 0.6599 - val_sparse_categorical_accuracy: 0.7966\n",
            "Epoch 23/100\n",
            "204/204 [==============================] - 481s 2s/step - loss: 0.7070 - sparse_categorical_accuracy: 0.7813 - val_loss: 0.6554 - val_sparse_categorical_accuracy: 0.7975\n",
            "Epoch 24/100\n",
            "204/204 [==============================] - 482s 2s/step - loss: 0.7020 - sparse_categorical_accuracy: 0.7827 - val_loss: 0.6534 - val_sparse_categorical_accuracy: 0.7979\n",
            "Epoch 25/100\n",
            "204/204 [==============================] - 483s 2s/step - loss: 0.6979 - sparse_categorical_accuracy: 0.7838 - val_loss: 0.6522 - val_sparse_categorical_accuracy: 0.7998\n",
            "Epoch 26/100\n",
            "204/204 [==============================] - 482s 2s/step - loss: 0.6935 - sparse_categorical_accuracy: 0.7850 - val_loss: 0.6513 - val_sparse_categorical_accuracy: 0.7998\n",
            "Epoch 27/100\n",
            "204/204 [==============================] - 484s 2s/step - loss: 0.6895 - sparse_categorical_accuracy: 0.7864 - val_loss: 0.6485 - val_sparse_categorical_accuracy: 0.8003\n",
            "Epoch 28/100\n",
            "204/204 [==============================] - 483s 2s/step - loss: 0.6859 - sparse_categorical_accuracy: 0.7874 - val_loss: 0.6469 - val_sparse_categorical_accuracy: 0.8006\n",
            "Epoch 29/100\n",
            "204/204 [==============================] - 483s 2s/step - loss: 0.6822 - sparse_categorical_accuracy: 0.7883 - val_loss: 0.6437 - val_sparse_categorical_accuracy: 0.8016\n",
            "Epoch 30/100\n",
            "204/204 [==============================] - 482s 2s/step - loss: 0.6790 - sparse_categorical_accuracy: 0.7891 - val_loss: 0.6442 - val_sparse_categorical_accuracy: 0.8007\n",
            "Epoch 31/100\n",
            "204/204 [==============================] - 484s 2s/step - loss: 0.6758 - sparse_categorical_accuracy: 0.7902 - val_loss: 0.6419 - val_sparse_categorical_accuracy: 0.8014\n",
            "Epoch 32/100\n",
            "204/204 [==============================] - 483s 2s/step - loss: 0.6726 - sparse_categorical_accuracy: 0.7910 - val_loss: 0.6385 - val_sparse_categorical_accuracy: 0.8035\n",
            "\n",
            "Epoch 00032: ReduceLROnPlateau reducing learning rate to 0.0003000000142492354.\n",
            "Epoch 33/100\n",
            "204/204 [==============================] - 483s 2s/step - loss: 0.6590 - sparse_categorical_accuracy: 0.7950 - val_loss: 0.6210 - val_sparse_categorical_accuracy: 0.8089\n",
            "Epoch 34/100\n",
            "204/204 [==============================] - 482s 2s/step - loss: 0.6420 - sparse_categorical_accuracy: 0.7999 - val_loss: 0.6178 - val_sparse_categorical_accuracy: 0.8095\n",
            "Epoch 35/100\n",
            "204/204 [==============================] - 483s 2s/step - loss: 0.6362 - sparse_categorical_accuracy: 0.8017 - val_loss: 0.6154 - val_sparse_categorical_accuracy: 0.8109\n",
            "Epoch 36/100\n",
            "204/204 [==============================] - 483s 2s/step - loss: 0.6324 - sparse_categorical_accuracy: 0.8026 - val_loss: 0.6151 - val_sparse_categorical_accuracy: 0.8106\n",
            "Epoch 37/100\n",
            "204/204 [==============================] - 482s 2s/step - loss: 0.6293 - sparse_categorical_accuracy: 0.8035 - val_loss: 0.6139 - val_sparse_categorical_accuracy: 0.8123\n",
            "Epoch 38/100\n",
            "204/204 [==============================] - 483s 2s/step - loss: 0.6270 - sparse_categorical_accuracy: 0.8042 - val_loss: 0.6130 - val_sparse_categorical_accuracy: 0.8120\n",
            "Epoch 39/100\n",
            "204/204 [==============================] - 481s 2s/step - loss: 0.6246 - sparse_categorical_accuracy: 0.8049 - val_loss: 0.6121 - val_sparse_categorical_accuracy: 0.8120\n",
            "Epoch 40/100\n",
            "204/204 [==============================] - 485s 2s/step - loss: 0.6228 - sparse_categorical_accuracy: 0.8057 - val_loss: 0.6117 - val_sparse_categorical_accuracy: 0.8124\n",
            "Epoch 41/100\n",
            "204/204 [==============================] - 484s 2s/step - loss: 0.6210 - sparse_categorical_accuracy: 0.8061 - val_loss: 0.6113 - val_sparse_categorical_accuracy: 0.8134\n",
            "Epoch 42/100\n",
            "204/204 [==============================] - 481s 2s/step - loss: 0.6192 - sparse_categorical_accuracy: 0.8067 - val_loss: 0.6115 - val_sparse_categorical_accuracy: 0.8137\n",
            "Epoch 43/100\n",
            "204/204 [==============================] - 483s 2s/step - loss: 0.6177 - sparse_categorical_accuracy: 0.8071 - val_loss: 0.6095 - val_sparse_categorical_accuracy: 0.8135\n",
            "Epoch 44/100\n",
            "204/204 [==============================] - 483s 2s/step - loss: 0.6163 - sparse_categorical_accuracy: 0.8073 - val_loss: 0.6088 - val_sparse_categorical_accuracy: 0.8141\n",
            "Epoch 45/100\n",
            "204/204 [==============================] - 483s 2s/step - loss: 0.6149 - sparse_categorical_accuracy: 0.8076 - val_loss: 0.6096 - val_sparse_categorical_accuracy: 0.8132\n",
            "Epoch 46/100\n",
            "204/204 [==============================] - 482s 2s/step - loss: 0.6135 - sparse_categorical_accuracy: 0.8082 - val_loss: 0.6091 - val_sparse_categorical_accuracy: 0.8137\n",
            "Epoch 47/100\n",
            "204/204 [==============================] - 483s 2s/step - loss: 0.6121 - sparse_categorical_accuracy: 0.8087 - val_loss: 0.6085 - val_sparse_categorical_accuracy: 0.8142\n",
            "Epoch 48/100\n",
            "204/204 [==============================] - 481s 2s/step - loss: 0.6108 - sparse_categorical_accuracy: 0.8089 - val_loss: 0.6070 - val_sparse_categorical_accuracy: 0.8134\n",
            "Epoch 49/100\n",
            "204/204 [==============================] - 482s 2s/step - loss: 0.6098 - sparse_categorical_accuracy: 0.8093 - val_loss: 0.6080 - val_sparse_categorical_accuracy: 0.8137\n",
            "Epoch 50/100\n",
            "204/204 [==============================] - 482s 2s/step - loss: 0.6086 - sparse_categorical_accuracy: 0.8097 - val_loss: 0.6072 - val_sparse_categorical_accuracy: 0.8141\n",
            "Epoch 51/100\n",
            "204/204 [==============================] - 481s 2s/step - loss: 0.6072 - sparse_categorical_accuracy: 0.8099 - val_loss: 0.6070 - val_sparse_categorical_accuracy: 0.8152\n",
            "Epoch 52/100\n",
            "204/204 [==============================] - 482s 2s/step - loss: 0.6065 - sparse_categorical_accuracy: 0.8102 - val_loss: 0.6067 - val_sparse_categorical_accuracy: 0.8152\n",
            "Epoch 53/100\n",
            "204/204 [==============================] - 482s 2s/step - loss: 0.6052 - sparse_categorical_accuracy: 0.8108 - val_loss: 0.6067 - val_sparse_categorical_accuracy: 0.8152\n",
            "Epoch 54/100\n",
            "204/204 [==============================] - 482s 2s/step - loss: 0.6040 - sparse_categorical_accuracy: 0.8110 - val_loss: 0.6049 - val_sparse_categorical_accuracy: 0.8155\n",
            "Epoch 55/100\n",
            "204/204 [==============================] - 481s 2s/step - loss: 0.6031 - sparse_categorical_accuracy: 0.8111 - val_loss: 0.6045 - val_sparse_categorical_accuracy: 0.8160\n",
            "Epoch 56/100\n",
            "204/204 [==============================] - 481s 2s/step - loss: 0.6025 - sparse_categorical_accuracy: 0.8114 - val_loss: 0.6055 - val_sparse_categorical_accuracy: 0.8153\n",
            "Epoch 57/100\n",
            "204/204 [==============================] - 482s 2s/step - loss: 0.6010 - sparse_categorical_accuracy: 0.8120 - val_loss: 0.6060 - val_sparse_categorical_accuracy: 0.8167\n",
            "Epoch 58/100\n",
            "204/204 [==============================] - 483s 2s/step - loss: 0.6000 - sparse_categorical_accuracy: 0.8121 - val_loss: 0.6054 - val_sparse_categorical_accuracy: 0.8152\n",
            "Epoch 59/100\n",
            "204/204 [==============================] - 482s 2s/step - loss: 0.5988 - sparse_categorical_accuracy: 0.8126 - val_loss: 0.6041 - val_sparse_categorical_accuracy: 0.8159\n",
            "\n",
            "Epoch 00059: ReduceLROnPlateau reducing learning rate to 9.000000427477062e-05.\n",
            "Epoch 60/100\n",
            "204/204 [==============================] - 482s 2s/step - loss: 0.5953 - sparse_categorical_accuracy: 0.8134 - val_loss: 0.5974 - val_sparse_categorical_accuracy: 0.8180\n",
            "Epoch 61/100\n",
            "204/204 [==============================] - 482s 2s/step - loss: 0.5897 - sparse_categorical_accuracy: 0.8152 - val_loss: 0.5966 - val_sparse_categorical_accuracy: 0.8182\n",
            "Epoch 62/100\n",
            "204/204 [==============================] - 481s 2s/step - loss: 0.5878 - sparse_categorical_accuracy: 0.8158 - val_loss: 0.5962 - val_sparse_categorical_accuracy: 0.8182\n",
            "Epoch 63/100\n",
            "204/204 [==============================] - 480s 2s/step - loss: 0.5867 - sparse_categorical_accuracy: 0.8160 - val_loss: 0.5954 - val_sparse_categorical_accuracy: 0.8184\n",
            "Epoch 64/100\n",
            "204/204 [==============================] - 480s 2s/step - loss: 0.5851 - sparse_categorical_accuracy: 0.8166 - val_loss: 0.5954 - val_sparse_categorical_accuracy: 0.8190\n",
            "Epoch 65/100\n",
            "204/204 [==============================] - 482s 2s/step - loss: 0.5840 - sparse_categorical_accuracy: 0.8170 - val_loss: 0.5947 - val_sparse_categorical_accuracy: 0.8193\n",
            "Epoch 66/100\n",
            "204/204 [==============================] - 482s 2s/step - loss: 0.5837 - sparse_categorical_accuracy: 0.8170 - val_loss: 0.5946 - val_sparse_categorical_accuracy: 0.8191\n",
            "Epoch 67/100\n",
            "204/204 [==============================] - 480s 2s/step - loss: 0.5837 - sparse_categorical_accuracy: 0.8170 - val_loss: 0.5939 - val_sparse_categorical_accuracy: 0.8187\n",
            "Epoch 68/100\n",
            "204/204 [==============================] - 480s 2s/step - loss: 0.5824 - sparse_categorical_accuracy: 0.8173 - val_loss: 0.5950 - val_sparse_categorical_accuracy: 0.8189\n",
            "Epoch 69/100\n",
            "204/204 [==============================] - 481s 2s/step - loss: 0.5816 - sparse_categorical_accuracy: 0.8176 - val_loss: 0.5941 - val_sparse_categorical_accuracy: 0.8183\n",
            "Epoch 70/100\n",
            "204/204 [==============================] - 480s 2s/step - loss: 0.5809 - sparse_categorical_accuracy: 0.8177 - val_loss: 0.5945 - val_sparse_categorical_accuracy: 0.8192\n",
            "Epoch 71/100\n",
            "204/204 [==============================] - 483s 2s/step - loss: 0.5812 - sparse_categorical_accuracy: 0.8177 - val_loss: 0.5945 - val_sparse_categorical_accuracy: 0.8191\n",
            "Epoch 72/100\n",
            "204/204 [==============================] - 484s 2s/step - loss: 0.5802 - sparse_categorical_accuracy: 0.8179 - val_loss: 0.5937 - val_sparse_categorical_accuracy: 0.8196\n",
            "Epoch 73/100\n",
            "204/204 [==============================] - 482s 2s/step - loss: 0.5795 - sparse_categorical_accuracy: 0.8181 - val_loss: 0.5939 - val_sparse_categorical_accuracy: 0.8192\n",
            "Epoch 74/100\n",
            "204/204 [==============================] - 483s 2s/step - loss: 0.5796 - sparse_categorical_accuracy: 0.8182 - val_loss: 0.5937 - val_sparse_categorical_accuracy: 0.8192\n",
            "Epoch 75/100\n",
            "204/204 [==============================] - 482s 2s/step - loss: 0.5790 - sparse_categorical_accuracy: 0.8184 - val_loss: 0.5939 - val_sparse_categorical_accuracy: 0.8193\n",
            "Epoch 76/100\n",
            "204/204 [==============================] - 483s 2s/step - loss: 0.5783 - sparse_categorical_accuracy: 0.8184 - val_loss: 0.5935 - val_sparse_categorical_accuracy: 0.8199\n",
            "Epoch 77/100\n",
            "204/204 [==============================] - 483s 2s/step - loss: 0.5780 - sparse_categorical_accuracy: 0.8187 - val_loss: 0.5926 - val_sparse_categorical_accuracy: 0.8198\n",
            "Epoch 78/100\n",
            "204/204 [==============================] - 483s 2s/step - loss: 0.5777 - sparse_categorical_accuracy: 0.8186 - val_loss: 0.5932 - val_sparse_categorical_accuracy: 0.8197\n",
            "Epoch 79/100\n",
            "204/204 [==============================] - 483s 2s/step - loss: 0.5769 - sparse_categorical_accuracy: 0.8190 - val_loss: 0.5927 - val_sparse_categorical_accuracy: 0.8194\n",
            "Epoch 80/100\n",
            "204/204 [==============================] - 482s 2s/step - loss: 0.5770 - sparse_categorical_accuracy: 0.8189 - val_loss: 0.5923 - val_sparse_categorical_accuracy: 0.8193\n",
            "Epoch 81/100\n",
            "204/204 [==============================] - 483s 2s/step - loss: 0.5763 - sparse_categorical_accuracy: 0.8191 - val_loss: 0.5924 - val_sparse_categorical_accuracy: 0.8191\n",
            "Epoch 82/100\n",
            "204/204 [==============================] - 482s 2s/step - loss: 0.5758 - sparse_categorical_accuracy: 0.8193 - val_loss: 0.5922 - val_sparse_categorical_accuracy: 0.8196\n",
            "Epoch 83/100\n",
            "204/204 [==============================] - 482s 2s/step - loss: 0.5757 - sparse_categorical_accuracy: 0.8192 - val_loss: 0.5921 - val_sparse_categorical_accuracy: 0.8204\n",
            "Epoch 84/100\n",
            "204/204 [==============================] - 483s 2s/step - loss: 0.5754 - sparse_categorical_accuracy: 0.8193 - val_loss: 0.5922 - val_sparse_categorical_accuracy: 0.8203\n",
            "Epoch 85/100\n",
            "204/204 [==============================] - 484s 2s/step - loss: 0.5752 - sparse_categorical_accuracy: 0.8192 - val_loss: 0.5920 - val_sparse_categorical_accuracy: 0.8201\n",
            "Epoch 86/100\n",
            "204/204 [==============================] - 484s 2s/step - loss: 0.5744 - sparse_categorical_accuracy: 0.8197 - val_loss: 0.5918 - val_sparse_categorical_accuracy: 0.8200\n",
            "\n",
            "Epoch 00086: ReduceLROnPlateau reducing learning rate to 2.700000040931627e-05.\n",
            "Epoch 87/100\n",
            "204/204 [==============================] - 484s 2s/step - loss: 0.5737 - sparse_categorical_accuracy: 0.8200 - val_loss: 0.5892 - val_sparse_categorical_accuracy: 0.8205\n",
            "Epoch 88/100\n",
            "204/204 [==============================] - 484s 2s/step - loss: 0.5714 - sparse_categorical_accuracy: 0.8207 - val_loss: 0.5889 - val_sparse_categorical_accuracy: 0.8204\n",
            "Epoch 89/100\n",
            "204/204 [==============================] - 483s 2s/step - loss: 0.5717 - sparse_categorical_accuracy: 0.8203 - val_loss: 0.5888 - val_sparse_categorical_accuracy: 0.8203\n",
            "Epoch 90/100\n",
            "204/204 [==============================] - 481s 2s/step - loss: 0.5710 - sparse_categorical_accuracy: 0.8206 - val_loss: 0.5886 - val_sparse_categorical_accuracy: 0.8204\n",
            "Epoch 91/100\n",
            "204/204 [==============================] - 475s 2s/step - loss: 0.5699 - sparse_categorical_accuracy: 0.8210 - val_loss: 0.5886 - val_sparse_categorical_accuracy: 0.8212\n",
            "Epoch 92/100\n",
            "204/204 [==============================] - 474s 2s/step - loss: 0.5704 - sparse_categorical_accuracy: 0.8209 - val_loss: 0.5885 - val_sparse_categorical_accuracy: 0.8210\n",
            "Epoch 93/100\n",
            "204/204 [==============================] - 475s 2s/step - loss: 0.5693 - sparse_categorical_accuracy: 0.8213 - val_loss: 0.5885 - val_sparse_categorical_accuracy: 0.8207\n",
            "Epoch 94/100\n",
            "204/204 [==============================] - 475s 2s/step - loss: 0.5695 - sparse_categorical_accuracy: 0.8210 - val_loss: 0.5888 - val_sparse_categorical_accuracy: 0.8210\n",
            "Epoch 95/100\n",
            "204/204 [==============================] - 478s 2s/step - loss: 0.5689 - sparse_categorical_accuracy: 0.8213 - val_loss: 0.5888 - val_sparse_categorical_accuracy: 0.8211\n",
            "Epoch 96/100\n",
            "204/204 [==============================] - 478s 2s/step - loss: 0.5692 - sparse_categorical_accuracy: 0.8213 - val_loss: 0.5887 - val_sparse_categorical_accuracy: 0.8210\n",
            "Epoch 97/100\n",
            "204/204 [==============================] - 475s 2s/step - loss: 0.5691 - sparse_categorical_accuracy: 0.8213 - val_loss: 0.5886 - val_sparse_categorical_accuracy: 0.8208\n",
            "Epoch 98/100\n",
            "204/204 [==============================] - 478s 2s/step - loss: 0.5691 - sparse_categorical_accuracy: 0.8213 - val_loss: 0.5887 - val_sparse_categorical_accuracy: 0.8213\n",
            "Epoch 99/100\n",
            "204/204 [==============================] - 486s 2s/step - loss: 0.5685 - sparse_categorical_accuracy: 0.8212 - val_loss: 0.5885 - val_sparse_categorical_accuracy: 0.8212\n",
            "Epoch 100/100\n",
            "204/204 [==============================] - 476s 2s/step - loss: 0.5684 - sparse_categorical_accuracy: 0.8214 - val_loss: 0.5882 - val_sparse_categorical_accuracy: 0.8212\n"
          ],
          "name": "stdout"
        }
      ]
    },
    {
      "cell_type": "markdown",
      "metadata": {
        "id": "SAZ_hutGJLXl"
      },
      "source": [
        "The improvements in this model provide a major performance boost, with over 82% accuracy in the validation and test sets."
      ],
      "id": "SAZ_hutGJLXl"
    },
    {
      "cell_type": "code",
      "metadata": {
        "id": "cb5y0JCufvTi",
        "colab": {
          "base_uri": "https://localhost:8080/",
          "height": 362
        },
        "outputId": "9ca8c549-8420-4597-9e58-841561ba3d3f"
      },
      "source": [
        "print_performance(model, log_dir)\n",
        "print_history(history)"
      ],
      "id": "cb5y0JCufvTi",
      "execution_count": null,
      "outputs": [
        {
          "output_type": "stream",
          "text": [
            "Performance on train set:\n",
            "204/204 [==============================] - 99s 439ms/step - loss: 0.4369 - sparse_categorical_accuracy: 0.8632\n",
            "Performance on valid set:\n",
            "7/7 [==============================] - 3s 422ms/step - loss: 0.5882 - sparse_categorical_accuracy: 0.8212\n",
            "Performance on test set:\n",
            "7/7 [==============================] - 3s 446ms/step - loss: 0.5766 - sparse_categorical_accuracy: 0.8264\n",
            "Performance log:\n",
            "/content/tb_logs/run__2021-03-26__19-10-36 | Stateful_GRU_LN_encoding_dense | 5329156 | 0.437 0.588 0.577 | 86.3% 82.1% 82.6%\n"
          ],
          "name": "stdout"
        },
        {
          "output_type": "display_data",
          "data": {
            "image/png": "[encoded data removed]",
            "text/plain": [
              "<Figure size 1080x216 with 2 Axes>"
            ]
          },
          "metadata": {
            "tags": [],
            "needs_background": "light"
          }
        }
      ]
    },
    {
      "cell_type": "markdown",
      "metadata": {
        "id": "T3-b5PODxEJA"
      },
      "source": [
        "# Inference and model persistence\n",
        "\n",
        "In this section, we save the model and use it to create new text sequences."
      ],
      "id": "T3-b5PODxEJA"
    },
    {
      "cell_type": "markdown",
      "metadata": {
        "id": "ULlmpKUsMylj"
      },
      "source": [
        "## Save model\n",
        "\n",
        "The code below saves the model in the .h5 file format."
      ],
      "id": "ULlmpKUsMylj"
    },
    {
      "cell_type": "code",
      "metadata": {
        "id": "hIiWjsehghwP"
      },
      "source": [
        "file_name = 'model___' + log_dir.replace(join(getcwd(),'tb_logs',''), '') + '___' + model_name + '.h5'\n",
        "if 'models' not in listdir():\n",
        "    mkdir('models')\n",
        "model.save(join(getcwd(), 'models', file_name))"
      ],
      "id": "hIiWjsehghwP",
      "execution_count": null,
      "outputs": []
    },
    {
      "cell_type": "code",
      "metadata": {
        "id": "GYTN1Pq8C8m9"
      },
      "source": [
        "file_name = 'tokenizer___' + log_dir.replace(join(getcwd(),'tb_logs',''), '') + '___' + model_name + '.json'\n",
        "\n",
        "with open(join(getcwd(), 'models', file_name), 'wb') as file:\n",
        "    pickle.dump(tokenizer, file)"
      ],
      "id": "GYTN1Pq8C8m9",
      "execution_count": null,
      "outputs": []
    },
    {
      "cell_type": "markdown",
      "metadata": {
        "id": "eGWv7hEhfvTn"
      },
      "source": [
        "## Text generator\n",
        "\n",
        "This section uses the recently trained model to create original text.\n",
        "\n",
        "The _convert_to_inference_model_ function receives a model as argument and returns a version with _stateful_ set to _True_. The application of this function is not necessary for the final model (which was created and trained in this setup), but is important for the use of all the previous versions."
      ],
      "id": "eGWv7hEhfvTn"
    },
    {
      "cell_type": "code",
      "metadata": {
        "id": "y_kfvdFdfvTo"
      },
      "source": [
        "def convert_to_inference_model(original_model, custom_objects=None):\n",
        "    original_model_json = original_model.to_json()\n",
        "    inference_model_dict = json.loads(original_model_json)\n",
        "\n",
        "    layers = inference_model_dict['config']['layers']\n",
        "    for layer in layers:\n",
        "        if 'stateful' in layer['config']:\n",
        "            layer['config']['stateful'] = True\n",
        "\n",
        "        if 'batch_input_shape' in layer['config']:\n",
        "            layer['config']['batch_input_shape'][0] = 1\n",
        "            layer['config']['batch_input_shape'][1] = None\n",
        "\n",
        "    inference_model = keras.models.model_from_json(json.dumps(inference_model_dict), custom_objects = custom_objects)\n",
        "    inference_model.set_weights(original_model.get_weights())\n",
        "\n",
        "    return inference_model"
      ],
      "id": "y_kfvdFdfvTo",
      "execution_count": null,
      "outputs": []
    },
    {
      "cell_type": "markdown",
      "metadata": {
        "id": "VEaR3h_aKNT5"
      },
      "source": [
        "This code applies the function above to the model, and creates a stateful version for inference."
      ],
      "id": "VEaR3h_aKNT5"
    },
    {
      "cell_type": "code",
      "metadata": {
        "id": "3jPSy7bFfvTp"
      },
      "source": [
        "inference_model = convert_to_inference_model(model, custom_objects = {'LN_GRU_Cell':LN_GRU_Cell, 'LN_LSTM_Cell':LN_LSTM_Cell})"
      ],
      "id": "3jPSy7bFfvTp",
      "execution_count": null,
      "outputs": []
    },
    {
      "cell_type": "markdown",
      "metadata": {
        "id": "TgU2qgbDKUzA"
      },
      "source": [
        "This section of code generates a new sequence of characters. Because the model is set to _stateful=True_, we can feed the model with a seed text (in this case, the section character) and use it to generate probabilities for the following character. We then randomly select a new character according to the predicted probabilities, add it to the text, and feed the text back into the inference model."
      ],
      "id": "TgU2qgbDKUzA"
    },
    {
      "cell_type": "code",
      "metadata": {
        "colab": {
          "base_uri": "https://localhost:8080/"
        },
        "id": "3PPuT8JLfvTv",
        "outputId": "19608bb8-a1a4-44f4-a990-52ac61efee5a"
      },
      "source": [
        "length_generated_text = 10000\n",
        "file_name = ('generated_text___' + log_dir.replace(join(getcwd(),'tb_logs',''), '') + \n",
        "             '___' + model_name + '___' + time.strftime(\"%Y-%m-%d__%H-%M-%S\") + '.txt')\n",
        "directory = 'generated_text'\n",
        "\n",
        "text = '§'\n",
        "sequence = tokenizer.texts_to_sequences([text])\n",
        "\n",
        "for _ in range(length_generated_text):\n",
        "    probs = inference_model.predict(np.array(sequence[0][-1]).reshape(1,-1,1))\n",
        "    token = np.random.choice(np.arange(dict_size), p = probs[0,-1,:])\n",
        "    sequence[0].append(token)\n",
        "\n",
        "text = tokenizer.sequences_to_texts(sequence)[0]    \n",
        "print(text[0:np.min([2000, length_generated_text]):2])\n",
        "\n",
        "if directory not in listdir():\n",
        "    mkdir(directory)\n",
        "\n",
        "with open(join(getcwd(), 'generated_text', file_name), 'w', encoding='utf-8') as file:\n",
        "    file.write(text[0::2])"
      ],
      "id": "3PPuT8JLfvTv",
      "execution_count": null,
      "outputs": [
        {
          "output_type": "stream",
          "text": [
            "§ 21.199 of this chapter. \n",
            "(2) Procedures for the deviations from paragraph (a) of this section is added to the operations specifications in paragraph (a) of this section. (1) Any requirement of this section unless the requirements of paragraph (c)(2) of this section will be completed by an effective date of the operations of the aircraft or the route before a small unmanned aircraft is 500 kg logs at 86 parachute mile, at least 15 feet in length and quantities associated with any week only unless there is at least three tank at altitudes where crewmembers apply to cargo and baggage compartments or series (19 genteral design. \n",
            "\n",
            "\n",
            "§ 29.1527   Rotor brake container - The suitability and durability of radio communication equipment requirements.The pilot in command must extinguishing overspeed overtemperature, over 10 minutes, in which the engine is designed, complies with the applicable ramaining requirements for its conditions. VF and maximum allowable speed, altitude, and temperature ind\n"
          ],
          "name": "stdout"
        }
      ]
    },
    {
      "cell_type": "markdown",
      "metadata": {
        "id": "ptmOnS6AKuep"
      },
      "source": [
        "A detailed discussion of the results and the properties of the generated text is available at [this blog post](https://fabio-a-oliveira.github.io/2021-04-01_14-CFR-FAA.html). A file with 1 million characters generated with the model is found at [this link](https://raw.githubusercontent.com/fabio-a-oliveira/14-CFR-FAA/main/generated_text/generated_text___1000000_chars__2021-03-27__21-15-26.txt)."
      ],
      "id": "ptmOnS6AKuep"
    }
  ]
}