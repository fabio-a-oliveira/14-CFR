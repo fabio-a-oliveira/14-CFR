{
 "cells": [
  {
   "cell_type": "code",
   "execution_count": 52,
   "id": "designed-criminal",
   "metadata": {},
   "outputs": [],
   "source": [
    "import xml.etree.ElementTree as ET\n",
    "from os.path import join"
   ]
  },
  {
   "cell_type": "code",
   "execution_count": 53,
   "id": "swiss-danish",
   "metadata": {},
   "outputs": [],
   "source": [
    "filepath = join('dataset', 'ECFR-title14.xml') # file already fetched from https://www.govinfo.gov/bulkdata/ECFR/title-14/ECFR-title14.xml\n",
    "tree = ET.parse(filepath)\n",
    "root = tree.getroot()"
   ]
  },
  {
   "cell_type": "code",
   "execution_count": 54,
   "id": "civic-emergency",
   "metadata": {},
   "outputs": [],
   "source": [
    "filepath = join('dataset', 'ECFR-title14.txt')\n",
    "with open(filepath, 'w', encoding='utf-8') as file:\n",
    "    for element in root.iter():\n",
    "        if element.tag == 'DIV1':\n",
    "            if element.attrib['N'] == '3':\n",
    "                break\n",
    "        [file.write(line) for line in element.itertext() if line[0] != '\\n']\n",
    "        #[print(line) for line in element.itertext() if line[0] != '\\n']"
   ]
  },
  {
   "cell_type": "markdown",
   "id": "weekly-neighbor",
   "metadata": {},
   "source": [
    "### Trash"
   ]
  },
  {
   "cell_type": "code",
   "execution_count": null,
   "id": "sonic-hunger",
   "metadata": {},
   "outputs": [],
   "source": []
  }
 ],
 "metadata": {
  "kernelspec": {
   "display_name": "Python 3",
   "language": "python",
   "name": "python3"
  },
  "language_info": {
   "codemirror_mode": {
    "name": "ipython",
    "version": 3
   },
   "file_extension": ".py",
   "mimetype": "text/x-python",
   "name": "python",
   "nbconvert_exporter": "python",
   "pygments_lexer": "ipython3",
   "version": "3.8.5"
  }
 },
 "nbformat": 4,
 "nbformat_minor": 5
}
