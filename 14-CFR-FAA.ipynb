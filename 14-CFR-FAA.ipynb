{
 "cells": [
  {
   "cell_type": "markdown",
   "id": "computational-harbor",
   "metadata": {},
   "source": [
    "## Performance log"
   ]
  },
  {
   "cell_type": "markdown",
   "id": "apparent-thong",
   "metadata": {},
   "source": [
    "log | description | parameters | loss (tran/valid/test) | accuracy (train/valid/test)\n",
    "-|-|-|-|-\n",
    " - | Null input | - | 3.438 3.422 3.413 | 15.7% 15.8% 16.1%\n",
    " - | Simple NN, one-hot encoding | - | 2.573 2.543 2.549 | 23.9% 23.8% 24.3%\n",
    " - | Simple NN, embedding (10) | - | 2.579 2.549 2.554 | 23.9% 23.9% 24.2%\n",
    " - | Simple NN, embedding (20) | - | 2.569 2.539 2.545 | 23.9% 23.8% 24.3%\n",
    " - | Simple NN, embedding (50) | - | 2.571 2.541 2.548 | 24.0% 23.9% 24.4%\n",
    " - | Simple NN, embedding (100) | - | 2.571 2.542 2.548 | 23.9% 23.8% 24.3%\n",
    "run__2021-03-02__20-05-51 | Simple_RNN_with_Encoding | - | 1.996 1.926 2.013 | 43.7% 45.4% 42.2%\n",
    "run__2021-03-02__22-00-45 | Simple_RNN_with_Embedding (20) | - | 1.977 1.901 1.992 | 44.2% 45.7% 43.2%\n",
    "run__2021-03-03__06-34-16 | Simple_RNN_with_Embedding (50) | - | 2.048 1.980 2.060 | 42.0% 43.3% 41.0%\n",
    "run__2021-03-03__10-27-30 | GRU_with_Encoding | - | 1.691 1.616 1.718 | 51.3% 53.1% 50.2%\n",
    "run__2021-03-03__12-56-16 | LSTM_with_Encoding | - | 2.046 1.988 2.054 | 41.9% 43.5% 40.5%\n",
    "run__2021-03-03__16-57-04 | GRU_with_Embedding (20) | - | 1.763 1.684 1.785 | 49.2% 51.1% 47.9%\n",
    "run__2021-03-03__18-36-42 | LSTM_with_Embedding (20) | - | 2.114 2.060 2.116 | 40.2% 41.8% 39.1%\n",
    "run__2021-03-04__10-07-12 | Simple_RNN_Dense_output_with_Encoding (116 units) | 40600 | 1.3 1.223 1.326 | 61.5% 63.1% 60.4%\n",
    "run__2021-03-04__13-03-01 | GRU_Dense_output_with_Encoding (116 units) | 95004 | 1.18 1.121 1.202 | 64.6% 66.0% 63.9%\n",
    "run__2021-03-04__14-09-15 | LSTM_Dense_output_with_Encoding (116 units) | 121684 | 1.16 1.101 1.184 | 65.1% 66.6% 64.1%\n",
    "run__2021-03-04__15-23-02 | Simple_RNN_Dense_output_with_Encoding (232 units) | 107996 | 1.25 1.182 1.273 | 63.0% 64.8% 62.0%\n",
    "run__2021-03-04__17-02-59 | GRU_Dense_output_with_Encoding (232 units) | 270628 | 1.096 1.057 1.126 | 66.7% 67.7% 65.6%\n",
    "run__2021-03-04__18-47-08 | LSTM_Dense_output_with_Encoding (232 units) | 350900 | 1.068 1.035 1.101 | 67.4% 68.2% 66.5%\n",
    "run__2021-03-05__09-32-21 | Simple_RNN_stack_encoding_dense (3 layers, 232 units) | 323756 | 1.204 1.141 1.233 | 63.7% 65.3% 62.6%\n",
    "run__2021-03-05__11-46-00 | GRU_stack_encoding_dense (3 layers, 232 units) | 919300 | 1.063 1.036 1.098 | 67.3% 68.0% 66.1%\n",
    "run__2021-03-05__18-58-16 | LSTM_stack_encoding_dense (3 layers, 232 units) | 1213940 | 1.060 1.030 1.094 | 67.4% 68.1% 66.4%\n",
    "run__2021-03-06__10-08-05 | GRU_LN_encoding_dense (3L,232u) | 920692 | 1.054 1.031 1.095 | 67.5% 68.4% 66.4%\n",
    "run__2021-03-06__22-31-03 | GRU_LN_encoding_dense (3L,348u) | 1986500 | 1.035 1.020 1.077 | 68.1% 68.7% 66.9%\n",
    "run__2021-03-07__11-26-06 | GRU_LN_encoding_dense (3L,464u,32x128) | 3455988 | 1.004 0.996 1.056 | 68.9% 69.2% 67.5%\n",
    "run__2021-03-08__17-18-40 | GRU_LN_encoding_dense (3L,464u,128x32) - reached NaN | 3455988 | 1.048 1.005 1.078 | 68.2% 69.3% 67.3%\n",
    "run__2021-03-11__19-14-45 | GRU_LN_encoding_dense (3L,464u,128x32,clipnorm=1) - reached NaN | 3455988 | 1.059 1.014 1.086 | 67.8% 68.9% 66.7%"
   ]
  },
  {
   "cell_type": "markdown",
   "id": "injured-trade",
   "metadata": {},
   "source": [
    "## Import packages"
   ]
  },
  {
   "cell_type": "code",
   "execution_count": 2,
   "id": "respective-absolute",
   "metadata": {},
   "outputs": [],
   "source": [
    "import numpy as np\n",
    "import tensorflow as tf\n",
    "import tensorflow.keras as keras\n",
    "import matplotlib.pyplot as plt\n",
    "\n",
    "import xml.etree.ElementTree as ET\n",
    "from os import listdir, mkdir, getcwd\n",
    "from os.path import join\n",
    "\n",
    "import time\n",
    "import json"
   ]
  },
  {
   "cell_type": "markdown",
   "id": "alert-production",
   "metadata": {},
   "source": [
    "## Split data\n",
    "* DOWNLOAD FILE WITH keras.utils.get_file (if the file isn't yet in the directory)"
   ]
  },
  {
   "cell_type": "code",
   "execution_count": 3,
   "id": "embedded-custom",
   "metadata": {},
   "outputs": [],
   "source": [
    "# set the random seed for the train/valid/test/trash split\n",
    "np.random.seed(20210228)\n",
    "\n",
    "# access the unprocessed xml file\n",
    "filepath = join('dataset', 'ECFR-title14.xml') # file already fetched from https://www.govinfo.gov/bulkdata/ECFR/title-14/ECFR-title14.xml\n",
    "tree = ET.parse(filepath) # set up a xml tree by parsing the file\n",
    "root = tree.getroot() # get a reference to the tree root\n",
    "\n",
    "# create new files for each partition\n",
    "train = open(join('dataset','ECFR-title14-train.txt'), 'w', encoding='utf-8')\n",
    "valid = open(join('dataset','ECFR-title14-valid.txt'), 'w', encoding='utf-8')\n",
    "test = open(join('dataset','ECFR-title14-test.txt'), 'w', encoding='utf-8')\n",
    "trash = open(join('dataset', 'trash.txt'), 'w', encoding='utf-8')\n",
    "\n",
    "# set up train/valid/test split scheme\n",
    "partitions = np.array(['train', 'valid', 'test', 'trash'])\n",
    "next_partition = partitions[0]\n",
    "split_proportions = np.array([.98, .01, .01, 0]) # train, valid, test, trash\n",
    "\n",
    "# iterate over each element of the xml tree\n",
    "for element in root.iter():\n",
    "    # stop when DoT part is reached\n",
    "    if element.tag == 'DIV1':\n",
    "        if element.attrib['N'] == '4':\n",
    "            break \n",
    "        # if reached a new section\n",
    "    if element.tag == 'DIV8':\n",
    "        if next_partition == 'train':\n",
    "            [train.write(line) for line in element.itertext() if line[0] != '\\n']\n",
    "        elif next_partition == 'valid':\n",
    "            [valid.write(line) for line in element.itertext() if line[0] != '\\n']\n",
    "        elif next_partition == 'test':\n",
    "            [test.write(line) for line in element.itertext() if line[0] != '\\n']\n",
    "        elif next_partition == 'trash':\n",
    "            [trash.write(line) for line in element.itertext() if line[0] != '\\n']\n",
    "        next_partition = np.random.choice(partitions, p = split_proportions)\n",
    "\n",
    "# close the newly created files\n",
    "train.close()\n",
    "valid.close()\n",
    "test.close()\n",
    "trash.close()"
   ]
  },
  {
   "cell_type": "markdown",
   "id": "opened-brazilian",
   "metadata": {},
   "source": [
    "## Set up the datasets"
   ]
  },
  {
   "cell_type": "code",
   "execution_count": 44,
   "id": "junior-blade",
   "metadata": {},
   "outputs": [],
   "source": [
    "# add some sort of shuffle\n",
    "\n",
    "def make_dataset(partition, tokenizer, sequence_length = None, batch_size = 16, dummy = False, batching_mode = 'regular'):\n",
    "    \n",
    "    assert batching_mode in ['regular', 'recurrent_encoding', 'recurrent_embedding', 'stateful_encoding']\n",
    "\n",
    "    # get dataset as list of sequences of tokens\n",
    "    with open(join('dataset', 'ECFR-title14-' + partition + '.txt'), encoding='utf-8') as file:\n",
    "        sequences = tokenizer.texts_to_sequences(file)\n",
    "    \n",
    "    # make single stream of tokens for the entire dataset\n",
    "    dataset = [] \n",
    "    for paragraph in sequences:\n",
    "        dataset += paragraph\n",
    "    \n",
    "    # get x and y from the full sequence\n",
    "    dataset = np.array(dataset)\n",
    "    y = tf.data.Dataset.from_tensor_slices(dataset[1:])\n",
    "    \n",
    "    # in case of a dummy dataset (x is all null)\n",
    "    if dummy == True:  # empty inputs in order to test setup\n",
    "        x = tf.data.Dataset.from_tensor_slices(np.zeros_like(dataset[:-1]))\n",
    "    else:\n",
    "        x = tf.data.Dataset.from_tensor_slices(dataset[:-1])\n",
    "    \n",
    "    # zip inputs and labels into tuples\n",
    "    if batching_mode == 'regular': # dataset will not be batched into sequences (for simple NN)\n",
    "        dataset = tf.data.Dataset.zip((x,y))\n",
    "        dataset = dataset.batch(batch_size)\n",
    "    elif batching_mode == 'recurrent_encoding': # will be batched in individual entries, then sequences, then batches\n",
    "        dataset = tf.data.Dataset.zip((x,y))\n",
    "        dataset = dataset.batch(1)\n",
    "        dataset = dataset.batch(sequence_length, drop_remainder = True)\n",
    "        dataset = dataset.batch(batch_size, drop_remainder = True)\n",
    "    elif batching_mode == 'recurrent_embedding': # will be batched into sequences, then batches\n",
    "        dataset = tf.data.Dataset.zip((x,y))\n",
    "        dataset = dataset.batch(sequence_length, drop_remainder = True)\n",
    "        dataset = dataset.batch(batch_size, drop_remainder = True)\n",
    "    elif batching_mode == 'stateful_encoding': # will be batch so there is a stream of characters from a few longer sequences, compatible with stateful RNN\n",
    "        \n",
    "        partition_length = len(dataset)\n",
    "\n",
    "        # batch_size = number of RNN instances, each seeing a piece from a different paragraph\n",
    "        num_paragraphs = batch_size # different name for the same thing\n",
    "        paragraph_length = partition_length // num_paragraphs # characters in each of the batch_size paragraphs\n",
    "        # sequence_length = number of characters in a sequence = number of repetitions of the RNN stack per instance\n",
    "        sequences_per_paragraph = paragraph_length // sequence_length # number of steps to finish paragraph = steps per epoch\n",
    "        \n",
    "        def map_fn(paragraph):\n",
    "            return tf.data.Dataset.from_tensor_slices(paragraph).batch(sequence_length, drop_remainder=True)\n",
    "        \n",
    "        x = x.batch(1)\n",
    "        x = x.batch(paragraph_length, drop_remainder = True)\n",
    "        x = x.interleave(map_fn, cycle_length = num_paragraphs)\n",
    "        x = x.batch(batch_size, drop_remainder = True)\n",
    "        \n",
    "        y = y.batch(1)\n",
    "        y = y.batch(paragraph_length, drop_remainder = True)\n",
    "        y = y.interleave(map_fn, cycle_length = num_paragraphs)\n",
    "        y = y.batch(batch_size, drop_remainder = True)\n",
    "        \n",
    "        dataset = tf.data.Dataset.zip((x, y))\n",
    "      \n",
    "    dataset = dataset.prefetch(1)\n",
    "    \n",
    "    return dataset"
   ]
  },
  {
   "cell_type": "code",
   "execution_count": 30,
   "id": "technical-relaxation",
   "metadata": {},
   "outputs": [],
   "source": [
    "tokenizer = keras.preprocessing.text.Tokenizer(char_level = True, lower = False, filters = '')\n",
    "\n",
    "for partition in ['train', 'valid', 'test']:\n",
    "    file = open(join('dataset', 'ECFR-title14-'+ partition + '.txt'), encoding = 'utf-8')\n",
    "    tokenizer.fit_on_texts(file)\n",
    "    file.close()"
   ]
  },
  {
   "cell_type": "markdown",
   "id": "accessible-darwin",
   "metadata": {},
   "source": [
    "## Helper functions"
   ]
  },
  {
   "cell_type": "code",
   "execution_count": 31,
   "id": "wanted-polymer",
   "metadata": {},
   "outputs": [],
   "source": [
    "def print_performance(model, log_dir=None):\n",
    "    print(\"Performance on train set:\")\n",
    "    perf_train = model.evaluate(train)\n",
    "\n",
    "    print(\"Performance on valid set:\")\n",
    "    perf_valid = model.evaluate(valid)\n",
    "\n",
    "    print(\"Performance on test set:\")\n",
    "    perf_test = model.evaluate(test)\n",
    "    \n",
    "    if log_dir == None:\n",
    "        directory = \"-\"\n",
    "    else:\n",
    "        directory = log_dir.rpartition('\\\\')[2]\n",
    "\n",
    "    print(\"Performance log:\")\n",
    "    log = '{} | {} | {} | {} {} {} | {}% {}% {}%'.format(directory, model.name, model.count_params(),\n",
    "                                               round(perf_train[0],3), round(perf_valid[0],3), round(perf_test[0],3),\n",
    "                                               round(perf_train[1]*100,1),round(perf_valid[1]*100,1),round(perf_test[1]*100,1))\n",
    "    print(log)\n",
    "    \n",
    "    return None\n",
    "    \n",
    "def print_history(history):    \n",
    "    plt.figure(figsize=(15,3))\n",
    "\n",
    "    plt.subplot(1,2,1)\n",
    "    plt.plot(history.history['loss'])\n",
    "    plt.plot(history.history['val_loss'])\n",
    "    plt.title('loss: categorical cross-entropy')\n",
    "\n",
    "    plt.subplot(1,2,2)\n",
    "    plt.plot(history.history['sparse_categorical_accuracy'])\n",
    "    plt.plot(history.history['val_sparse_categorical_accuracy'])\n",
    "    plt.title('metric: sparse categorical accuracy')\n",
    "    \n",
    "    return None\n",
    "\n",
    "def get_tensorboard_logdir():\n",
    "    run_id = time.strftime(\"run__%Y-%m-%d__%H-%M-%S\")\n",
    "    return join(getcwd(), 'tb_logs', run_id)"
   ]
  },
  {
   "cell_type": "markdown",
   "id": "english-hearing",
   "metadata": {},
   "source": [
    "## Custom recurrent layers with Layer Normalization"
   ]
  },
  {
   "cell_type": "code",
   "execution_count": 32,
   "id": "eastern-congo",
   "metadata": {},
   "outputs": [],
   "source": [
    "class LN_GRU_Cell(keras.layers.Layer):\n",
    "    def __init__(self, units, activation=\"tanh\", dropout=0, recurrent_dropout=0, **kwargs):\n",
    "        super().__init__(**kwargs)\n",
    "        self.units = units\n",
    "        self.dropout = dropout\n",
    "        self.recurrent_dropout = recurrent_dropout\n",
    "        self.state_size = units\n",
    "        self.output_size = units\n",
    "        self.GRU_cell = keras.layers.GRUCell(units, dropout=dropout, recurrent_dropout=recurrent_dropout, activation=None)\n",
    "        self.layer_norm = keras.layers.LayerNormalization()\n",
    "        self.activation = keras.activations.get(activation)\n",
    "    def call(self, inputs, states):\n",
    "        outputs, new_states = self.GRU_cell(inputs, states)\n",
    "        norm_outputs = self.activation(self.layer_norm(outputs))\n",
    "        return norm_outputs, [new_states]\n",
    "    def get_config(self):\n",
    "        base_config = super().get_config()\n",
    "        custom_config = {'units':self.units,\n",
    "                         'dropout':self.dropout,\n",
    "                         'recurrent_dropout':self.recurrent_dropout,\n",
    "                         'activation':self.activation}\n",
    "        return {**base_config, **custom_config}\n",
    "    \n",
    "class LN_LSTM_Cell(keras.layers.Layer):\n",
    "    def __init__(self, units, activation=\"tanh\", dropout=0, recurrent_dropout=0, **kwargs):\n",
    "        super().__init__(**kwargs)\n",
    "        self.units = units\n",
    "        self.dropout = dropout\n",
    "        self.recurrent_dropout = recurrent_dropout\n",
    "        self.state_size = units\n",
    "        self.output_size = units\n",
    "        self.LSTM_cell = keras.layers.LSTMCell(units, dropout=dropout, recurrent_dropout=recurrent_dropout, activation=None)\n",
    "        self.layer_norm = keras.layers.LayerNormalization()\n",
    "        self.activation = keras.activations.get(activation)\n",
    "    def call(self, inputs, states):\n",
    "        outputs, new_states = self.LSTM_cell(inputs, states)\n",
    "        norm_outputs = self.activation(self.layer_norm(outputs))\n",
    "        return norm_outputs, [new_states]\n",
    "    def get_config(self):\n",
    "        base_config = super().get_config()\n",
    "        custom_config = {'units':self.units,\n",
    "                         'dropout':self.dropout,\n",
    "                         'recurrent_dropout':self.recurrent_dropout,\n",
    "                         'activation':self.activation}\n",
    "        return {**base_config, **custom_config}"
   ]
  },
  {
   "cell_type": "markdown",
   "id": "sweet-shame",
   "metadata": {},
   "source": [
    "## Define and train model a dummy model with null input\n",
    "* Given a null input, predict next character\n",
    "* Gradients for the weights will always be null\n",
    "* This setup will only learn the bias, which can then be used as initialization for the bias on the last layer of the subsequent models\n",
    "* Avoids hockey-stick learning curves\n",
    "* Learning rate can be set up on next models according to a phase when the network is actually learning patterns in the data\n",
    "* this works faster with a .02, .01, .01, .96 split\n",
    "* with .98, .01, .01, takes about 2min with 1 epoch"
   ]
  },
  {
   "cell_type": "code",
   "execution_count": 33,
   "id": "olympic-turkish",
   "metadata": {},
   "outputs": [],
   "source": [
    "batch_size = 128\n",
    "dict_size = len(tokenizer.index_word.keys()) + 1\n",
    "lr_0 = .5\n",
    "epochs = 1"
   ]
  },
  {
   "cell_type": "code",
   "execution_count": 34,
   "id": "latin-child",
   "metadata": {},
   "outputs": [],
   "source": [
    "train_dummy = make_dataset('train', tokenizer, batch_size = batch_size, dummy = True)\n",
    "train = make_dataset('train', tokenizer, batch_size = batch_size)\n",
    "valid = make_dataset('valid', tokenizer)\n",
    "test = make_dataset('test', tokenizer)"
   ]
  },
  {
   "cell_type": "code",
   "execution_count": 35,
   "id": "complicated-musical",
   "metadata": {},
   "outputs": [
    {
     "name": "stdout",
     "output_type": "stream",
     "text": [
      "Model: \"Dummy_Classifier\"\n",
      "_________________________________________________________________\n",
      "Layer (type)                 Output Shape              Param #   \n",
      "=================================================================\n",
      "Encoding (CategoryEncoding)  (None, 116)               0         \n",
      "_________________________________________________________________\n",
      "Output (Dense)               (None, 116)               13572     \n",
      "=================================================================\n",
      "Total params: 13,572\n",
      "Trainable params: 13,572\n",
      "Non-trainable params: 0\n",
      "_________________________________________________________________\n"
     ]
    }
   ],
   "source": [
    "model = keras.models.Sequential(name = \"Dummy_Classifier\")\n",
    "\n",
    "model.add(keras.layers.Input(shape = (1), name = 'Input')) # add None to first dimension when using RNN\n",
    "model.add(keras.layers.experimental.preprocessing.CategoryEncoding(max_tokens = dict_size, name = 'Encoding'))\n",
    "model.add(keras.layers.Dense(units = dict_size, activation = 'softmax', name = 'Output'))\n",
    "\n",
    "model.compile(optimizer = keras.optimizers.SGD(learning_rate = lr_0), \n",
    "              loss = 'sparse_categorical_crossentropy', metrics = 'sparse_categorical_accuracy')\n",
    "\n",
    "model.summary()"
   ]
  },
  {
   "cell_type": "code",
   "execution_count": 36,
   "id": "fixed-barcelona",
   "metadata": {},
   "outputs": [],
   "source": [
    "history = model.fit(train_dummy, epochs = 1, verbose = 0)"
   ]
  },
  {
   "cell_type": "code",
   "execution_count": 37,
   "id": "grand-applicant",
   "metadata": {},
   "outputs": [
    {
     "name": "stdout",
     "output_type": "stream",
     "text": [
      "Performance on train set:\n",
      "52300/52300 [==============================] - 74s 1ms/step - loss: 3.4333 - sparse_categorical_accuracy: 0.1573\n",
      "Performance on valid set:\n",
      "4270/4270 [==============================] - 3s 740us/step - loss: 3.4165 - sparse_categorical_accuracy: 0.1576\n",
      "Performance on test set:\n",
      "3776/3776 [==============================] - 3s 745us/step - loss: 3.4082 - sparse_categorical_accuracy: 0.1605\n",
      "Performance log:\n",
      "- | Dummy_Classifier | 13572 | 3.433 3.416 3.408 | 15.7% 15.8% 16.1%\n"
     ]
    }
   ],
   "source": [
    "print_performance(model)"
   ]
  },
  {
   "cell_type": "code",
   "execution_count": 38,
   "id": "objective-insight",
   "metadata": {},
   "outputs": [],
   "source": [
    "bias_output_layer = model.layers[-1].get_weights()[1]"
   ]
  },
  {
   "cell_type": "markdown",
   "id": "ambient-trail",
   "metadata": {},
   "source": [
    "## Define and train a simple model with one-hot encoded input\n",
    "\n",
    "* Given a single character, one-hote encode and predict the next one\n",
    "\n",
    "* this works faster with a .02, .01, .01, .96 split\n",
    "* with .98, .01, .01, takes about 2min/epoch"
   ]
  },
  {
   "cell_type": "code",
   "execution_count": 12,
   "id": "chemical-annual",
   "metadata": {},
   "outputs": [],
   "source": [
    "batch_size = 128\n",
    "dict_size = len(tokenizer.index_word.keys()) + 1\n",
    "lr_0 = 1\n",
    "epochs = 50"
   ]
  },
  {
   "cell_type": "code",
   "execution_count": 13,
   "id": "encouraging-support",
   "metadata": {},
   "outputs": [],
   "source": [
    "train = make_dataset('train', tokenizer, batch_size = batch_size)\n",
    "valid = make_dataset('valid', tokenizer)\n",
    "test = make_dataset('test', tokenizer)"
   ]
  },
  {
   "cell_type": "code",
   "execution_count": 14,
   "id": "sonic-collapse",
   "metadata": {},
   "outputs": [
    {
     "name": "stdout",
     "output_type": "stream",
     "text": [
      "Model: \"Softmax_Classifier_with_Encoding\"\n",
      "_________________________________________________________________\n",
      "Layer (type)                 Output Shape              Param #   \n",
      "=================================================================\n",
      "Encoding (CategoryEncoding)  (None, 116)               0         \n",
      "_________________________________________________________________\n",
      "Output (Dense)               (None, 116)               13572     \n",
      "=================================================================\n",
      "Total params: 13,572\n",
      "Trainable params: 13,572\n",
      "Non-trainable params: 0\n",
      "_________________________________________________________________\n"
     ]
    }
   ],
   "source": [
    "model = keras.models.Sequential(name = \"Softmax_Classifier_with_Encoding\")\n",
    "\n",
    "model.add(keras.layers.Input(shape = (1), name = 'Input')) # add None to first dimension when using RNN\n",
    "model.add(keras.layers.experimental.preprocessing.CategoryEncoding(max_tokens = dict_size, name = 'Encoding'))\n",
    "model.add(keras.layers.Dense(units = dict_size, activation = 'softmax', name = 'Output',\n",
    "                             bias_initializer = keras.initializers.Constant(bias_output_layer)))\n",
    "\n",
    "model.compile(optimizer = keras.optimizers.SGD(learning_rate = lr_0), \n",
    "              loss = 'sparse_categorical_crossentropy', metrics = ['sparse_categorical_accuracy'])\n",
    "\n",
    "early_stopping_cb = keras.callbacks.EarlyStopping(patience = 1, restore_best_weights = True, verbose = True)\n",
    "\n",
    "model.summary()"
   ]
  },
  {
   "cell_type": "code",
   "execution_count": 15,
   "id": "selective-ministry",
   "metadata": {},
   "outputs": [],
   "source": [
    "history = model.fit(train, epochs = epochs, verbose = 0, validation_data = valid,\n",
    "                   callbacks = [early_stopping_cb])"
   ]
  },
  {
   "cell_type": "code",
   "execution_count": 16,
   "id": "adaptive-reviewer",
   "metadata": {},
   "outputs": [
    {
     "name": "stdout",
     "output_type": "stream",
     "text": [
      "Performance on train set:\n",
      "52300/52300 [==============================] - 71s 1ms/step - loss: 2.4818 - sparse_categorical_accuracy: 0.2542\n",
      "Performance on valid set:\n",
      "4270/4270 [==============================] - 4s 871us/step - loss: 2.4581 - sparse_categorical_accuracy: 0.2539\n",
      "Performance on test set:\n",
      "3776/3776 [==============================] - 3s 869us/step - loss: 2.4617 - sparse_categorical_accuracy: 0.2598\n",
      "Performance log:\n",
      "- | Softmax_Classifier_with_Encoding | 2.482 2.458 2.462 | 25.4% 25.4% 26.0%\n"
     ]
    },
    {
     "data": {
      "image/png": "[encoded data removed]",
      "text/plain": [
       "<Figure size 1080x216 with 2 Axes>"
      ]
     },
     "metadata": {
      "needs_background": "light"
     },
     "output_type": "display_data"
    }
   ],
   "source": [
    "print_performance(model)\n",
    "print_history(history)"
   ]
  },
  {
   "cell_type": "markdown",
   "id": "israeli-cyprus",
   "metadata": {},
   "source": [
    "## Define and train a simple model with embedded input\n",
    "\n",
    "* Given a single character embedding, predict the next one\n",
    "\n",
    "* this works faster with a .02, .01, .01, .96 split\n",
    "* with .98, .01, .01, takes about 2min/epoch"
   ]
  },
  {
   "cell_type": "code",
   "execution_count": 17,
   "id": "adjustable-justice",
   "metadata": {},
   "outputs": [],
   "source": [
    "batch_size = 128\n",
    "dict_size = len(tokenizer.index_word.keys()) + 1\n",
    "embedding_dim = 10\n",
    "lr_0 = 1\n",
    "epochs = 50"
   ]
  },
  {
   "cell_type": "code",
   "execution_count": 18,
   "id": "disciplinary-nickname",
   "metadata": {},
   "outputs": [],
   "source": [
    "train = make_dataset('train', tokenizer, batch_size = batch_size)\n",
    "valid = make_dataset('valid', tokenizer)\n",
    "test = make_dataset('test', tokenizer)"
   ]
  },
  {
   "cell_type": "code",
   "execution_count": 19,
   "id": "naval-exclusive",
   "metadata": {},
   "outputs": [
    {
     "name": "stdout",
     "output_type": "stream",
     "text": [
      "Model: \"Softmax_Classifier_with_Embedding\"\n",
      "_________________________________________________________________\n",
      "Layer (type)                 Output Shape              Param #   \n",
      "=================================================================\n",
      "Embedding (Embedding)        (None, 1, 10)             1160      \n",
      "_________________________________________________________________\n",
      "Output (Dense)               (None, 1, 116)            1276      \n",
      "=================================================================\n",
      "Total params: 2,436\n",
      "Trainable params: 2,436\n",
      "Non-trainable params: 0\n",
      "_________________________________________________________________\n"
     ]
    }
   ],
   "source": [
    "model = keras.models.Sequential(name = \"Softmax_Classifier_with_Embedding\")\n",
    "\n",
    "model.add(keras.layers.Embedding(input_dim = dict_size, output_dim = embedding_dim, input_length = 1, name = 'Embedding'))\n",
    "model.add(keras.layers.Dense(units = dict_size, activation = 'softmax', name = 'Output',\n",
    "                             bias_initializer = keras.initializers.Constant(bias_output_layer)))\n",
    "\n",
    "model.compile(optimizer = keras.optimizers.SGD(learning_rate = lr_0), \n",
    "              loss = 'sparse_categorical_crossentropy', metrics = ['sparse_categorical_accuracy'])\n",
    "\n",
    "early_stopping_cb = keras.callbacks.EarlyStopping(patience = 1, restore_best_weights = True, verbose = True)\n",
    "\n",
    "model.summary()"
   ]
  },
  {
   "cell_type": "code",
   "execution_count": 20,
   "id": "annual-format",
   "metadata": {},
   "outputs": [
    {
     "name": "stdout",
     "output_type": "stream",
     "text": [
      "Restoring model weights from the end of the best epoch.\n",
      "Epoch 00004: early stopping\n"
     ]
    }
   ],
   "source": [
    "history = model.fit(train, epochs = epochs, verbose = 0, validation_data = valid,\n",
    "                   callbacks = [early_stopping_cb])"
   ]
  },
  {
   "cell_type": "code",
   "execution_count": 21,
   "id": "special-sheriff",
   "metadata": {},
   "outputs": [
    {
     "name": "stdout",
     "output_type": "stream",
     "text": [
      "Performance on train set:\n",
      "52300/52300 [==============================] - 76s 1ms/step - loss: 2.5773 - sparse_categorical_accuracy: 0.2419\n",
      "Performance on valid set:\n",
      "4270/4270 [==============================] - 4s 923us/step - loss: 2.5466 - sparse_categorical_accuracy: 0.2427\n",
      "Performance on test set:\n",
      "3776/3776 [==============================] - 4s 927us/step - loss: 2.5516 - sparse_categorical_accuracy: 0.2443\n",
      "Performance log:\n",
      "- | Softmax_Classifier_with_Embedding | 2.577 2.547 2.552 | 24.2% 24.3% 24.4%\n"
     ]
    },
    {
     "data": {
      "image/png": "[encoded data removed]",
      "text/plain": [
       "<Figure size 1080x216 with 2 Axes>"
      ]
     },
     "metadata": {
      "needs_background": "light"
     },
     "output_type": "display_data"
    }
   ],
   "source": [
    "print_performance(model)\n",
    "print_history(history)"
   ]
  },
  {
   "cell_type": "markdown",
   "id": "lyric-yahoo",
   "metadata": {},
   "source": [
    "## RNN with single recurrent unit, one-hot encoding\n",
    "\n",
    "* Many-to-many\n",
    "* 1-layer\n",
    "* Simple recurrent unit & GRU & LSTM\n",
    "* One-hot encoding\n",
    "\n",
    "* Default GRU and LSTM(?) implementations use the same bias_initializer for the kernel and recurrent channels. Bias initialization with the prevalences does not work in this case. Requires accessing the right part of the bias vector ?"
   ]
  },
  {
   "cell_type": "code",
   "execution_count": 75,
   "id": "inner-import",
   "metadata": {},
   "outputs": [],
   "source": [
    "sequence_length = 32\n",
    "batch_size = 128\n",
    "dict_size = len(tokenizer.index_word.keys()) + 1\n",
    "lr_0 = .01\n",
    "epochs = 100"
   ]
  },
  {
   "cell_type": "code",
   "execution_count": 76,
   "id": "romance-soldier",
   "metadata": {},
   "outputs": [],
   "source": [
    "train = make_dataset('train', tokenizer, sequence_length = sequence_length, batch_size = batch_size, batching_mode = 'recurrent_encoding')\n",
    "valid = make_dataset('valid', tokenizer, sequence_length = sequence_length, batching_mode = 'recurrent_encoding')\n",
    "test = make_dataset('test', tokenizer, sequence_length = sequence_length, batching_mode = 'recurrent_encoding')"
   ]
  },
  {
   "cell_type": "code",
   "execution_count": 77,
   "id": "first-cuisine",
   "metadata": {},
   "outputs": [
    {
     "name": "stdout",
     "output_type": "stream",
     "text": [
      "Model: \"LSTM_with_Encoding\"\n",
      "_________________________________________________________________\n",
      "Layer (type)                 Output Shape              Param #   \n",
      "=================================================================\n",
      "TD_Encoding (TimeDistributed (None, None, 116)         0         \n",
      "_________________________________________________________________\n",
      "Recurrent (LSTM)             (None, None, 116)         108112    \n",
      "=================================================================\n",
      "Total params: 108,112\n",
      "Trainable params: 108,112\n",
      "Non-trainable params: 0\n",
      "_________________________________________________________________\n"
     ]
    }
   ],
   "source": [
    "encoding = keras.layers.experimental.preprocessing.CategoryEncoding(max_tokens = dict_size, name = \"Encoding\")\n",
    "td_encoding = keras.layers.TimeDistributed(encoding, input_shape = [None, 1], name = \"TD_Encoding\")\n",
    "\n",
    "simple_rnn = keras.layers.SimpleRNN(units = dict_size, return_sequences = True, activation = 'softmax', \n",
    "                                    bias_initializer = keras.initializers.Constant(bias_output_layer),\n",
    "                                    name = \"Recurrent\")\n",
    "gru = keras.layers.GRU(units = dict_size, return_sequences = True, activation = 'softmax', \n",
    "                       name = \"Recurrent\")\n",
    "lstm = keras.layers.LSTM(units = dict_size, return_sequences = True, activation = 'softmax', \n",
    "                         name = \"Recurrent\")\n",
    "\n",
    "#model = keras.models.Sequential([td_encoding, simple_rnn], name = \"Simple_RNN_with_Encoding\")\n",
    "#model = keras.models.Sequential([td_encoding, gru], name = \"GRU_with_Encoding\")\n",
    "model = keras.models.Sequential([td_encoding, lstm], name = \"LSTM_with_Encoding\")\n",
    "\n",
    "model.compile(optimizer = keras.optimizers.Adam(learning_rate = lr_0), \n",
    "              loss = 'sparse_categorical_crossentropy', metrics = ['sparse_categorical_accuracy'])\n",
    "\n",
    "early_stopping_cb = keras.callbacks.EarlyStopping(patience = 5, restore_best_weights = True, verbose = True)\n",
    "log_dir = get_tensorboard_logdir()\n",
    "tensorboard_cb = keras.callbacks.TensorBoard(log_dir = log_dir)\n",
    "\n",
    "model.summary()"
   ]
  },
  {
   "cell_type": "code",
   "execution_count": 78,
   "id": "resistant-marker",
   "metadata": {},
   "outputs": [],
   "source": [
    "\n",
    "#https://keras.io/api/callbacks/terminate_on_nan/\n",
    "\n",
    "\n",
    "history = model.fit(train, epochs = epochs, verbose = 0, validation_data = valid,\n",
    "                   callbacks = [early_stopping_cb, tensorboard_cb])"
   ]
  },
  {
   "cell_type": "code",
   "execution_count": 79,
   "id": "dependent-window",
   "metadata": {},
   "outputs": [
    {
     "name": "stdout",
     "output_type": "stream",
     "text": [
      "Performance on train set:\n",
      "1634/1634 [==============================] - 73s 44ms/step - loss: 2.0464 - sparse_categorical_accuracy: 0.4189 5s - loss: 2.0442 - sparse_categorical_accurac - ETA: 4s\n",
      "Performance on valid set:\n",
      "133/133 [==============================] - 1s 11ms/step - loss: 1.9878 - sparse_categorical_accuracy: 0.4347\n",
      "Performance on test set:\n",
      "117/117 [==============================] - 1s 10ms/step - loss: 2.0544 - sparse_categorical_accuracy: 0.4051\n",
      "Performance log:\n",
      "run__2021-03-03__12-56-16 | LSTM_with_Encoding | 2.046 1.988 2.054 | 41.9% 43.5% 40.5%\n"
     ]
    },
    {
     "data": {
      "image/png": "[encoded data removed]",
      "text/plain": [
       "<Figure size 1080x216 with 2 Axes>"
      ]
     },
     "metadata": {
      "needs_background": "light"
     },
     "output_type": "display_data"
    }
   ],
   "source": [
    "print_performance(model, log_dir)\n",
    "print_history(history)"
   ]
  },
  {
   "cell_type": "markdown",
   "id": "pacific-radio",
   "metadata": {},
   "source": [
    "## RNN with single recurrent unit, embedding"
   ]
  },
  {
   "cell_type": "code",
   "execution_count": 110,
   "id": "musical-assault",
   "metadata": {},
   "outputs": [],
   "source": [
    "sequence_length = 32\n",
    "batch_size = 128\n",
    "dict_size = len(tokenizer.index_word.keys()) + 1\n",
    "embedding_dim = 20\n",
    "lr_0 = .01\n",
    "epochs = 100"
   ]
  },
  {
   "cell_type": "code",
   "execution_count": 111,
   "id": "automotive-certificate",
   "metadata": {},
   "outputs": [],
   "source": [
    "train = make_dataset('train', tokenizer, sequence_length = sequence_length, batch_size = batch_size, batching_mode = 'recurrent_embedding')\n",
    "valid = make_dataset('valid', tokenizer, sequence_length = sequence_length, batching_mode = 'recurrent_embedding')\n",
    "test = make_dataset('test', tokenizer, sequence_length = sequence_length, batching_mode = 'recurrent_embedding')"
   ]
  },
  {
   "cell_type": "code",
   "execution_count": 112,
   "id": "standing-gibraltar",
   "metadata": {},
   "outputs": [
    {
     "name": "stdout",
     "output_type": "stream",
     "text": [
      "Model: \"GRU_with_Embedding\"\n",
      "_________________________________________________________________\n",
      "Layer (type)                 Output Shape              Param #   \n",
      "=================================================================\n",
      "Embedding (Embedding)        (None, None, 20)          2320      \n",
      "_________________________________________________________________\n",
      "Recurrent (GRU)              (None, None, 116)         48024     \n",
      "=================================================================\n",
      "Total params: 50,344\n",
      "Trainable params: 50,344\n",
      "Non-trainable params: 0\n",
      "_________________________________________________________________\n"
     ]
    }
   ],
   "source": [
    "embedding = keras.layers.Embedding(input_dim = dict_size, output_dim = embedding_dim, name = \"Embedding\", input_shape=[None])\n",
    "recurrent = keras.layers.SimpleRNN(units = dict_size, return_sequences = True, activation = 'softmax', \n",
    "                                   bias_initializer = keras.initializers.Constant(bias_output_layer),\n",
    "                                   name = \"Recurrent\")\n",
    "\n",
    "simple_rnn = keras.layers.SimpleRNN(units = dict_size, return_sequences = True, activation = 'softmax', \n",
    "                                   bias_initializer = keras.initializers.Constant(bias_output_layer),\n",
    "                                   name = \"Recurrent\")\n",
    "\n",
    "gru = keras.layers.GRU(units = dict_size, return_sequences = True, activation = 'softmax', \n",
    "                       name = \"Recurrent\")\n",
    "\n",
    "lstm = keras.layers.LSTM(units = dict_size, return_sequences = True, activation = 'softmax', \n",
    "                         name = \"Recurrent\")\n",
    "\n",
    "#model = keras.models.Sequential([embedding, simple_rnn], name = \"Simple_RNN_with_Embedding\")\n",
    "model = keras.models.Sequential([embedding, gru], name = \"GRU_with_Embedding\")\n",
    "#model = keras.models.Sequential([embedding, lstm], name = \"LSTM_with_Embedding\")\n",
    "\n",
    "\n",
    "model.compile(optimizer = keras.optimizers.Adam(learning_rate = lr_0), \n",
    "              loss = 'sparse_categorical_crossentropy', metrics = ['sparse_categorical_accuracy'])\n",
    "\n",
    "early_stopping_cb = keras.callbacks.EarlyStopping(patience = 5, restore_best_weights = True, verbose = True)\n",
    "log_dir = get_tensorboard_logdir()\n",
    "tensorboard_cb = keras.callbacks.TensorBoard(log_dir = log_dir)\n",
    "\n",
    "model.summary()"
   ]
  },
  {
   "cell_type": "code",
   "execution_count": 113,
   "id": "radio-battery",
   "metadata": {},
   "outputs": [],
   "source": [
    "history = model.fit(train, epochs = epochs, verbose = 0, validation_data = valid,\n",
    "                   callbacks = [early_stopping_cb, tensorboard_cb])"
   ]
  },
  {
   "cell_type": "code",
   "execution_count": 89,
   "id": "opponent-miracle",
   "metadata": {},
   "outputs": [
    {
     "name": "stdout",
     "output_type": "stream",
     "text": [
      "Performance on train set:\n",
      "1634/1634 [==============================] - 63s 38ms/step - loss: 2.1136 - sparse_categorical_accuracy: 0.4020\n",
      "Performance on valid set:\n",
      "133/133 [==============================] - 1s 10ms/step - loss: 2.0601 - sparse_categorical_accuracy: 0.4176\n",
      "Performance on test set:\n",
      "117/117 [==============================] - 1s 10ms/step - loss: 2.1156 - sparse_categorical_accuracy: 0.3906\n",
      "Performance log:\n",
      "run__2021-03-03__18-36-42 | LSTM_with_Embedding | 2.114 2.06 2.116 | 40.2% 41.8% 39.1%\n"
     ]
    },
    {
     "data": {
      "image/png": "[encoded data removed]",
      "text/plain": [
       "<Figure size 1080x216 with 2 Axes>"
      ]
     },
     "metadata": {
      "needs_background": "light"
     },
     "output_type": "display_data"
    }
   ],
   "source": [
    "print_performance(model, log_dir)\n",
    "print_history(history)"
   ]
  },
  {
   "cell_type": "markdown",
   "id": "crude-brief",
   "metadata": {},
   "source": [
    "## Encoding -> 1-layer recurrent unit -> Dense output\n",
    "* Simple RNN & GRU & LSTM\n",
    "* Different number of units on recurrent layer\n",
    "* Bias initialization on dense layer considering class imbalance\n",
    "* Minor tweaking of learning_rate"
   ]
  },
  {
   "cell_type": "code",
   "execution_count": 152,
   "id": "governmental-blanket",
   "metadata": {},
   "outputs": [],
   "source": [
    "sequence_length = 32\n",
    "batch_size = 128\n",
    "dict_size = len(tokenizer.index_word.keys()) + 1\n",
    "recurrent_dim = 2 * dict_size\n",
    "lr_0 = .001\n",
    "epochs = 100"
   ]
  },
  {
   "cell_type": "code",
   "execution_count": 153,
   "id": "contrary-assist",
   "metadata": {},
   "outputs": [],
   "source": [
    "train = make_dataset('train', tokenizer, sequence_length = sequence_length, batch_size = batch_size, batching_mode = 'recurrent_encoding')\n",
    "valid = make_dataset('valid', tokenizer, sequence_length = sequence_length, batching_mode = 'recurrent_encoding')\n",
    "test = make_dataset('test', tokenizer, sequence_length = sequence_length, batching_mode = 'recurrent_encoding')"
   ]
  },
  {
   "cell_type": "code",
   "execution_count": 154,
   "id": "challenging-cradle",
   "metadata": {},
   "outputs": [
    {
     "name": "stdout",
     "output_type": "stream",
     "text": [
      "Model: \"LSTM_Dense_output_with_Encoding\"\n",
      "_________________________________________________________________\n",
      "Layer (type)                 Output Shape              Param #   \n",
      "=================================================================\n",
      "TD_Encoding (TimeDistributed (None, None, 116)         0         \n",
      "_________________________________________________________________\n",
      "Recurrent (LSTM)             (None, None, 232)         323872    \n",
      "_________________________________________________________________\n",
      "Dense (Dense)                (None, None, 116)         27028     \n",
      "=================================================================\n",
      "Total params: 350,900\n",
      "Trainable params: 350,900\n",
      "Non-trainable params: 0\n",
      "_________________________________________________________________\n"
     ]
    }
   ],
   "source": [
    "encoding = keras.layers.experimental.preprocessing.CategoryEncoding(max_tokens = dict_size, name = \"Encoding\")\n",
    "td_encoding = keras.layers.TimeDistributed(encoding, input_shape = [None, 1], name = \"TD_Encoding\")\n",
    "\n",
    "simple_rnn = keras.layers.SimpleRNN(units = recurrent_dim, return_sequences = True, name = \"Recurrent\")\n",
    "gru = keras.layers.GRU(units = recurrent_dim, return_sequences = True, name = \"Recurrent\")\n",
    "lstm = keras.layers.LSTM(units = recurrent_dim, return_sequences = True, name = \"Recurrent\")\n",
    "\n",
    "dense = keras.layers.Dense(units = dict_size, activation = 'softmax', name = \"Dense\",\n",
    "                           bias_initializer = keras.initializers.Constant(bias_output_layer))\n",
    "\n",
    "#model = keras.models.Sequential([td_encoding, simple_rnn, dense], name = \"Simple_RNN_Dense_output_with_Encoding\")\n",
    "#model = keras.models.Sequential([td_encoding, gru, dense], name = \"GRU_Dense_output_with_Encoding\")\n",
    "model = keras.models.Sequential([td_encoding, lstm, dense], name = \"LSTM_Dense_output_with_Encoding\")\n",
    "\n",
    "model.compile(optimizer = keras.optimizers.Adam(learning_rate = lr_0), \n",
    "              loss = 'sparse_categorical_crossentropy', metrics = ['sparse_categorical_accuracy'])\n",
    "\n",
    "early_stopping_cb = keras.callbacks.EarlyStopping(patience = 5, min_delta = .01, restore_best_weights = True, verbose = True)\n",
    "log_dir = get_tensorboard_logdir()\n",
    "tensorboard_cb = keras.callbacks.TensorBoard(log_dir = log_dir)\n",
    "\n",
    "model.summary()"
   ]
  },
  {
   "cell_type": "code",
   "execution_count": 155,
   "id": "talented-still",
   "metadata": {},
   "outputs": [
    {
     "name": "stdout",
     "output_type": "stream",
     "text": [
      "Restoring model weights from the end of the best epoch.\n",
      "Epoch 00021: early stopping\n"
     ]
    }
   ],
   "source": [
    "history = model.fit(train, epochs = epochs, verbose = 0, validation_data = valid,\n",
    "                    callbacks = [early_stopping_cb, tensorboard_cb])"
   ]
  },
  {
   "cell_type": "code",
   "execution_count": 156,
   "id": "gorgeous-warning",
   "metadata": {},
   "outputs": [
    {
     "name": "stdout",
     "output_type": "stream",
     "text": [
      "Performance on train set:\n",
      "1634/1634 [==============================] - 161s 97ms/step - loss: 1.0680 - sparse_categorical_accuracy: 0.6744\n",
      "Performance on valid set:\n",
      "133/133 [==============================] - 3s 20ms/step - loss: 1.0350 - sparse_categorical_accuracy: 0.6822: 2s - loss: 1.0289 -\n",
      "Performance on test set:\n",
      "117/117 [==============================] - 2s 20ms/step - loss: 1.1011 - sparse_categorical_accuracy: 0.6649\n",
      "Performance log:\n",
      "run__2021-03-04__18-47-08 | LSTM_Dense_output_with_Encoding | 350900 | 1.068 1.035 1.101 | 67.4% 68.2% 66.5%\n"
     ]
    },
    {
     "data": {
      "image/png": "[encoded data removed]",
      "text/plain": [
       "<Figure size 1080x216 with 2 Axes>"
      ]
     },
     "metadata": {
      "needs_background": "light"
     },
     "output_type": "display_data"
    }
   ],
   "source": [
    "print_performance(model, log_dir)\n",
    "print_history(history)"
   ]
  },
  {
   "cell_type": "markdown",
   "id": "sudden-justice",
   "metadata": {},
   "source": [
    "## One-hot encoding, stack of many recurrent layers, dense output\n",
    "* Many-to-many\n",
    "* 3 layers\n",
    "* Simple recurrent unit & GRU & LSTM\n",
    "* Dense output with bias initialization observing class proportions\n",
    "* One-hot encoding\n",
    "* **Tests with increased sequence length**\n",
    "* **Tests with increased number of units**"
   ]
  },
  {
   "cell_type": "code",
   "execution_count": 169,
   "id": "alleged-festival",
   "metadata": {},
   "outputs": [],
   "source": [
    "sequence_length = 32\n",
    "batch_size = 128\n",
    "dict_size = len(tokenizer.index_word.keys()) + 1\n",
    "recurrent_dim = 2 * dict_size\n",
    "recurrent_stack_size = 3\n",
    "type_of_recurrent_unit = \"lstm\" # \"simple_rnn\", \"gru\", \"lstm\"\n",
    "model_name = \"LSTM_stack_encoding_dense\"\n",
    "lr_0 = .001\n",
    "epochs = 100"
   ]
  },
  {
   "cell_type": "code",
   "execution_count": 170,
   "id": "furnished-canal",
   "metadata": {},
   "outputs": [],
   "source": [
    "train = make_dataset('train', tokenizer, sequence_length = sequence_length, batch_size = batch_size, batching_mode = 'recurrent_encoding')\n",
    "valid = make_dataset('valid', tokenizer, sequence_length = sequence_length, batching_mode = 'recurrent_encoding')\n",
    "test = make_dataset('test', tokenizer, sequence_length = sequence_length, batching_mode = 'recurrent_encoding')"
   ]
  },
  {
   "cell_type": "code",
   "execution_count": 171,
   "id": "laden-business",
   "metadata": {},
   "outputs": [
    {
     "name": "stdout",
     "output_type": "stream",
     "text": [
      "Model: \"LSTM_stack_encoding_dense\"\n",
      "_________________________________________________________________\n",
      "Layer (type)                 Output Shape              Param #   \n",
      "=================================================================\n",
      "TD_Encoding (TimeDistributed (None, None, 116)         0         \n",
      "_________________________________________________________________\n",
      "Recurrent_0 (LSTM)           (None, None, 232)         323872    \n",
      "_________________________________________________________________\n",
      "Recurrent_1 (LSTM)           (None, None, 232)         431520    \n",
      "_________________________________________________________________\n",
      "Recurrent_2 (LSTM)           (None, None, 232)         431520    \n",
      "_________________________________________________________________\n",
      "Dense (Dense)                (None, None, 116)         27028     \n",
      "=================================================================\n",
      "Total params: 1,213,940\n",
      "Trainable params: 1,213,940\n",
      "Non-trainable params: 0\n",
      "_________________________________________________________________\n"
     ]
    }
   ],
   "source": [
    "model = keras.models.Sequential(name = model_name)\n",
    "\n",
    "encoding = keras.layers.experimental.preprocessing.CategoryEncoding(max_tokens = dict_size, name = \"Encoding\")\n",
    "td_encoding = keras.layers.TimeDistributed(encoding, input_shape = [None, 1], name = \"TD_Encoding\")\n",
    "\n",
    "model.add(td_encoding)\n",
    "\n",
    "for unit in range(recurrent_stack_size):\n",
    "    if type_of_recurrent_unit == \"simple_rnn\":    \n",
    "        model.add(keras.layers.SimpleRNN(units = recurrent_dim, return_sequences = True, name = \"Recurrent_\"+str(unit)))\n",
    "    elif type_of_recurrent_unit == \"gru\":\n",
    "        model.add(keras.layers.GRU(units = recurrent_dim, return_sequences = True, name = \"Recurrent_\"+str(unit)))\n",
    "    elif type_of_recurrent_unit == \"lstm\":\n",
    "        model.add(keras.layers.LSTM(units = recurrent_dim, return_sequences = True, name = \"Recurrent_\"+str(unit)))\n",
    "\n",
    "dense = keras.layers.Dense(units = dict_size, activation = 'softmax', name = \"Dense\",\n",
    "                           bias_initializer = keras.initializers.Constant(bias_output_layer))              \n",
    "              \n",
    "model.add(dense)\n",
    "\n",
    "model.compile(optimizer = keras.optimizers.Adam(learning_rate = lr_0), \n",
    "              loss = 'sparse_categorical_crossentropy', metrics = ['sparse_categorical_accuracy'])\n",
    "\n",
    "early_stopping_cb = keras.callbacks.EarlyStopping(patience = 5, min_delta = .01, restore_best_weights = True, verbose = True)\n",
    "log_dir = get_tensorboard_logdir()\n",
    "tensorboard_cb = keras.callbacks.TensorBoard(log_dir = log_dir)\n",
    "\n",
    "model.summary()"
   ]
  },
  {
   "cell_type": "code",
   "execution_count": 172,
   "id": "cordless-willow",
   "metadata": {},
   "outputs": [
    {
     "name": "stdout",
     "output_type": "stream",
     "text": [
      "Restoring model weights from the end of the best epoch.\n",
      "Epoch 00016: early stopping\n"
     ]
    }
   ],
   "source": [
    "history = model.fit(train, epochs = epochs, verbose = 0, validation_data = valid,\n",
    "                    callbacks = [early_stopping_cb, tensorboard_cb])"
   ]
  },
  {
   "cell_type": "code",
   "execution_count": 173,
   "id": "employed-label",
   "metadata": {},
   "outputs": [
    {
     "name": "stdout",
     "output_type": "stream",
     "text": [
      "Performance on train set:\n",
      "1634/1634 [==============================] - 512s 312ms/step - loss: 1.0596 - sparse_categorical_accuracy: 0.6738\n",
      "Performance on valid set:\n",
      "133/133 [==============================] - 9s 71ms/step - loss: 1.0298 - sparse_categorical_accuracy: 0.6811\n",
      "Performance on test set:\n",
      "117/117 [==============================] - 8s 71ms/step - loss: 1.0936 - sparse_categorical_accuracy: 0.6640\n",
      "Performance log:\n",
      "run__2021-03-05__18-58-16 | LSTM_stack_encoding_dense | 1213940 | 1.06 1.03 1.094 | 67.4% 68.1% 66.4%\n"
     ]
    },
    {
     "data": {
      "image/png": "[encoded data removed]",
      "text/plain": [
       "<Figure size 1080x216 with 2 Axes>"
      ]
     },
     "metadata": {
      "needs_background": "light"
     },
     "output_type": "display_data"
    }
   ],
   "source": [
    "print_performance(model, log_dir)\n",
    "print_history(history)"
   ]
  },
  {
   "cell_type": "markdown",
   "id": "reverse-lender",
   "metadata": {},
   "source": [
    "## One-hot encoding, stack of many recurrent layers, layer normalization, dense output"
   ]
  },
  {
   "cell_type": "code",
   "execution_count": 13,
   "id": "serious-latin",
   "metadata": {},
   "outputs": [],
   "source": [
    "sequence_length = 128\n",
    "batch_size = 32\n",
    "dict_size = len(tokenizer.index_word.keys()) + 1\n",
    "recurrent_dim = 4 * dict_size\n",
    "recurrent_stack_size = 3\n",
    "type_of_recurrent_unit = \"gru\" # \"simple_rnn\", \"gru\", \"lstm\"\n",
    "model_name = \"GRU_LN_encoding_dense\"\n",
    "lr_0 = .001\n",
    "epochs = 100\n",
    "clip_norm = 1"
   ]
  },
  {
   "cell_type": "code",
   "execution_count": 14,
   "id": "attended-floating",
   "metadata": {},
   "outputs": [],
   "source": [
    "train = make_dataset('train', tokenizer, sequence_length = sequence_length, batch_size = batch_size, batching_mode = 'recurrent_encoding')\n",
    "valid = make_dataset('valid', tokenizer, sequence_length = sequence_length, batching_mode = 'recurrent_encoding')\n",
    "test = make_dataset('test', tokenizer, sequence_length = sequence_length, batching_mode = 'recurrent_encoding')"
   ]
  },
  {
   "cell_type": "code",
   "execution_count": 15,
   "id": "cathedral-sharp",
   "metadata": {},
   "outputs": [
    {
     "name": "stdout",
     "output_type": "stream",
     "text": [
      "Model: \"GRU_LN_encoding_dense\"\n",
      "_________________________________________________________________\n",
      "Layer (type)                 Output Shape              Param #   \n",
      "=================================================================\n",
      "TD_Encoding (TimeDistributed (None, None, 116)         0         \n",
      "_________________________________________________________________\n",
      "Recurrent_0 (RNN)            (None, None, 464)         811072    \n",
      "_________________________________________________________________\n",
      "Recurrent_1 (RNN)            (None, None, 464)         1295488   \n",
      "_________________________________________________________________\n",
      "Recurrent_2 (RNN)            (None, None, 464)         1295488   \n",
      "_________________________________________________________________\n",
      "Dense (Dense)                (None, None, 116)         53940     \n",
      "=================================================================\n",
      "Total params: 3,455,988\n",
      "Trainable params: 3,455,988\n",
      "Non-trainable params: 0\n",
      "_________________________________________________________________\n"
     ]
    }
   ],
   "source": [
    "model = keras.models.Sequential(name = model_name)\n",
    "\n",
    "encoding = keras.layers.experimental.preprocessing.CategoryEncoding(max_tokens = dict_size, name = \"Encoding\")\n",
    "td_encoding = keras.layers.TimeDistributed(encoding, input_shape = [None, 1], name = \"TD_Encoding\")\n",
    "\n",
    "model.add(td_encoding)\n",
    "\n",
    "for unit in range(recurrent_stack_size):\n",
    "    if type_of_recurrent_unit == \"simple_rnn\":    \n",
    "        # NOT YET IMPLEMENTED WITH LN\n",
    "        model.add(keras.layers.SimpleRNN(units = recurrent_dim, return_sequences = True, name = \"Recurrent_\"+str(unit)))\n",
    "    elif type_of_recurrent_unit == \"gru\":\n",
    "        model.add(keras.layers.RNN(LN_GRU_Cell(units = recurrent_dim), return_sequences = True, name = \"Recurrent_\"+str(unit)))\n",
    "    elif type_of_recurrent_unit == \"lstm\":\n",
    "        model.add(keras.layers.RNN(LN_LSTM_Cell(units = recurrent_dim), return_sequences = True, name = \"Recurrent_\"+str(unit)))\n",
    "\n",
    "dense = keras.layers.Dense(units = dict_size, activation = 'softmax', name = \"Dense\",\n",
    "                           bias_initializer = keras.initializers.Constant(bias_output_layer))              \n",
    "              \n",
    "model.add(dense)\n",
    "\n",
    "model.compile(optimizer = keras.optimizers.Adam(learning_rate = lr_0, clipnorm = clip_norm), \n",
    "              loss = 'sparse_categorical_crossentropy', metrics = ['sparse_categorical_accuracy'])\n",
    "\n",
    "early_stopping_cb = keras.callbacks.EarlyStopping(patience = 2, min_delta = .01, restore_best_weights = True, verbose = True)\n",
    "log_dir = get_tensorboard_logdir()\n",
    "tensorboard_cb = keras.callbacks.TensorBoard(log_dir = log_dir)\n",
    "\n",
    "model.summary()"
   ]
  },
  {
   "cell_type": "code",
   "execution_count": 16,
   "id": "placed-seven",
   "metadata": {},
   "outputs": [
    {
     "name": "stdout",
     "output_type": "stream",
     "text": [
      "Restoring model weights from the end of the best epoch.\n",
      "Epoch 00006: early stopping\n"
     ]
    }
   ],
   "source": [
    "history = model.fit(train, epochs = epochs, verbose = 1, validation_data = valid,\n",
    "                    callbacks = [early_stopping_cb, tensorboard_cb])"
   ]
  },
  {
   "cell_type": "code",
   "execution_count": 17,
   "id": "alleged-freight",
   "metadata": {},
   "outputs": [
    {
     "name": "stdout",
     "output_type": "stream",
     "text": [
      "Performance on train set:\n",
      "1634/1634 [==============================] - 3223s 2s/step - loss: 1.0593 - sparse_categorical_accuracy: 0.6779\n",
      "Performance on valid set:\n",
      "33/33 [==============================] - 26s 783ms/step - loss: 1.0143 - sparse_categorical_accuracy: 0.6888\n",
      "Performance on test set:\n",
      "29/29 [==============================] - 24s 815ms/step - loss: 1.0856 - sparse_categorical_accuracy: 0.6672\n",
      "Performance log:\n",
      "run__2021-03-11__19-14-45 | GRU_LN_encoding_dense | 3455988 | 1.059 1.014 1.086 | 67.8% 68.9% 66.7%\n"
     ]
    },
    {
     "data": {
      "image/png": "[encoded data removed]",
      "text/plain": [
       "<Figure size 1080x216 with 2 Axes>"
      ]
     },
     "metadata": {
      "needs_background": "light"
     },
     "output_type": "display_data"
    }
   ],
   "source": [
    "print_performance(model, log_dir)\n",
    "print_history(history)"
   ]
  },
  {
   "cell_type": "markdown",
   "id": "nuclear-secondary",
   "metadata": {},
   "source": [
    "# Stateful RNN, one-hot encoding, layer normalization"
   ]
  },
  {
   "cell_type": "code",
   "execution_count": 45,
   "id": "apart-transportation",
   "metadata": {},
   "outputs": [],
   "source": [
    "sequence_length = 32\n",
    "batch_size = 32\n",
    "dict_size = len(tokenizer.index_word.keys()) + 1\n",
    "recurrent_dim = 4 * dict_size\n",
    "recurrent_stack_size = 3\n",
    "type_of_recurrent_unit = \"gru\" # \"simple_rnn\", \"gru\", \"lstm\"\n",
    "model_name = \"Stateful_GRU_LN_encoding_dense\"\n",
    "lr_0 = .001\n",
    "epochs = 100\n",
    "clip_norm = 1"
   ]
  },
  {
   "cell_type": "code",
   "execution_count": 46,
   "id": "occasional-aside",
   "metadata": {},
   "outputs": [],
   "source": [
    "train = make_dataset('train', tokenizer, sequence_length = sequence_length, batch_size = batch_size, batching_mode = 'stateful_encoding')\n",
    "valid = make_dataset('valid', tokenizer, sequence_length = sequence_length, batching_mode = 'stateful_encoding')\n",
    "test = make_dataset('test', tokenizer, sequence_length = sequence_length, batching_mode = 'stateful_encoding')"
   ]
  },
  {
   "cell_type": "code",
   "execution_count": 47,
   "id": "illegal-deputy",
   "metadata": {},
   "outputs": [
    {
     "name": "stdout",
     "output_type": "stream",
     "text": [
      "Model: \"Stateful_GRU_LN_encoding_dense\"\n",
      "_________________________________________________________________\n",
      "Layer (type)                 Output Shape              Param #   \n",
      "=================================================================\n",
      "TD_Encoding (TimeDistributed (None, None, 116)         0         \n",
      "_________________________________________________________________\n",
      "Recurrent_0 (RNN)            (None, None, 464)         811072    \n",
      "_________________________________________________________________\n",
      "Recurrent_1 (RNN)            (None, None, 464)         1295488   \n",
      "_________________________________________________________________\n",
      "Recurrent_2 (RNN)            (None, None, 464)         1295488   \n",
      "_________________________________________________________________\n",
      "Dense (Dense)                (None, None, 116)         53940     \n",
      "=================================================================\n",
      "Total params: 3,455,988\n",
      "Trainable params: 3,455,988\n",
      "Non-trainable params: 0\n",
      "_________________________________________________________________\n"
     ]
    }
   ],
   "source": [
    "model = keras.models.Sequential(name = model_name)\n",
    "\n",
    "encoding = keras.layers.experimental.preprocessing.CategoryEncoding(max_tokens = dict_size, name = \"Encoding\")\n",
    "td_encoding = keras.layers.TimeDistributed(encoding, input_shape = [None, 1], name = \"TD_Encoding\")\n",
    "\n",
    "model.add(td_encoding)\n",
    "\n",
    "for unit in range(recurrent_stack_size):\n",
    "    if type_of_recurrent_unit == \"simple_rnn\":    \n",
    "        # NOT YET IMPLEMENTED WITH LN\n",
    "        model.add(keras.layers.SimpleRNN(units = recurrent_dim, return_sequences = True, name = \"Recurrent_\"+str(unit)))\n",
    "    elif type_of_recurrent_unit == \"gru\":\n",
    "        model.add(keras.layers.RNN(LN_GRU_Cell(units = recurrent_dim), return_sequences = True, name = \"Recurrent_\"+str(unit)))\n",
    "    elif type_of_recurrent_unit == \"lstm\":\n",
    "        model.add(keras.layers.RNN(LN_LSTM_Cell(units = recurrent_dim), return_sequences = True, name = \"Recurrent_\"+str(unit)))\n",
    "\n",
    "dense = keras.layers.Dense(units = dict_size, activation = 'softmax', name = \"Dense\",\n",
    "                           bias_initializer = keras.initializers.Constant(bias_output_layer))              \n",
    "              \n",
    "model.add(dense)\n",
    "\n",
    "model.compile(optimizer = keras.optimizers.Adam(learning_rate = lr_0, clipnorm = clip_norm), \n",
    "              loss = 'sparse_categorical_crossentropy', metrics = ['sparse_categorical_accuracy'])\n",
    "\n",
    "early_stopping_cb = keras.callbacks.EarlyStopping(patience = 2, min_delta = .01, restore_best_weights = True, verbose = True)\n",
    "terminate_on_nan_cb = keras.callbacks.TerminateOnNaN()\n",
    "log_dir = get_tensorboard_logdir()\n",
    "tensorboard_cb = keras.callbacks.TensorBoard(log_dir = log_dir)\n",
    "\n",
    "model.summary()"
   ]
  },
  {
   "cell_type": "code",
   "execution_count": 48,
   "id": "spiritual-factor",
   "metadata": {},
   "outputs": [
    {
     "name": "stdout",
     "output_type": "stream",
     "text": [
      "Epoch 1/100\n",
      "      1/Unknown - 0s 0s/step - loss: 3.7741 - sparse_categorical_accuracy: 0.0557WARNING:tensorflow:From C:\\ProgramData\\Anaconda3\\lib\\site-packages\\tensorflow\\python\\ops\\summary_ops_v2.py:1277: stop (from tensorflow.python.eager.profiler) is deprecated and will be removed after 2020-07-01.\n",
      "Instructions for updating:\n",
      "use `tf.profiler.experimental.stop` instead.\n",
      "6537/6537 [==============================] - 6898s 1s/step - loss: 1.1121 - sparse_categorical_accuracy: 0.6687 - val_loss: 1.0495 - val_sparse_categorical_accuracy: 0.6790\n",
      "Epoch 2/100\n",
      "6537/6537 [==============================] - 6547s 1s/step - loss: 1.0120 - sparse_categorical_accuracy: 0.6927 - val_loss: 0.9968 - val_sparse_categorical_accuracy: 0.6914\n",
      "Epoch 3/100\n",
      "6537/6537 [==============================] - 6639s 1s/step - loss: 0.9778 - sparse_categorical_accuracy: 0.7015 - val_loss: 0.9741 - val_sparse_categorical_accuracy: 0.6990\n",
      "Epoch 4/100\n",
      "6537/6537 [==============================] - 6398s 979ms/step - loss: 2.5308 - sparse_categorical_accuracy: 0.3278 - val_loss: 3.1856 - val_sparse_categorical_accuracy: 0.1583\n",
      "Epoch 5/100\n",
      "6537/6537 [==============================] - ETA: 0s - loss: 3.2015 - sparse_categorical_accuracy: 0.1598Restoring model weights from the end of the best epoch.\n",
      "6537/6537 [==============================] - 6199s 948ms/step - loss: 3.2015 - sparse_categorical_accuracy: 0.1598 - val_loss: 3.1797 - val_sparse_categorical_accuracy: 0.1589\n",
      "Epoch 00005: early stopping\n"
     ]
    }
   ],
   "source": [
    "history = model.fit(train, epochs = epochs, verbose = 1, validation_data = valid,\n",
    "                    callbacks = [early_stopping_cb, tensorboard_cb, terminate_on_nan_cb])"
   ]
  },
  {
   "cell_type": "code",
   "execution_count": 49,
   "id": "sweet-healing",
   "metadata": {},
   "outputs": [
    {
     "name": "stdout",
     "output_type": "stream",
     "text": [
      "Performance on train set:\n",
      "6537/6537 [==============================] - 2215s 339ms/step - loss: 1.0237 - sparse_categorical_accuracy: 0.6862\n",
      "Performance on valid set:\n",
      "124/124 [==============================] - 11s 90ms/step - loss: 0.9741 - sparse_categorical_accuracy: 0.6990\n",
      "Performance on test set:\n",
      "117/117 [==============================] - 10s 90ms/step - loss: 1.0342 - sparse_categorical_accuracy: 0.6802\n",
      "Performance log:\n",
      "run__2021-03-18__17-28-56 | Stateful_GRU_LN_encoding_dense | 3455988 | 1.024 0.974 1.034 | 68.6% 69.9% 68.0%\n"
     ]
    },
    {
     "data": {
      "image/png": "[encoded data removed]",
      "text/plain": [
       "<Figure size 1080x216 with 2 Axes>"
      ]
     },
     "metadata": {
      "needs_background": "light"
     },
     "output_type": "display_data"
    }
   ],
   "source": [
    "print_performance(model, log_dir)\n",
    "print_history(history)"
   ]
  },
  {
   "cell_type": "markdown",
   "id": "egyptian-writer",
   "metadata": {},
   "source": [
    "## Text generator"
   ]
  },
  {
   "cell_type": "code",
   "execution_count": 316,
   "id": "structural-france",
   "metadata": {},
   "outputs": [],
   "source": [
    "def convert_to_inference_model(original_model, custom_objects=None):\n",
    "    original_model_json = original_model.to_json()\n",
    "    inference_model_dict = json.loads(original_model_json)\n",
    "\n",
    "    layers = inference_model_dict['config']['layers']\n",
    "    for layer in layers:\n",
    "        if 'stateful' in layer['config']:\n",
    "            layer['config']['stateful'] = True\n",
    "\n",
    "        if 'batch_input_shape' in layer['config']:\n",
    "            layer['config']['batch_input_shape'][0] = 1\n",
    "            layer['config']['batch_input_shape'][1] = None\n",
    "\n",
    "    inference_model = keras.models.model_from_json(json.dumps(inference_model_dict), custom_objects = custom_objects)\n",
    "    inference_model.set_weights(original_model.get_weights())\n",
    "\n",
    "    return inference_model"
   ]
  },
  {
   "cell_type": "code",
   "execution_count": 317,
   "id": "altered-graphics",
   "metadata": {},
   "outputs": [],
   "source": [
    "#inference_model = convert_to_inference_model(model)\n",
    "inference_model = convert_to_inference_model(model, custom_objects = {'LN_GRU_Cell':LN_GRU_Cell})"
   ]
  },
  {
   "cell_type": "code",
   "execution_count": 318,
   "id": "scenic-kidney",
   "metadata": {},
   "outputs": [
    {
     "data": {
      "text/plain": [
       "['§   1 8 5 . 5   2   s h a l l   c o m p l y   w i t h   t h e   F u n w a y   1 s   r e q u i r e d   u n d e r   p a r t   5 6   p e r t i c i p a t i o n   f r o m   t h e   F A A . \\n h e s e l i g \\n I 5 5   d e s i g n a t i o n   c o n t r o l l e d   u n d e r   s a f e l y   p r o f e d   a s   t h e   o r g o r i n g   o f   t h e   U n i t c h a l   o f   O E E . \\n c O t e s t   o f   F l i g h t   T i m e n s i t y   m e t e r   r e a   o f   t h e   u n i n f o r m a t i o n   o n   D i s c a t i o n s   − 2 9 7 1 2   =   4 3   +   I 3 1   +   I 3 7   +   D o c u m e n t a t i v e   e d g e n   i n   s c r e p h i n g   t h e   i n f o r m a t i o n   u n d e r   t h a t   c a l e n g a l   d o r y   t h e s e   s a t i s f y i n g   t h e   p r o c e d u r e .   W h e r e   a   r e p r e s e n t a t i v g   u n i t   i s   e s s u e d   p e r t i c e s ,   p r o b u p a t u t ,   o r   a v a i l a b l e   a n d   t h e   m a i n   a p p l y i w i t h o u t   t h e   u s e r o n   o f   d e s i g n a t i o n   o f   l e v e l   I f   a n   o p e r a t i n g   e n g i n e e r i n g   i s   o r d e r s   r e g u l a t i o n s   f o r   p u r s u a n t   t o   t h e   e n d B   o f   t h i s   c h a p t e r   w i t h   r e c h a r   c h a n g e s   i n i t i a l   e n f o r c e m e n t   s u b m i t t e d   a s   p l a n n i n g   a p p l i c a t i o n ” :   \\n ( O D c )   A p p l i c a b i l i t y   t o   t h e   F A A s   o b t a i n e d   s i g n s   t o   t h e   p r o c e d u r e s   i b s t a n t s   t h e   U n i f i c a l   D o s t r e a s   o r   S D R   t o   a u t h o r i z a t i o n s   a n d   b a l a n c e   o n   t h a t   t h e   D a p a i n   A p p r o v a l   o f   t h e   C e r t i f i c a t e   o r   A i r p o r t   e n f o r c e m e n t   F e d e r a l   D r i f i n g . \\n I f i n d i c a r t y   e x p e r r e n c e   s u b m i t t a n y   s u p e r v i s i o n   t o   t h e   F A A ; \\n ( i i )   F i n d i n g   t h e   c o m p l i e s   o f']"
      ]
     },
     "execution_count": 318,
     "metadata": {},
     "output_type": "execute_result"
    }
   ],
   "source": [
    "text = ''\n",
    "sequence = [0]\n",
    "\n",
    "text = '§'\n",
    "sequence = tokenizer.texts_to_sequences([text])\n",
    "\n",
    "for _ in range(1000):\n",
    "    probs = inference_model.predict(np.array(sequence[0][-1]).reshape(1,-1,1))\n",
    "    token = np.random.choice(np.arange(dict_size), p = probs[0,-1,:])\n",
    "    sequence[0].append(token)\n",
    "\n",
    "text = tokenizer.sequences_to_texts(sequence)    \n",
    "text"
   ]
  },
  {
   "cell_type": "markdown",
   "id": "found-proposition",
   "metadata": {},
   "source": [
    "# Test the dataset for stateful RNN"
   ]
  },
  {
   "cell_type": "code",
   "execution_count": 21,
   "id": "proper-attraction",
   "metadata": {},
   "outputs": [],
   "source": [
    "sequence_length = 48\n",
    "batch_size = 4"
   ]
  },
  {
   "cell_type": "code",
   "execution_count": 22,
   "id": "beginning-peoples",
   "metadata": {},
   "outputs": [],
   "source": [
    "train = make_dataset('train', tokenizer, sequence_length = sequence_length, batch_size = batch_size, batching_mode = 'stateful_encoding')\n",
    "valid = make_dataset('valid', tokenizer, sequence_length = sequence_length, batching_mode = 'stateful_encoding')\n",
    "test = make_dataset('test', tokenizer, sequence_length = sequence_length, batching_mode = 'stateful_encoding')"
   ]
  },
  {
   "cell_type": "code",
   "execution_count": 23,
   "id": "special-operator",
   "metadata": {},
   "outputs": [
    {
     "name": "stdout",
     "output_type": "stream",
     "text": [
      "['§   1 . 1       G e n e r a l   d e f i n i t i o n s . L i n k   t o   a n   a m e n d m e n t']\n",
      "['a   s a f e   c l i m b o u t   c a n   b e   m a d e   a t   s p e e d s   a l l o w i n g   c']\n",
      "['p r o v e d   a v i a t i o n   r e d   o r   a v i a t i o n   w h i t e   a n t i c o l l i s']\n",
      "['h i c h   t h e r e   a r e   n o   d i f f e r e n c e s   i n   t h e   t y p e   d e s i g n']\n",
      "\n",
      "['  p u b l i s h e d   a t   8 6   F R   4 5 0 3 ,   J a n .   1 5 ,   2 0 2 1 . A s   u s e d  ']\n",
      "['o m p l i a n c e   w i t h   t h e   c l i m b   r e q u i r e m e n t s   o f   §   2 9 . 6 7']\n",
      "['i o n   l i g h t   s y s t e m .   I n   t h e   e v e n t   o f   f a i l u r e   o f   a n y']\n",
      "['  w i t h   r e s p e c t   t o   t h e   i n s t a l l a t i o n   o f   t h e   f i r s t   p']\n",
      "\n",
      "['i n   S u b c h a p t e r s   A   t h r o u g h   K   o f   t h i s   c h a p t e r ,   u n l e']\n",
      "['( a ) ( 1 )   a n d   ( 2 ) ;   a n d \\n ( c )   T h e   r o t o r c r a f t   d o e s   n o t  ']\n",
      "['  l i g h t   o f   t h e   a n t i c o l l i s i o n   l i g h t   s y s t e m ,   o p e r a t']\n",
      "[\"i l o t ' s   i n s t r u m e n t s   a s s o c i a t e d   w i t h   t h e   f l i g h t   r e\"]\n",
      "\n",
      "['s s   t h e   c o n t e x t   r e q u i r e s   o t h e r w i s e :   \\n A d m i n i s t r a t o']\n",
      "['d e s c e n d   b e l o w   1 5   f e e t   a b o v e   t h e   l a n d i n g   s u r f a c e .']\n",
      "['i o n   o f   t h e   a i r c r a f t   m a y   c o n t i n u e   t o   a   l o c a t i o n   w']\n",
      "['c o r d e r .   T h e   m o s t   r e c e n t   i n s t r u m e n t   c a l i b r a t i o n ,  ']\n",
      "\n",
      "['r   m e a n s   t h e   F e d e r a l   A v i a t i o n   A d m i n i s t r a t o r   o r   a n']\n",
      "['  F o r   e l e v a t e d   h e l i p o r t   o p e r a t i o n s ,   d e s c e n t   m a y   b']\n",
      "['h e r e   r e p a i r s   o r   r e p l a c e m e n t   c a n   b e   m a d e . \\n ( 1 2 )   I f']\n",
      "['i n c l u d i n g   t h e   r e c o r d i n g   m e d i u m   f r o m   w h i c h   t h i s   c']\n",
      "\n",
      "['y   p e r s o n   t o   w h o m   h e   h a s   d e l e g a t e d   h i s   a u t h o r i t y  ']\n",
      "['e   b e l o w   t h e   l e v e l   o f   t h e   l a n d i n g   s u r f a c e   p r o v i d e']\n",
      "['  t h e   a i r c r a f t   i s   o p e r a t e d   f o r   h i r e   o v e r   w a t e r   a n']\n",
      "['a l i b r a t i o n   i s   d e r i v e d ,   a n d   t h e   r e c o r d e r   c o r r e l a t']\n",
      "\n"
     ]
    }
   ],
   "source": [
    "for item in train.take(6):\n",
    "    for sequence in range(len(item[0].numpy())):\n",
    "        print(tokenizer.sequences_to_texts([item[0].numpy()[sequence]]))\n",
    "    print()"
   ]
  },
  {
   "cell_type": "code",
   "execution_count": null,
   "id": "persistent-future",
   "metadata": {},
   "outputs": [],
   "source": []
  },
  {
   "cell_type": "code",
   "execution_count": null,
   "id": "visible-tokyo",
   "metadata": {},
   "outputs": [],
   "source": []
  },
  {
   "cell_type": "code",
   "execution_count": null,
   "id": "satisfied-reward",
   "metadata": {},
   "outputs": [],
   "source": []
  },
  {
   "cell_type": "code",
   "execution_count": null,
   "id": "funky-senegal",
   "metadata": {},
   "outputs": [],
   "source": []
  },
  {
   "cell_type": "code",
   "execution_count": null,
   "id": "hungry-pennsylvania",
   "metadata": {},
   "outputs": [],
   "source": []
  },
  {
   "cell_type": "code",
   "execution_count": null,
   "id": "composite-fundamental",
   "metadata": {},
   "outputs": [],
   "source": []
  },
  {
   "cell_type": "code",
   "execution_count": 272,
   "id": "musical-jones",
   "metadata": {},
   "outputs": [
    {
     "data": {
      "text/plain": [
       "['§   1 7 6 . 1 0       D e s i g n a t i o n . \\n ( c )   T h e   s w i t c h i n g   o f   t h o s e   r e q u i r e m e n t s . ( a )   F o r   r e c e i v e s   $ ± g   d e a t . \\n 3 ° . ,   W r a s s']"
      ]
     },
     "execution_count": 272,
     "metadata": {},
     "output_type": "execute_result"
    }
   ],
   "source": [
    "text = ''\n",
    "sequence = [0]\n",
    "\n",
    "text = '§'\n",
    "sequence = tokenizer.texts_to_sequences([text])\n",
    "\n",
    "for _ in range(100):\n",
    "    probs = model.predict(np.array(sequence).reshape(1,-1,1))\n",
    "    #token = np.argmax(probs[0,-1,:])\n",
    "    token = np.random.choice(np.arange(dict_size), p = probs[0,-1,:])\n",
    "    sequence[0].append(token)\n",
    "\n",
    "text = tokenizer.sequences_to_texts(sequence)    \n",
    "text"
   ]
  },
  {
   "cell_type": "code",
   "execution_count": 268,
   "id": "metallic-parcel",
   "metadata": {},
   "outputs": [
    {
     "data": {
      "text/plain": [
       "16"
      ]
     },
     "execution_count": 268,
     "metadata": {},
     "output_type": "execute_result"
    }
   ],
   "source": [
    "np.random.choice(np.arange(dict_size), p = probs[0,-1,:])"
   ]
  },
  {
   "cell_type": "code",
   "execution_count": 259,
   "id": "cultural-apparel",
   "metadata": {},
   "outputs": [
    {
     "data": {
      "text/plain": [
       "(116,)"
      ]
     },
     "execution_count": 259,
     "metadata": {},
     "output_type": "execute_result"
    }
   ],
   "source": [
    "probs[0,-1,:].shape"
   ]
  },
  {
   "cell_type": "code",
   "execution_count": null,
   "id": "advisory-screening",
   "metadata": {},
   "outputs": [],
   "source": []
  },
  {
   "cell_type": "code",
   "execution_count": 251,
   "id": "colored-motel",
   "metadata": {},
   "outputs": [
    {
     "data": {
      "text/plain": [
       "{1: ' ',\n",
       " 2: 'e',\n",
       " 3: 't',\n",
       " 4: 'a',\n",
       " 5: 'i',\n",
       " 6: 'r',\n",
       " 7: 'n',\n",
       " 8: 'o',\n",
       " 9: 's',\n",
       " 10: 'c',\n",
       " 11: 'h',\n",
       " 12: 'd',\n",
       " 13: 'l',\n",
       " 14: 'p',\n",
       " 15: 'f',\n",
       " 16: 'u',\n",
       " 17: 'm',\n",
       " 18: 'g',\n",
       " 19: ',',\n",
       " 20: 'y',\n",
       " 21: 'b',\n",
       " 22: '.',\n",
       " 23: '1',\n",
       " 24: '\\n',\n",
       " 25: '(',\n",
       " 26: ')',\n",
       " 27: 'w',\n",
       " 28: 'v',\n",
       " 29: '2',\n",
       " 30: '0',\n",
       " 31: 'A',\n",
       " 32: '3',\n",
       " 33: '5',\n",
       " 34: '9',\n",
       " 35: 'F',\n",
       " 36: '4',\n",
       " 37: '-',\n",
       " 38: '6',\n",
       " 39: '7',\n",
       " 40: 'q',\n",
       " 41: 'T',\n",
       " 42: ';',\n",
       " 43: 'x',\n",
       " 44: 'k',\n",
       " 45: '8',\n",
       " 46: 'R',\n",
       " 47: 'S',\n",
       " 48: '§',\n",
       " 49: 'C',\n",
       " 50: 'D',\n",
       " 51: 'I',\n",
       " 52: 'E',\n",
       " 53: 'N',\n",
       " 54: 'M',\n",
       " 55: 'z',\n",
       " 56: 'P',\n",
       " 57: 'O',\n",
       " 58: ':',\n",
       " 59: 'j',\n",
       " 60: 'U',\n",
       " 61: '[',\n",
       " 62: ']',\n",
       " 63: 'B',\n",
       " 64: 'W',\n",
       " 65: \"'\",\n",
       " 66: 'L',\n",
       " 67: 'H',\n",
       " 68: 'J',\n",
       " 69: 'V',\n",
       " 70: '°',\n",
       " 71: '/',\n",
       " 72: 'G',\n",
       " 73: '′',\n",
       " 74: '”',\n",
       " 75: '“',\n",
       " 76: '″',\n",
       " 77: 'Y',\n",
       " 78: '+',\n",
       " 79: 'K',\n",
       " 80: 'X',\n",
       " 81: 'Q',\n",
       " 82: '=',\n",
       " 83: 'Z',\n",
       " 84: '−',\n",
       " 85: '*',\n",
       " 86: '±',\n",
       " 87: '$',\n",
       " 88: '?',\n",
       " 89: '_',\n",
       " 90: '%',\n",
       " 91: '≤',\n",
       " 92: '<',\n",
       " 93: 'θ',\n",
       " 94: 'δ',\n",
       " 95: 'σ',\n",
       " 96: 'β',\n",
       " 97: '&',\n",
       " 98: 'ρ',\n",
       " 99: '>',\n",
       " 100: 'ω',\n",
       " 101: '×',\n",
       " 102: 'µ',\n",
       " 103: '≥',\n",
       " 104: 'Δ',\n",
       " 105: 'Ω',\n",
       " 106: '@',\n",
       " 107: 'μ',\n",
       " 108: 'π',\n",
       " 109: '#',\n",
       " 110: '‘',\n",
       " 111: '’',\n",
       " 112: '▽',\n",
       " 113: '√',\n",
       " 114: 'Φ',\n",
       " 115: 'ξ'}"
      ]
     },
     "execution_count": 251,
     "metadata": {},
     "output_type": "execute_result"
    }
   ],
   "source": [
    "tokenizer.index_word"
   ]
  },
  {
   "cell_type": "code",
   "execution_count": null,
   "id": "pretty-syntax",
   "metadata": {},
   "outputs": [],
   "source": []
  },
  {
   "cell_type": "code",
   "execution_count": null,
   "id": "million-balloon",
   "metadata": {},
   "outputs": [],
   "source": []
  },
  {
   "cell_type": "code",
   "execution_count": null,
   "id": "smooth-carrier",
   "metadata": {},
   "outputs": [],
   "source": []
  },
  {
   "cell_type": "code",
   "execution_count": null,
   "id": "annoying-treasurer",
   "metadata": {},
   "outputs": [],
   "source": []
  },
  {
   "cell_type": "code",
   "execution_count": null,
   "id": "floral-purple",
   "metadata": {},
   "outputs": [],
   "source": []
  },
  {
   "cell_type": "code",
   "execution_count": null,
   "id": "chief-panic",
   "metadata": {},
   "outputs": [],
   "source": []
  },
  {
   "cell_type": "code",
   "execution_count": null,
   "id": "general-thomson",
   "metadata": {},
   "outputs": [],
   "source": []
  },
  {
   "cell_type": "code",
   "execution_count": null,
   "id": "intensive-source",
   "metadata": {},
   "outputs": [],
   "source": []
  },
  {
   "cell_type": "code",
   "execution_count": null,
   "id": "pretty-robert",
   "metadata": {},
   "outputs": [],
   "source": []
  },
  {
   "cell_type": "code",
   "execution_count": null,
   "id": "loving-acoustic",
   "metadata": {},
   "outputs": [],
   "source": []
  },
  {
   "cell_type": "code",
   "execution_count": null,
   "id": "rocky-circular",
   "metadata": {},
   "outputs": [],
   "source": []
  },
  {
   "cell_type": "code",
   "execution_count": null,
   "id": "mounted-lightweight",
   "metadata": {},
   "outputs": [],
   "source": []
  },
  {
   "cell_type": "code",
   "execution_count": null,
   "id": "naked-fishing",
   "metadata": {},
   "outputs": [],
   "source": []
  },
  {
   "cell_type": "code",
   "execution_count": null,
   "id": "excited-reynolds",
   "metadata": {},
   "outputs": [],
   "source": []
  },
  {
   "cell_type": "code",
   "execution_count": null,
   "id": "pharmaceutical-speaker",
   "metadata": {},
   "outputs": [],
   "source": []
  },
  {
   "cell_type": "code",
   "execution_count": null,
   "id": "angry-portal",
   "metadata": {},
   "outputs": [],
   "source": []
  },
  {
   "cell_type": "code",
   "execution_count": null,
   "id": "effective-literature",
   "metadata": {},
   "outputs": [],
   "source": []
  },
  {
   "cell_type": "markdown",
   "id": "advised-steel",
   "metadata": {},
   "source": [
    "### Generate new text"
   ]
  },
  {
   "cell_type": "code",
   "execution_count": null,
   "id": "global-device",
   "metadata": {},
   "outputs": [],
   "source": []
  },
  {
   "cell_type": "code",
   "execution_count": null,
   "id": "magnetic-amber",
   "metadata": {},
   "outputs": [],
   "source": []
  },
  {
   "cell_type": "code",
   "execution_count": null,
   "id": "arranged-welding",
   "metadata": {},
   "outputs": [],
   "source": []
  },
  {
   "cell_type": "code",
   "execution_count": null,
   "id": "outstanding-carolina",
   "metadata": {},
   "outputs": [],
   "source": []
  },
  {
   "cell_type": "code",
   "execution_count": null,
   "id": "talented-timber",
   "metadata": {},
   "outputs": [],
   "source": []
  },
  {
   "cell_type": "code",
   "execution_count": null,
   "id": "asian-brazil",
   "metadata": {},
   "outputs": [],
   "source": []
  },
  {
   "cell_type": "code",
   "execution_count": null,
   "id": "verified-cuisine",
   "metadata": {},
   "outputs": [],
   "source": []
  },
  {
   "cell_type": "code",
   "execution_count": null,
   "id": "encouraging-password",
   "metadata": {},
   "outputs": [],
   "source": []
  },
  {
   "cell_type": "code",
   "execution_count": null,
   "id": "handled-smell",
   "metadata": {},
   "outputs": [],
   "source": []
  },
  {
   "cell_type": "code",
   "execution_count": null,
   "id": "residential-identity",
   "metadata": {},
   "outputs": [],
   "source": []
  },
  {
   "cell_type": "code",
   "execution_count": null,
   "id": "addressed-permission",
   "metadata": {},
   "outputs": [],
   "source": []
  },
  {
   "cell_type": "code",
   "execution_count": null,
   "id": "micro-target",
   "metadata": {},
   "outputs": [],
   "source": []
  },
  {
   "cell_type": "code",
   "execution_count": null,
   "id": "prepared-leisure",
   "metadata": {},
   "outputs": [],
   "source": []
  },
  {
   "cell_type": "markdown",
   "id": "plastic-shell",
   "metadata": {},
   "source": [
    "# Trash"
   ]
  },
  {
   "cell_type": "code",
   "execution_count": 35,
   "id": "portuguese-object",
   "metadata": {},
   "outputs": [],
   "source": [
    "#full_text = ''\n",
    "\n",
    "#for paragraph in tokenizer.sequences_to_texts(seq):\n",
    "#    full_text += paragraph\n",
    "\n",
    "#[full_text = full_text + paragraph for paragraph in tokenizer.sequences_to_texts(seq)]\n",
    "#full_text"
   ]
  },
  {
   "cell_type": "code",
   "execution_count": 36,
   "id": "narrative-requirement",
   "metadata": {},
   "outputs": [],
   "source": [
    "# removing spaces between characters\n",
    "\n",
    "#full_text_no_spaces = ''\n",
    "\n",
    "#for i in np.arange(1,len(full_text)/2, dtype='int')*2-1:\n",
    "#    full_text_no_spaces += full_text[i]\n",
    "\n",
    "#full_text_no_spaces"
   ]
  },
  {
   "cell_type": "code",
   "execution_count": 37,
   "id": "meaningful-atmosphere",
   "metadata": {},
   "outputs": [],
   "source": [
    "#tokenizer.word_counts # count each symbol in order of appearance\n",
    "#tokenizer.word_docs # count each symbol\n",
    "#tokenizer.word_index # symbol to number dictionary"
   ]
  },
  {
   "cell_type": "code",
   "execution_count": 38,
   "id": "plain-amendment",
   "metadata": {},
   "outputs": [],
   "source": [
    "# 'texts_to_matrix',\n",
    "# 'texts_to_sequences',\n",
    "# 'texts_to_sequences_generator',\n",
    "\n",
    "#tokenizer.texts_to_matrix('ξ') # one-hot encoding of string according to .word_index()\n",
    "#tokenizer.texts_to_sequences(['assdafas', 'asdf']) # list of lists containing number corresponding to each symbol\n",
    "#for item in tokenizer.texts_to_sequences_generator(['assdafas', 'asdf', '|', 'ª', 'º']): # same as previous, as generator\n",
    "#    print('this is one item: ' + str(item))"
   ]
  },
  {
   "cell_type": "code",
   "execution_count": 39,
   "id": "retained-professional",
   "metadata": {},
   "outputs": [],
   "source": [
    "#tokenizer.sequences_to_texts(tokenizer.texts_to_sequences_generator(['assdafas', 'asdf', '|', 'ª', 'º']))\n",
    "#tokenizer.sequences_to_texts(tokenizer.texts_to_sequences(['assdafas', 'asdf', '|', 'ª', 'º']))\n",
    "#tokenizer.sequences_to_texts([[5, 6, 8, 1, 9], [78, 40, 31]]) # receive list of lists of tokens, returns strings of symbols\n",
    "\n",
    "#tokenizer.sequences_to_matrix([[1, 2, 3, 10, 115]]) # for each list, return one-hot encoding of all symbols in sequence"
   ]
  },
  {
   "cell_type": "code",
   "execution_count": null,
   "id": "concrete-berry",
   "metadata": {},
   "outputs": [],
   "source": []
  },
  {
   "cell_type": "code",
   "execution_count": 40,
   "id": "advanced-absence",
   "metadata": {},
   "outputs": [],
   "source": [
    "#with open(join('dataset','ECFR-title14.txt'), 'w', encoding='utf-8') as file:\n",
    "#    for element in root.iter():\n",
    "#        if element.tag == 'DIV8':\n",
    "#            [file.write(line) for line in element.itertext() if line[0] != '\\n']\n",
    "#            file.write('\\n\\n\\n')"
   ]
  },
  {
   "cell_type": "code",
   "execution_count": 41,
   "id": "metallic-barrier",
   "metadata": {},
   "outputs": [],
   "source": [
    "\n",
    "\n",
    "#with open(join('dataset','ECFR-title14.txt'), 'w', encoding='utf-8') as file:\n",
    "#    for element in root.iter():\n",
    "#        if element.tag == 'DIV1':\n",
    "#            if element.attrib['N'] == '4':\n",
    "#                break\n",
    "                \n",
    "#        if element.tag == 'DIV8':\n",
    "#            [file.write(line) for line in element.itertext() if line[0] != '\\n']\n",
    "#            file.write('\\n')\n",
    "                \n",
    "                \n",
    "        #[file.write(line) for line in element.itertext() if line[0] != '\\n'] # THIS IS RECURSIVE AND DOES NOT WORK"
   ]
  },
  {
   "cell_type": "code",
   "execution_count": 42,
   "id": "documentary-greene",
   "metadata": {},
   "outputs": [],
   "source": [
    "#full_corpus = open(join('dataset','ECFR-title14.txt'), 'r', encoding='utf')\n",
    "\n",
    "#train = open(join('dataset','ECFR-title14-train.txt'), 'w', encoding='utf-8')\n",
    "#valid = open(join('dataset','ECFR-title14-valid.txt'), 'w', encoding='utf-8')\n",
    "#test = open(join('dataset','ECFR-title14-test.txt'), 'w', encoding='utf-8')\n",
    "#trash = open(join('dataset', 'trash.txt'), 'w', encoding='utf-8')\n",
    "\n",
    "#partitions = np.array(['train', 'valid', 'test', 'trash'])\n",
    "#current_partition = partitions[0]\n",
    "#split_proportions = np.array([.98, .01, .01, 0]) # train, valid, test, trash\n",
    "\n",
    "#for line in full_corpus:\n",
    "#    if line[0] == '§':\n",
    "#        trash.write(line + '\\n')\n",
    "#        current_partition = np.random.choice(partitions, p=split_proportions)\n",
    "#    if current_partition == 'train':\n",
    "#        train.write(line)\n",
    "#    elif current_partition == 'valid':\n",
    "#        valid.write(line)\n",
    "#    elif current_partition == 'test':\n",
    "#        test.write(line)\n",
    "\n"
   ]
  },
  {
   "cell_type": "code",
   "execution_count": 43,
   "id": "spectacular-workplace",
   "metadata": {},
   "outputs": [],
   "source": [
    "#full_corpus.close()\n",
    "#train.close()\n",
    "#valid.close()\n",
    "#test.close()\n",
    "#trash.close()"
   ]
  },
  {
   "cell_type": "code",
   "execution_count": 44,
   "id": "incorporate-teddy",
   "metadata": {},
   "outputs": [],
   "source": [
    "#os.listdir()\n",
    "#'temp' in os.listdir()"
   ]
  },
  {
   "cell_type": "code",
   "execution_count": 45,
   "id": "pacific-cheat",
   "metadata": {},
   "outputs": [],
   "source": [
    "# alternative way to calculate the bias for the last layer - based on each token's prevalence\n",
    "\n",
    "# make a tokenizer based only on train set\n",
    "#tokenizer = keras.preprocessing.text.Tokenizer(char_level = True, lower = False, filters = '')\n",
    "#file = open(join('dataset', 'ECFR-title14-train.txt'), encoding = 'utf-8')\n",
    "#tokenizer.fit_on_texts(file)\n",
    "#file.close()\n",
    "\n",
    "# calculate bias terms for last layer according to token prevalence\n",
    "#tokens = list(tokenizer.word_index)\n",
    "#frequency = np.array([1e-12] + [tokenizer.word_counts[k] for k in tokens])\n",
    "#frequency = frequency / frequency.sum()\n",
    "#bias = (lambda y : np.array([-np.log(1/y - 1) for y in y]))(frequency)\n",
    "\n",
    "# this only makes sense in the dummy test is the bias is calculated from the prevalence\n",
    "#trained_bias = model.layers[1](np.zeros((1,dict_size))).numpy().flatten()\n",
    "#plt.plot(bias, trained_bias, 'bo')\n",
    "#plt.yscale('log')"
   ]
  },
  {
   "cell_type": "code",
   "execution_count": null,
   "id": "brilliant-contamination",
   "metadata": {},
   "outputs": [],
   "source": []
  },
  {
   "cell_type": "code",
   "execution_count": null,
   "id": "baking-international",
   "metadata": {},
   "outputs": [],
   "source": []
  }
 ],
 "metadata": {
  "kernelspec": {
   "display_name": "Python 3",
   "language": "python",
   "name": "python3"
  },
  "language_info": {
   "codemirror_mode": {
    "name": "ipython",
    "version": 3
   },
   "file_extension": ".py",
   "mimetype": "text/x-python",
   "name": "python",
   "nbconvert_exporter": "python",
   "pygments_lexer": "ipython3",
   "version": "3.8.5"
  }
 },
 "nbformat": 4,
 "nbformat_minor": 5
}
