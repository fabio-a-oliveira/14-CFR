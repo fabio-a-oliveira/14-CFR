{
 "cells": [
  {
   "cell_type": "code",
   "execution_count": 10,
   "id": "weekly-necessity",
   "metadata": {},
   "outputs": [],
   "source": [
    "import xml.etree.ElementTree as ET\n",
    "from os import listdir, mkdir\n",
    "from os.path import join"
   ]
  },
  {
   "cell_type": "code",
   "execution_count": 11,
   "id": "informational-grounds",
   "metadata": {},
   "outputs": [],
   "source": [
    "filepath = join('dataset', 'ECFR-title14.xml') # file already fetched from https://www.govinfo.gov/bulkdata/ECFR/title-14/ECFR-title14.xml\n",
    "tree = ET.parse(filepath)\n",
    "root = tree.getroot()"
   ]
  },
  {
   "cell_type": "code",
   "execution_count": 12,
   "id": "occupational-bronze",
   "metadata": {},
   "outputs": [],
   "source": [
    "if 'temp' not in listdir():\n",
    "    mkdir('temp')\n",
    "\n",
    "filepath = join('temp', 'ECFR-title14.txt')"
   ]
  },
  {
   "cell_type": "code",
   "execution_count": 13,
   "id": "regulated-letter",
   "metadata": {},
   "outputs": [],
   "source": [
    "with open(filepath, 'w', encoding='utf-8') as file:\n",
    "    for element in root.iter():\n",
    "        if element.tag == 'DIV1':\n",
    "            if element.attrib['N'] == '3':\n",
    "                break\n",
    "        [file.write(line) for line in element.itertext() if line[0] != '\\n']\n",
    "        #[print(line) for line in element.itertext() if line[0] != '\\n']"
   ]
  },
  {
   "cell_type": "markdown",
   "id": "presidential-hotel",
   "metadata": {},
   "source": [
    "### Trash"
   ]
  },
  {
   "cell_type": "code",
   "execution_count": 5,
   "id": "treated-cookie",
   "metadata": {},
   "outputs": [
    {
     "ename": "NameError",
     "evalue": "name 'os' is not defined",
     "output_type": "error",
     "traceback": [
      "\u001b[1;31m---------------------------------------------------------------------------\u001b[0m",
      "\u001b[1;31mNameError\u001b[0m                                 Traceback (most recent call last)",
      "\u001b[1;32m<ipython-input-5-67fdccf289bf>\u001b[0m in \u001b[0;36m<module>\u001b[1;34m\u001b[0m\n\u001b[1;32m----> 1\u001b[1;33m \u001b[0mos\u001b[0m\u001b[1;33m.\u001b[0m\u001b[0mlistdir\u001b[0m\u001b[1;33m(\u001b[0m\u001b[1;33m)\u001b[0m\u001b[1;33m\u001b[0m\u001b[1;33m\u001b[0m\u001b[0m\n\u001b[0m",
      "\u001b[1;31mNameError\u001b[0m: name 'os' is not defined"
     ]
    }
   ],
   "source": [
    "os.listdir()"
   ]
  },
  {
   "cell_type": "code",
   "execution_count": null,
   "id": "chief-magic",
   "metadata": {},
   "outputs": [],
   "source": [
    "'temp' in os.listdir()"
   ]
  },
  {
   "cell_type": "code",
   "execution_count": null,
   "id": "inclusive-donor",
   "metadata": {},
   "outputs": [],
   "source": []
  }
 ],
 "metadata": {
  "kernelspec": {
   "display_name": "Python 3",
   "language": "python",
   "name": "python3"
  },
  "language_info": {
   "codemirror_mode": {
    "name": "ipython",
    "version": 3
   },
   "file_extension": ".py",
   "mimetype": "text/x-python",
   "name": "python",
   "nbconvert_exporter": "python",
   "pygments_lexer": "ipython3",
   "version": "3.8.5"
  }
 },
 "nbformat": 4,
 "nbformat_minor": 5
}
